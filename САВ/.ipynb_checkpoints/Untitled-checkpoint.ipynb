{
 "cells": [
  {
   "cell_type": "code",
   "execution_count": 2,
   "metadata": {},
   "outputs": [
    {
     "data": {
      "text/html": [
       "<html><script type=\"math/tex; mode=display\">\\newcommand{\\Bold}[1]{\\mathbf{#1}}\\frac{a - b}{c + d} = \\frac{a}{c} - \\frac{b}{d}</script></html>"
      ],
      "text/latex": [
       "\\begin{math}\n",
       "\\newcommand{\\Bold}[1]{\\mathbf{#1}}\\frac{a - b}{c + d} = \\frac{a}{c} - \\frac{b}{d}\n",
       "\\end{math}"
      ],
      "text/plain": [
       "(a - b)/(c + d) == a/c - b/d"
      ]
     },
     "metadata": {},
     "output_type": "display_data"
    }
   ],
   "source": [
    "var(\"a b c d\")\n",
    "f = (a-b)/(c+d)\n",
    "g = a/c - b/d\n",
    "\n",
    "show(f == g)"
   ]
  },
  {
   "cell_type": "code",
   "execution_count": 8,
   "metadata": {},
   "outputs": [
    {
     "data": {
      "text/html": [
       "<html><script type=\"math/tex; mode=display\">\\newcommand{\\Bold}[1]{\\mathbf{#1}}a = \\frac{b c^{2}}{d^{2}}</script></html>"
      ],
      "text/latex": [
       "\\begin{math}\n",
       "\\newcommand{\\Bold}[1]{\\mathbf{#1}}a = \\frac{b c^{2}}{d^{2}}\n",
       "\\end{math}"
      ],
      "text/plain": [
       "a == b*c^2/d^2"
      ]
     },
     "metadata": {},
     "output_type": "display_data"
    }
   ],
   "source": [
    "a1 = solve(f==g, a)[0]\n",
    "show(a1)"
   ]
  },
  {
   "cell_type": "code",
   "execution_count": 18,
   "metadata": {},
   "outputs": [
    {
     "data": {
      "text/html": [
       "<html><script type=\"math/tex; mode=display\">\\newcommand{\\Bold}[1]{\\mathbf{#1}}\\frac{b {\\left(c - d\\right)}}{d^{2}} = \\frac{b {\\left(c - d\\right)}}{d^{2}}</script></html>"
      ],
      "text/latex": [
       "\\begin{math}\n",
       "\\newcommand{\\Bold}[1]{\\mathbf{#1}}\\frac{b {\\left(c - d\\right)}}{d^{2}} = \\frac{b {\\left(c - d\\right)}}{d^{2}}\n",
       "\\end{math}"
      ],
      "text/plain": [
       "b*(c - d)/d^2 == b*(c - d)/d^2"
      ]
     },
     "metadata": {},
     "output_type": "display_data"
    }
   ],
   "source": [
    "f1 = f.subs({a: a1.rhs()}).simplify_full().factor()\n",
    "g1 = g.subs({a: a1.rhs()}).simplify_full().factor()\n",
    "show(f1 == g1)"
   ]
  },
  {
   "cell_type": "code",
   "execution_count": 64,
   "metadata": {},
   "outputs": [
    {
     "data": {
      "text/html": [
       "<html><script type=\"math/tex; mode=display\">\\newcommand{\\Bold}[1]{\\mathbf{#1}}\\begin{equation*}\\begin{cases}a = k_{1} k_{3}^{2}\\newline b = d^{2} k_{1}\\newline c = k_{3}\\end{cases}\\end{equation*}</script></html>"
      ],
      "text/latex": [
       "\\begin{math}\n",
       "\\newcommand{\\Bold}[1]{\\mathbf{#1}}\\begin{equation*}\\begin{cases}a = k_{1} k_{3}^{2}\\newline b = d^{2} k_{1}\\newline c = k_{3}\\end{cases}\\end{equation*}\n",
       "\\end{math}"
      ],
      "text/plain": [
       "\\begin{equation*}\\begin{cases}a = k_{1} k_{3}^{2}\\newline b = d^{2} k_{1}\\newline c = k_{3}\\end{cases}\\end{equation*}"
      ]
     },
     "metadata": {},
     "output_type": "display_data"
    },
    {
     "data": {
      "text/html": [
       "<html><script type=\"math/tex; mode=display\">\\newcommand{\\Bold}[1]{\\mathbf{#1}}\\mathit{res} = -d k_{1} + k_{1} k_{3}</script></html>"
      ],
      "text/latex": [
       "\\begin{math}\n",
       "\\newcommand{\\Bold}[1]{\\mathbf{#1}}\\mathit{res} = -d k_{1} + k_{1} k_{3}\n",
       "\\end{math}"
      ],
      "text/plain": [
       "res == -d*k1 + k1*k3"
      ]
     },
     "metadata": {},
     "output_type": "display_data"
    },
    {
     "data": {
      "text/html": [
       "<html><script type=\"math/tex; mode=display\">\\newcommand{\\Bold}[1]{\\mathbf{#1}}\\begin{equation*}\\begin{cases}a = d k_{2} k_{3}^{2}\\newline b = d k_{2}\\newline c = d k_{3}\\end{cases}\\end{equation*}</script></html>"
      ],
      "text/latex": [
       "\\begin{math}\n",
       "\\newcommand{\\Bold}[1]{\\mathbf{#1}}\\begin{equation*}\\begin{cases}a = d k_{2} k_{3}^{2}\\newline b = d k_{2}\\newline c = d k_{3}\\end{cases}\\end{equation*}\n",
       "\\end{math}"
      ],
      "text/plain": [
       "\\begin{equation*}\\begin{cases}a = d k_{2} k_{3}^{2}\\newline b = d k_{2}\\newline c = d k_{3}\\end{cases}\\end{equation*}"
      ]
     },
     "metadata": {},
     "output_type": "display_data"
    },
    {
     "data": {
      "text/html": [
       "<html><script type=\"math/tex; mode=display\">\\newcommand{\\Bold}[1]{\\mathbf{#1}}\\mathit{res} = k_{2} k_{3} - k_{2}</script></html>"
      ],
      "text/latex": [
       "\\begin{math}\n",
       "\\newcommand{\\Bold}[1]{\\mathbf{#1}}\\mathit{res} = k_{2} k_{3} - k_{2}\n",
       "\\end{math}"
      ],
      "text/plain": [
       "res == k2*k3 - k2"
      ]
     },
     "metadata": {},
     "output_type": "display_data"
    }
   ],
   "source": [
    "var(\"k1 k2 k3 res\")\n",
    "\n",
    "show(LatexExpr('''\\\\begin{equation*}\\\\begin{cases}''' + '\\\\newline '.join(\n",
    "    [latex(a1.lhs() == a1.rhs().subs({b: k1*d**2, c: k3})), \n",
    "    latex(b == k1*d**2),\n",
    "    latex(c == k3)]) + '''\\\\end{cases}\\\\end{equation*}'''))\n",
    "\n",
    "show(res == f1.subs({b: k1*d**2, c: k3}).simplify_full())\n",
    "\n",
    "\n",
    "\n",
    "show(LatexExpr('''\\\\begin{equation*}\\\\begin{cases}''' + '\\\\newline '.join(\n",
    "    [latex(a1.lhs() == a1.rhs().subs({b: k2*d, c: k3*d})), \n",
    "    latex(b == k2*d),\n",
    "    latex(c == k3*d)]) + '''\\\\end{cases}\\\\end{equation*}'''))\n",
    "\n",
    "show(res == f1.subs({b: k2*d, c: k3*d}).simplify_full())"
   ]
  },
  {
   "cell_type": "code",
   "execution_count": null,
   "metadata": {},
   "outputs": [],
   "source": []
  }
 ],
 "metadata": {
  "kernelspec": {
   "display_name": "SageMath 9.2",
   "language": "sage",
   "name": "sagemath"
  },
  "language_info": {
   "codemirror_mode": {
    "name": "ipython",
    "version": 3
   },
   "file_extension": ".py",
   "mimetype": "text/x-python",
   "name": "python",
   "nbconvert_exporter": "python",
   "pygments_lexer": "ipython3",
   "version": "3.7.7"
  }
 },
 "nbformat": 4,
 "nbformat_minor": 4
}
