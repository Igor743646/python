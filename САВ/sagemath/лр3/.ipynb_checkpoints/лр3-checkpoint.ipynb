{
 "cells": [
  {
   "cell_type": "code",
   "execution_count": 4,
   "metadata": {},
   "outputs": [],
   "source": [
    "import numpy as np\n",
    "from random import randint"
   ]
  },
  {
   "cell_type": "markdown",
   "metadata": {},
   "source": [
    "<h3>1. Модель \"Хищник - жертва\"</h3>"
   ]
  },
  {
   "cell_type": "code",
   "execution_count": 5,
   "metadata": {},
   "outputs": [
    {
     "data": {
      "application/vnd.jupyter.widget-view+json": {
       "model_id": "90176aeafb6d4d3797d6e3a520cf12ac",
       "version_major": 2,
       "version_minor": 0
      },
      "text/plain": [
       "Interactive function <function _ at 0x6fff36a155f0> with 3 widgets\n",
       "  a: FloatSlider(value=3.0, description='a'…"
      ]
     },
     "metadata": {},
     "output_type": "display_data"
    }
   ],
   "source": [
    "@interact\n",
    "def _(a = (1, 5, 0.1), c = (1, 5, 0.1), d = (1, 5, 0.1)):\n",
    "    t = np.linspace(0, 10, 300)\n",
    "    y0 = [2, 1]\n",
    "\n",
    "    var(\"x y\")\n",
    "    pt = plot(0, (x, 0, 3), color='black')\n",
    "\n",
    "    for b in range(4,1,-1):\n",
    "        f = [x*(a-b*y), \n",
    "             y*(-c+d*x)]\n",
    "        sol = desolve_odeint(f, y0, t, dvars=[x, y])\n",
    "        pt += line(sol, rgbcolor=(randint(0,256)/256,randint(0,256)/256,randint(0,256)/256))\n",
    "\n",
    "    show(pt, aspect_ratio = 1)"
   ]
  },
  {
   "cell_type": "markdown",
   "metadata": {},
   "source": [
    "<h3>2. Движение тела, брошенного под углом</h3>"
   ]
  },
  {
   "cell_type": "code",
   "execution_count": 6,
   "metadata": {},
   "outputs": [
    {
     "data": {
      "application/vnd.jupyter.widget-view+json": {
       "model_id": "9060075705e64145aef9565a7b8ed512",
       "version_major": 2,
       "version_minor": 0
      },
      "text/plain": [
       "Interactive function <function _ at 0x6fff318fe830> with 3 widgets\n",
       "  v0: FloatSlider(value=10.0, description='…"
      ]
     },
     "metadata": {},
     "output_type": "display_data"
    }
   ],
   "source": [
    "g = 9.81\n",
    "\n",
    "@interact\n",
    "def _(v0 = (1, 20, 0.1), alph = (0.1, np.pi/2, 0.01), k = (0.01, 1, 0.01)):\n",
    "    t = np.linspace(0, 7, 300)\n",
    "    y0 = [0, v0*np.cos(alph), 0, v0*np.sin(alph)]\n",
    "\n",
    "    var(\"y1 y2 y3 y4\")\n",
    "    pt = plot(0, (x, 0, 3), color='black')\n",
    "    \n",
    "    f = [y2, \n",
    "         -k*y2*sqrt(y2**2 + y4**2), \n",
    "         y4, \n",
    "         -k*y4*sqrt(y2**2 + y4**2) - g]\n",
    "\n",
    "    sol = desolve_odeint(f, y0, t, dvars=[y1, y2, y3, y4])\n",
    "    \n",
    "    pt += line(zip(sol[:,0], sol[:,2]), color = 'black')\n",
    "    xh, yh = sol[:,0][np.argmax(sol[:,2])], max(sol[:,2])\n",
    "    pt += line([(xh,0), (xh, yh)], linestyle = '--', color = 'black')\n",
    "    pt += text('$h_{max}$', (xh + 0.1, yh/2), color = 'black')\n",
    "\n",
    "    show(pt,  ymin = 0 + 1e-2, aspect_ratio = 'auto')"
   ]
  }
 ],
 "metadata": {
  "kernelspec": {
   "display_name": "SageMath 9.2",
   "language": "sage",
   "name": "sagemath"
  },
  "language_info": {
   "codemirror_mode": {
    "name": "ipython",
    "version": 3
   },
   "file_extension": ".py",
   "mimetype": "text/x-python",
   "name": "python",
   "nbconvert_exporter": "python",
   "pygments_lexer": "ipython3",
   "version": "3.7.7"
  }
 },
 "nbformat": 4,
 "nbformat_minor": 4
}
