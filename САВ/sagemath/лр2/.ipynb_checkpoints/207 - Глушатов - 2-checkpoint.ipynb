{
 "cells": [
  {
   "cell_type": "markdown",
   "metadata": {},
   "source": [
    "<h2>Численные методы - Вариант 2</h2>"
   ]
  },
  {
   "cell_type": "code",
   "execution_count": 47,
   "metadata": {},
   "outputs": [
    {
     "data": {
      "text/plain": [
       "x"
      ]
     },
     "execution_count": 47,
     "metadata": {},
     "output_type": "execute_result"
    }
   ],
   "source": [
    "var(\"x\", domain = 'real')"
   ]
  },
  {
   "cell_type": "code",
   "execution_count": 48,
   "metadata": {},
   "outputs": [
    {
     "data": {
      "text/html": [
       "<html><script type=\"math/tex; mode=display\">\\newcommand{\\Bold}[1]{\\mathbf{#1}}x \\ {\\mapsto}\\ \\frac{\\log\\left(x - 2\\right) + 1}{x - 2}</script></html>"
      ],
      "text/latex": [
       "\\begin{math}\n",
       "\\newcommand{\\Bold}[1]{\\mathbf{#1}}x \\ {\\mapsto}\\ \\frac{\\log\\left(x - 2\\right) + 1}{x - 2}\n",
       "\\end{math}"
      ],
      "text/plain": [
       "x |--> (log(x - 2) + 1)/(x - 2)"
      ]
     },
     "metadata": {},
     "output_type": "display_data"
    }
   ],
   "source": [
    "y(x) = (ln(x-2) + 1) / (x - 2)\n",
    "show(y)"
   ]
  },
  {
   "cell_type": "code",
   "execution_count": 49,
   "metadata": {},
   "outputs": [
    {
     "data": {
      "image/png": "[encoded data removed]",
      "text/plain": [
       "Graphics object consisting of 1 graphics primitive"
      ]
     },
     "metadata": {},
     "output_type": "display_data"
    }
   ],
   "source": [
    "g = plot(y, (x,2,8), ymin=-8, ymax=3)\n",
    "show(g)"
   ]
  },
  {
   "cell_type": "code",
   "execution_count": 50,
   "metadata": {},
   "outputs": [],
   "source": [
    "import numpy as np\n",
    "\n",
    "def rectangle_method(f, a, b, STEP, graph = False):\n",
    "    area = 0\n",
    "    \n",
    "    pl = Graphics()\n",
    "    \n",
    "    if graph:\n",
    "        \n",
    "        x1 = a;\n",
    "        x2 = a + STEP;\n",
    "        \n",
    "        for i in np.arange(0.0, (b-a) / STEP):\n",
    "            \n",
    "            pl += polygon2d([[x1, 0], \n",
    "                             [x2, 0], \n",
    "                             [x2, f(x = a + STEP * (i + .5))], \n",
    "                             [x1, f(x = a + STEP * (i + .5))], \n",
    "                             [x1, 0]], \n",
    "                             rgbcolor=(7/8,1/4,3/4), fill=False, thickness=1.5, alpha = 0.5)\n",
    "            \n",
    "            area += f(x = a + STEP * (i + .5))\n",
    "            x1 = x2\n",
    "            x2 += STEP\n",
    "    else:\n",
    "        for i in np.arange(0.0, (b-a) / STEP):\n",
    "            area += f(x = a + STEP * (i + .5))\n",
    "            \n",
    "    return STEP * area, plot(f, xmin=a, xmax=b, legend_label = STEP * area) + pl"
   ]
  },
  {
   "cell_type": "code",
   "execution_count": 51,
   "metadata": {},
   "outputs": [],
   "source": [
    "import numpy as np\n",
    "\n",
    "def trapezoid_method(f, a, b, STEP, graph = False):\n",
    "    area = 0\n",
    "    \n",
    "    pl = Graphics() \n",
    "    \n",
    "    if graph:\n",
    "        \n",
    "        x1 = a;\n",
    "        x2 = a + STEP;\n",
    "        \n",
    "        for i in np.arange(0.0, (b-a)/STEP):\n",
    "            \n",
    "            pl += polygon2d([[x1, 0], \n",
    "                             [x2, 0], \n",
    "                             [x2, f(x = x2)], \n",
    "                             [x1, f(x = x1)], \n",
    "                             [x1, 0]], \n",
    "                             rgbcolor=(7/8,1/4,3/4), fill=False, thickness=1.5, alpha = 0.5)\n",
    "\n",
    "            area += (.5 * STEP * (f(x = x1) + f(x = x2)))\n",
    "            x1 = x2\n",
    "            x2 += STEP\n",
    "\n",
    "    else:\n",
    "        x1 = a;\n",
    "        x2 = a + STEP;\n",
    "        \n",
    "        for i in np.arange(0.0, (b-a)/STEP):\n",
    "            area += (.5 * STEP * (f(x = x1) + f(x = x2)))\n",
    "            x1 = x2\n",
    "            x2 += STEP\n",
    "            \n",
    "    return area, plot(f, xmin=a, xmax=b, legend_label = area) + pl"
   ]
  },
  {
   "cell_type": "code",
   "execution_count": 52,
   "metadata": {},
   "outputs": [
    {
     "data": {
      "application/vnd.jupyter.widget-view+json": {
       "model_id": "1632da7373c2467aa7e03c2198804956",
       "version_major": 2,
       "version_minor": 0
      },
      "text/plain": [
       "Interactive function <function _ at 0x6fff4d4e3a70> with 3 widgets\n",
       "  A: FloatSlider(value=3.0, description='A'…"
      ]
     },
     "metadata": {},
     "output_type": "display_data"
    }
   ],
   "source": [
    "@interact\n",
    "def _(A = (2, 4, 0.001), B = (3, 8, 0.001), STEP = (0.0005, 0.1, 0.0005)):\n",
    "    if A == B:\n",
    "        show(LatexExpr(f\"\\\\int_A^B y(x)dx = \"), y.integral(x, A, B).n())\n",
    "        graphics_array([[plot(y, (x,2,8), ymin=-8, ymax=3, legend_label = '0'), \n",
    "                         plot(y, (x,2,8), ymin=-8, ymax=3, legend_label = '0')]]).show(figsize=14, aspect_ratio='automatic', frame=True, axes=False)\n",
    "        return\n",
    "    area_rec_met, pl1 = rectangle_method(y, A, B, STEP, True)\n",
    "    area_trap_met, pl2 = trapezoid_method(y, A, B, STEP, True)\n",
    "    show(LatexExpr(f\"\\\\int_A^B y(x)dx = \"), y.integral(x, A, B).n())\n",
    "    graphics_array([[pl1, pl2]]).show(figsize=14, aspect_ratio='automatic', frame=True, axes=False)"
   ]
  },
  {
   "cell_type": "markdown",
   "metadata": {},
   "source": [
    "<h2>НОД - Вариант 2</h2>\n"
   ]
  },
  {
   "cell_type": "code",
   "execution_count": 53,
   "metadata": {},
   "outputs": [],
   "source": [
    "R.<x> = QQ[]"
   ]
  },
  {
   "cell_type": "code",
   "execution_count": 54,
   "metadata": {},
   "outputs": [
    {
     "data": {
      "text/html": [
       "<html><script type=\"math/tex; mode=display\">\\newcommand{\\Bold}[1]{\\mathbf{#1}}f = x^4 - 4*x^3 + 7*x^2 - 5*x + 1</script></html>"
      ],
      "text/latex": [
       "\\begin{math}\n",
       "\\newcommand{\\Bold}[1]{\\mathbf{#1}}f = x^4 - 4*x^3 + 7*x^2 - 5*x + 1\n",
       "\\end{math}"
      ],
      "text/plain": [
       "f = x^4 - 4*x^3 + 7*x^2 - 5*x + 1"
      ]
     },
     "metadata": {},
     "output_type": "display_data"
    },
    {
     "data": {
      "text/html": [
       "<html><script type=\"math/tex; mode=display\">\\newcommand{\\Bold}[1]{\\mathbf{#1}}g = x^5 - x^4 - x^3 + x^2 + 5*x - 5</script></html>"
      ],
      "text/latex": [
       "\\begin{math}\n",
       "\\newcommand{\\Bold}[1]{\\mathbf{#1}}g = x^5 - x^4 - x^3 + x^2 + 5*x - 5\n",
       "\\end{math}"
      ],
      "text/plain": [
       "g = x^5 - x^4 - x^3 + x^2 + 5*x - 5"
      ]
     },
     "metadata": {},
     "output_type": "display_data"
    }
   ],
   "source": [
    "f = x^4 - 4*x^3 + 7*x^2 - 5*x + 1\n",
    "g = x^5 - x^4 - x^3 + x^2 + 5*x - 5\n",
    "show(LatexExpr(\"f = \") + f)\n",
    "show(LatexExpr(\"g = \") + g)"
   ]
  },
  {
   "cell_type": "code",
   "execution_count": 55,
   "metadata": {},
   "outputs": [],
   "source": [
    "def extended_gcd(a, b):\n",
    "    if a == 0: \n",
    "        return b, 0, 1\n",
    "    else:\n",
    "        d, x1, y1 = extended_gcd(b%a, a)\n",
    "        return (d, y1 - (b // a) * x1, x1)"
   ]
  },
  {
   "cell_type": "markdown",
   "metadata": {},
   "source": [
    "__НОД, полученный расширенным алгоритмом Евклида:__"
   ]
  },
  {
   "cell_type": "code",
   "execution_count": 56,
   "metadata": {},
   "outputs": [
    {
     "data": {
      "text/html": [
       "<html><script type=\"math/tex; mode=display\">\\newcommand{\\Bold}[1]{\\mathbf{#1}}НОД(f, g) =  \\left(\\frac{1936}{441}\\right) \\cdot (x - 1)</script></html>"
      ],
      "text/latex": [
       "\\begin{math}\n",
       "\\newcommand{\\Bold}[1]{\\mathbf{#1}}НОД(f, g) =  \\left(\\frac{1936}{441}\\right) \\cdot (x - 1)\n",
       "\\end{math}"
      ],
      "text/plain": [
       "НОД(f, g) =  (1936/441) * (x - 1)"
      ]
     },
     "metadata": {},
     "output_type": "display_data"
    }
   ],
   "source": [
    "r, u, v = extended_gcd(f, g)\n",
    "show(LatexExpr(\"НОД(f, g) = \"), factor(r))"
   ]
  },
  {
   "cell_type": "markdown",
   "metadata": {},
   "source": [
    "__НОД, полученный встроенным методом gcd:__"
   ]
  },
  {
   "cell_type": "code",
   "execution_count": 57,
   "metadata": {},
   "outputs": [
    {
     "data": {
      "text/html": [
       "<html><script type=\"math/tex; mode=display\">\\newcommand{\\Bold}[1]{\\mathbf{#1}}НОД(f, g) =  x - 1</script></html>"
      ],
      "text/latex": [
       "\\begin{math}\n",
       "\\newcommand{\\Bold}[1]{\\mathbf{#1}}НОД(f, g) =  x - 1\n",
       "\\end{math}"
      ],
      "text/plain": [
       "НОД(f, g) =  x - 1"
      ]
     },
     "metadata": {},
     "output_type": "display_data"
    }
   ],
   "source": [
    "show(LatexExpr(\"НОД(f, g) = \"), f.gcd(g))"
   ]
  },
  {
   "cell_type": "markdown",
   "metadata": {},
   "source": [
    "__Результаты отличаются на константу__"
   ]
  },
  {
   "cell_type": "code",
   "execution_count": 58,
   "metadata": {},
   "outputs": [
    {
     "data": {
      "text/html": [
       "<html><script type=\"math/tex; mode=display\">\\newcommand{\\Bold}[1]{\\mathbf{#1}}\\frac{1936}{441}</script></html>"
      ],
      "text/latex": [
       "\\begin{math}\n",
       "\\newcommand{\\Bold}[1]{\\mathbf{#1}}\\frac{1936}{441}\n",
       "\\end{math}"
      ],
      "text/plain": [
       "1936/441"
      ]
     },
     "metadata": {},
     "output_type": "display_data"
    }
   ],
   "source": [
    "show(r / f.gcd(g))"
   ]
  },
  {
   "cell_type": "markdown",
   "metadata": {},
   "source": [
    "__Представление НОД в виде тождества Безу:__ $f*u + g*v = НОД(f, g)$:"
   ]
  },
  {
   "cell_type": "code",
   "execution_count": 59,
   "metadata": {},
   "outputs": [
    {
     "data": {
      "text/html": [
       "<html><script type=\"math/tex; mode=display\">\\newcommand{\\Bold}[1]{\\mathbf{#1}}(x^4 - 4*x^3 + 7*x^2 - 5*x + 1)*(-16/21*x^3 - 128/441*x^2 + 656/441*x + 1264/441) +</script></html>"
      ],
      "text/latex": [
       "\\begin{math}\n",
       "\\newcommand{\\Bold}[1]{\\mathbf{#1}}(x^4 - 4*x^3 + 7*x^2 - 5*x + 1)*(-16/21*x^3 - 128/441*x^2 + 656/441*x + 1264/441) +\n",
       "\\end{math}"
      ],
      "text/plain": [
       "(x^4 - 4*x^3 + 7*x^2 - 5*x + 1)*(-16/21*x^3 - 128/441*x^2 + 656/441*x + 1264/441) +"
      ]
     },
     "metadata": {},
     "output_type": "display_data"
    },
    {
     "data": {
      "text/html": [
       "<html><script type=\"math/tex; mode=display\">\\newcommand{\\Bold}[1]{\\mathbf{#1}}+ (x^5 - x^4 - x^3 + x^2 + 5*x - 5)*(16/21*x^2 - 880/441*x + 640/441) = 1936/441*x - 1936/441</script></html>"
      ],
      "text/latex": [
       "\\begin{math}\n",
       "\\newcommand{\\Bold}[1]{\\mathbf{#1}}+ (x^5 - x^4 - x^3 + x^2 + 5*x - 5)*(16/21*x^2 - 880/441*x + 640/441) = 1936/441*x - 1936/441\n",
       "\\end{math}"
      ],
      "text/plain": [
       "+ (x^5 - x^4 - x^3 + x^2 + 5*x - 5)*(16/21*x^2 - 880/441*x + 640/441) = 1936/441*x - 1936/441"
      ]
     },
     "metadata": {},
     "output_type": "display_data"
    }
   ],
   "source": [
    "show( LatexExpr(f\"({f})*({u}) +\"))\n",
    "show( LatexExpr(f\"+ ({g})*({v}) = {r}\"))"
   ]
  }
 ],
 "metadata": {
  "kernelspec": {
   "display_name": "SageMath 9.2",
   "language": "sage",
   "name": "sagemath"
  },
  "language_info": {
   "codemirror_mode": {
    "name": "ipython",
    "version": 3
   },
   "file_extension": ".py",
   "mimetype": "text/x-python",
   "name": "python",
   "nbconvert_exporter": "python",
   "pygments_lexer": "ipython3",
   "version": "3.7.7"
  }
 },
 "nbformat": 4,
 "nbformat_minor": 2
}
