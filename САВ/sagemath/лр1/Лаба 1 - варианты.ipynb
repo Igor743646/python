{
 "cells": [
  {
   "cell_type": "markdown",
   "metadata": {},
   "source": [
    "Результат скидывать на почту tt48@mail.ru в виде файла *.ipynb<br>\n",
    "В теме письма указывать, что это второй курс и что это \"системы аналитических вычислений\" или \"пакеты\". + номер ДЗ туда же.<br>\n",
    "В содержании письма указывать ФИО и группу."
   ]
  },
  {
   "cell_type": "markdown",
   "metadata": {},
   "source": [
    "<h1>Задание 0</h1>\n",
    "<pre>\n",
    "Установить SageMath 9.2 (https://www.sagemath.org/)\n",
    "В случае проблем - писать на почту.\n",
    "\t\n",
    "Как резервный вариант - on-line редакторы\n",
    "\thttps://cocalc.com/doc/jupyter-notebook.html\n",
    "\t\tесть некоторые проблемы по LaTeX возможностям.\n",
    "\thttps://sagecell.sagemath.org/\n",
    "\t\tработает, но предоставляется только одна ячейка\n",
    "\t\n",
    "\t- медленнее работают\n",
    "\t\t, есть ограничения по количеству времени на выполнение запроса\n",
    "\t\t, некоторые ошибки по синтаксису опускаются (LaTeX касается)\n",
    "\t\t, больше места экрана уходит на менюшки и прочего.\n",
    "\t\t\n",
    "\t+ ничего устанавливать не нужно. Можно даже не регистрироваться.\n",
    "</pre>"
   ]
  },
  {
   "cell_type": "markdown",
   "metadata": {},
   "source": [
    "<h1>Задание 1 - часть 1 - Квадратик</h1>\n",
    "Доделать начинания, что были на занятии:<br>\n",
    "при помощи функции отображения графиков отобразить квадратик.<br>\n",
    "Задав квадратик матрицей координат, повернуть и сдвинуть его относительно исходного положения.<br>\n",
    "Вывести исходный квадратик и результат.\n"
   ]
  },
  {
   "cell_type": "markdown",
   "metadata": {},
   "source": [
    "<h1>Задание 1 - часть 2 - Исследование функции</h1>\n",
    "Для заданной формулой функции найти:\n",
    "<ol>\n",
    "    <li>Область определения функции.</li>\n",
    "    <li>Является ли функция четной или нечетной, является ли периодической.</li>\n",
    "    <li>Точки пересечения графика с осями координат.</li>\n",
    "    <li>Промежутки знакопостоянства.</li>\n",
    "    <li>Промежутки возрастания и убывания.</li>\n",
    "    <li>Точки экстремума и значения в этих точках.</li>\n",
    "    <li>Непрерывность. Наличие точек разрыва и их классификация.</li>\n",
    "    <li>Асимптоты.</li>\n",
    "</ol>\n",
    "Построить график функции, асимптоты, промежутки знакопостоянства. (см. папку с материалами).<br>\n",
    "Необходимо также сделать минимальное, но оформление решения, а не просто набор ответов.\n",
    "\n",
    "<h4>Справочные материалы:</h4>\n",
    "<ol>\n",
    "    <li>Гусак, 1999г. - исследование графиков</li>\n",
    "    <li>Ефимов, Поспелов — т.2, стр. 86</li>\n",
    "    <li>Ильин, Поздняк — т.1, стр. 143 и стр. 300-327</li>\n",
    "    <li>Пискунов — стр. 144-184</li>\n",
    "</ol>"
   ]
  },
  {
   "cell_type": "markdown",
   "metadata": {},
   "source": [
    "<h1>Варианты:</h1>"
   ]
  },
  {
   "cell_type": "code",
   "execution_count": 2,
   "metadata": {},
   "outputs": [],
   "source": [
    "tasks = [ \n",
    "            x/sin(3*x**2 - 2*x + 5*ln(x))\n",
    "            , (x**2 - 4)*sin((pi*(x**2))/6) / (x**2 - 1)\n",
    "            , sqrt(abs(3*x^3 + 2*x^2 - 10*x)) / (4*x)\n",
    "            , 1/2 * ln(sqrt(x^2 + 1) / sqrt(x^2 - 1))\n",
    "            , (x^3 - x^2 - x + 1)^(1/3) / tan(x)\n",
    "            , 2*log((x - 1) / x) + 1\n",
    "            , ln(x - 1) / (x - 1)^2\n",
    "        ]"
   ]
  },
  {
   "cell_type": "markdown",
   "metadata": {},
   "source": [
    "В your_number присвоить ваш номер по списку в рейтинге.\n",
    "Рейтинги ваши лежат <a href='https://docs.google.com/spreadsheets/d/14cdxMHQw2Bd4i_4qoYWzV4olXgaNuckR6ZzWLCQQEUg/edit?usp=sharing'>здесь</a>"
   ]
  },
  {
   "cell_type": "code",
   "execution_count": 3,
   "metadata": {},
   "outputs": [
    {
     "data": {
      "text/html": [
       "<html><script type=\"math/tex; mode=display\">\\newcommand{\\Bold}[1]{\\mathbf{#1}}\\verb|Номер|\\phantom{\\verb!x!}\\verb|вашего|\\phantom{\\verb!x!}\\verb|задания:|\\phantom{\\verb!x!}\\verb|5.|</script></html>"
      ],
      "text/latex": [
       "\\begin{math}\n",
       "\\newcommand{\\Bold}[1]{\\mathbf{#1}}\\verb|Номер|\\phantom{\\verb!x!}\\verb|вашего|\\phantom{\\verb!x!}\\verb|задания:|\\phantom{\\verb!x!}\\verb|5.|\n",
       "\\end{math}"
      ],
      "text/plain": [
       "'Номер вашего задания: 5.'"
      ]
     },
     "metadata": {},
     "output_type": "display_data"
    },
    {
     "data": {
      "text/html": [
       "<html><script type=\"math/tex; mode=display\">\\newcommand{\\Bold}[1]{\\mathbf{#1}}\\verb|Ваша|\\phantom{\\verb!x!}\\verb|функция:| 2 \\, \\log\\left(\\frac{x - 1}{x}\\right) + 1</script></html>"
      ],
      "text/latex": [
       "\\begin{math}\n",
       "\\newcommand{\\Bold}[1]{\\mathbf{#1}}\\verb|Ваша|\\phantom{\\verb!x!}\\verb|функция:| 2 \\, \\log\\left(\\frac{x - 1}{x}\\right) + 1\n",
       "\\end{math}"
      ],
      "text/plain": [
       "'Ваша функция: ' 2*log((x - 1)/x) + 1"
      ]
     },
     "metadata": {},
     "output_type": "display_data"
    }
   ],
   "source": [
    "def get_variant_for_number(_number, _variations_quo):\n",
    "    return (_number - 1) % _variations_quo\n",
    "\n",
    "\n",
    "your_number = 6  # сюда вбить ваш номер по списку в рейтинге \n",
    "number_of_your_task = get_variant_for_number(_number=your_number, _variations_quo=len(tasks))\n",
    "show(f\"Номер вашего задания: {number_of_your_task}.\")\n",
    "show(\"Ваша функция: \", tasks[number_of_your_task])"
   ]
  },
  {
   "cell_type": "markdown",
   "metadata": {},
   "source": [
    "<h1>Задание 1 - часть 1 - Квадратик</h1>"
   ]
  },
  {
   "cell_type": "code",
   "execution_count": 4,
   "metadata": {},
   "outputs": [
    {
     "data": {
      "image/png": "[encoded data removed]",
      "text/plain": [
       "Graphics object consisting of 2 graphics primitives"
      ]
     },
     "metadata": {},
     "output_type": "display_data"
    }
   ],
   "source": [
    "import math\n",
    "\n",
    "class Rectangle:\n",
    "    \n",
    "    def __init__(self, a):\n",
    "        self.matr = matrix([[0,0], [0,a], [a,a], [a,0], [0,0]])  \n",
    "            \n",
    "    def get_list(self):\n",
    "        return list(self.matr)\n",
    "    \n",
    "    def rotate(self, angle):\n",
    "        math_rotation = matrix([\n",
    "            [cos(angle), sin(angle)],\n",
    "            [-sin(angle), cos(angle)]\n",
    "        ])\n",
    "        self.matr *= math_rotation\n",
    "\n",
    "    def displace(self, x, y):\n",
    "        math_displacement = matrix([[x,y] for i in range(5)])\n",
    "        self.matr += math_displacement\n",
    "\n",
    "if __name__ == '__main__':\n",
    "    \n",
    "    a = 10\n",
    "    alpha = 0.5\n",
    "    \n",
    "    rec = Rectangle(a)\n",
    "\n",
    "    G = Graphics()\n",
    "    G += polygon2d(rec.get_list(), color='orange')\n",
    "\n",
    "    rec.rotate(angle = alpha)\n",
    "    rec.displace(x = 15, y = 20)\n",
    "    \n",
    "    G += polygon2d(rec.get_list(), color='green')\n",
    "    G.show(aspect_ratio=1)"
   ]
  },
  {
   "cell_type": "markdown",
   "metadata": {},
   "source": [
    "<h1>Задание 1 - часть 2 - Исследование функции</h1>"
   ]
  },
  {
   "cell_type": "code",
   "execution_count": 5,
   "metadata": {},
   "outputs": [
    {
     "data": {
      "text/html": [
       "<html><script type=\"math/tex; mode=display\">\\newcommand{\\Bold}[1]{\\mathbf{#1}}2 \\, \\log\\left(\\frac{x - 1}{x}\\right) + 1</script></html>"
      ],
      "text/latex": [
       "\\begin{math}\n",
       "\\newcommand{\\Bold}[1]{\\mathbf{#1}}2 \\, \\log\\left(\\frac{x - 1}{x}\\right) + 1\n",
       "\\end{math}"
      ],
      "text/plain": [
       "2*log((x - 1)/x) + 1"
      ]
     },
     "metadata": {},
     "output_type": "display_data"
    }
   ],
   "source": [
    "f = tasks[number_of_your_task] # 2*log((x - 1) / x) + 1\n",
    "show(f)"
   ]
  },
  {
   "cell_type": "markdown",
   "metadata": {},
   "source": [
    "<h2>Область определения</h2>"
   ]
  },
  {
   "cell_type": "markdown",
   "metadata": {},
   "source": [
    "Выражение под логарифмом должно быть строго больше нуля, а выражение под знаменателем не равняться нулю"
   ]
  },
  {
   "cell_type": "code",
   "execution_count": 6,
   "metadata": {},
   "outputs": [
    {
     "data": {
      "text/html": [
       "<script type=\"math/tex\">\\begin{equation*}  \\begin{cases} \\frac{x - 1}{x} > 0 \\newline  x \\neq 0 \\newline  \\end{cases} \\end{equation*}</script>"
      ],
      "text/plain": [
       "<script type=\"math/tex\">\\begin{equation*}  \\begin{cases} \\frac{x - 1}{x} > 0 \\newline  x \\neq 0 \\newline  \\end{cases} \\end{equation*}</script>"
      ]
     },
     "metadata": {},
     "output_type": "display_data"
    }
   ],
   "source": [
    "g1 = ((x - 1) / x) > 0\n",
    "g2 = x != 0\n",
    "show(html(\"\\\\begin{equation*}  \\\\begin{cases} \" + \\\n",
    "          latex(g1) + \" \\\\newline\\n\" + \\\n",
    "          latex(g2) + \" \\\\newline\\n\" + \\\n",
    "          \" \\\\end{cases} \\\\end{equation*}\"))"
   ]
  },
  {
   "cell_type": "markdown",
   "metadata": {},
   "source": [
    "Так как мы видим, что второе неравенство входит в решение первого, то решать его не будем"
   ]
  },
  {
   "cell_type": "code",
   "execution_count": 28,
   "metadata": {},
   "outputs": [
    {
     "name": "stdout",
     "output_type": "stream",
     "text": [
      "x < 0\n",
      "x > 1\n"
     ]
    },
    {
     "data": {
      "text/html": [
       "\\begin{equation*}  \\begin{cases} x < 0 \\newline\n",
       "x > 1 \\newline\n",
       " \\end{cases} \\end{equation*}"
      ],
      "text/plain": [
       "\\begin{equation*}  \\begin{cases} x < 0 \\newline\n",
       "x > 1 \\newline\n",
       " \\end{cases} \\end{equation*}"
      ]
     },
     "metadata": {},
     "output_type": "display_data"
    }
   ],
   "source": [
    "domain = solve(g1, x)\n",
    "\n",
    "s = \"\"\n",
    "for i in domain:\n",
    "    print(i[0])\n",
    "    s += str(i[0]) + \" \\\\newline\\n\"\n",
    "    \n",
    "show(html(\"\\\\begin{equation*}  \\\\begin{cases} \" + s + \" \\\\end{cases} \\\\end{equation*}\"))"
   ]
  },
  {
   "cell_type": "markdown",
   "metadata": {},
   "source": [
    "<h2>Чётность и периодичность функции</h2>"
   ]
  },
  {
   "cell_type": "code",
   "execution_count": 8,
   "metadata": {},
   "outputs": [
    {
     "data": {
      "text/html": [
       "<html><script type=\"math/tex; mode=display\">\\newcommand{\\Bold}[1]{\\mathbf{#1}}2 \\, \\log\\left(x + 1\\right) - 2 \\, \\log\\left(x - 1\\right)</script></html>"
      ],
      "text/latex": [
       "\\begin{math}\n",
       "\\newcommand{\\Bold}[1]{\\mathbf{#1}}2 \\, \\log\\left(x + 1\\right) - 2 \\, \\log\\left(x - 1\\right)\n",
       "\\end{math}"
      ],
      "text/plain": [
       "2*log(x + 1) - 2*log(x - 1)"
      ]
     },
     "metadata": {},
     "output_type": "display_data"
    }
   ],
   "source": [
    "g = f(-x) - f(x)\n",
    "show(g.log_expand().simplify_full())"
   ]
  },
  {
   "cell_type": "code",
   "execution_count": 9,
   "metadata": {},
   "outputs": [
    {
     "data": {
      "text/html": [
       "<html><script type=\"math/tex; mode=display\">\\newcommand{\\Bold}[1]{\\mathbf{#1}}2 \\, \\log\\left(x + 1\\right) + 2 \\, \\log\\left(x - 1\\right) - 4 \\, \\log\\left(x\\right) + 2</script></html>"
      ],
      "text/latex": [
       "\\begin{math}\n",
       "\\newcommand{\\Bold}[1]{\\mathbf{#1}}2 \\, \\log\\left(x + 1\\right) + 2 \\, \\log\\left(x - 1\\right) - 4 \\, \\log\\left(x\\right) + 2\n",
       "\\end{math}"
      ],
      "text/plain": [
       "2*log(x + 1) + 2*log(x - 1) - 4*log(x) + 2"
      ]
     },
     "metadata": {},
     "output_type": "display_data"
    }
   ],
   "source": [
    "g = f(-x) + f(x)\n",
    "show(g.log_expand().simplify_full())"
   ]
  },
  {
   "cell_type": "markdown",
   "metadata": {},
   "source": [
    "Функция не чётна и не нечётна"
   ]
  },
  {
   "cell_type": "code",
   "execution_count": 10,
   "metadata": {},
   "outputs": [
    {
     "data": {
      "text/html": [
       "<html><script type=\"math/tex; mode=display\">\\newcommand{\\Bold}[1]{\\mathbf{#1}}T = 0</script></html>"
      ],
      "text/latex": [
       "\\begin{math}\n",
       "\\newcommand{\\Bold}[1]{\\mathbf{#1}}T = 0\n",
       "\\end{math}"
      ],
      "text/plain": [
       "T == 0"
      ]
     },
     "metadata": {},
     "output_type": "display_data"
    }
   ],
   "source": [
    "var(\"x T\")\n",
    "g = solve(f(x) - f(x + T), T)\n",
    "for i in g:\n",
    "    show(i)"
   ]
  },
  {
   "cell_type": "markdown",
   "metadata": {},
   "source": [
    "По определению период функции не может быть равен нулю, следовательно данная функция не переодична"
   ]
  },
  {
   "cell_type": "markdown",
   "metadata": {},
   "source": [
    "<h2>Точки пересечения графика с осями координат</h2>"
   ]
  },
  {
   "cell_type": "markdown",
   "metadata": {},
   "source": [
    "Так как по области определения x не может равняться нулю, то сразу можно сделать вывод, что пересечения функции с\n",
    "осью ординат нет"
   ]
  },
  {
   "cell_type": "code",
   "execution_count": 11,
   "metadata": {},
   "outputs": [
    {
     "data": {
      "text/html": [
       "<html><script type=\"math/tex; mode=display\">\\newcommand{\\Bold}[1]{\\mathbf{#1}}x = \\frac{e^{\\frac{1}{2}}}{e^{\\frac{1}{2}} - 1} \\phantom{\\verb!x!}\\verb|=|\\phantom{\\verb!x!}\\verb|2.54149408253680|</script></html>"
      ],
      "text/latex": [
       "\\begin{math}\n",
       "\\newcommand{\\Bold}[1]{\\mathbf{#1}}x = \\frac{e^{\\frac{1}{2}}}{e^{\\frac{1}{2}} - 1} \\phantom{\\verb!x!}\\verb|=|\\phantom{\\verb!x!}\\verb|2.54149408253680|\n",
       "\\end{math}"
      ],
      "text/plain": [
       "x == e^(1/2)/(e^(1/2) - 1) ' = 2.54149408253680'"
      ]
     },
     "metadata": {},
     "output_type": "display_data"
    }
   ],
   "source": [
    "abscissa_points = solve(f, x)\n",
    "for i in abscissa_points:\n",
    "    show(i, f' = {i.rhs().n()}')\n",
    "    \n",
    "x_1 = abscissa_points[0].rhs().n()"
   ]
  },
  {
   "cell_type": "markdown",
   "metadata": {},
   "source": [
    "<h2>Промежутки знакопостоянства</h2>"
   ]
  },
  {
   "cell_type": "code",
   "execution_count": 12,
   "metadata": {},
   "outputs": [
    {
     "data": {
      "image/png": "[encoded data removed]",
      "text/plain": [
       "Graphics object consisting of 11 graphics primitives"
      ]
     },
     "metadata": {},
     "output_type": "display_data"
    }
   ],
   "source": [
    "intervals = plot(0, (x, -1, 3.4), ymin=-0.5, ymax=0.5, color='black', aspect_ratio=1, thickness = 3)\n",
    "\n",
    "intervals += point((0,0), size=50, color='black', zorder=10)\n",
    "intervals += point((1,0), size=50, color='black', zorder=10)\n",
    "intervals += point((x_1,0), size=50, color='black', zorder=10)\n",
    "\n",
    "y_margin = 0.2\n",
    "intervals += text(\"+\", (-0.5, y_margin), color='black', fontsize=16)\n",
    "intervals += text(\"не определено\", (0.5, y_margin), color='black', fontsize=7)\n",
    "intervals += text(\"-\", ((1+x_1)/2, y_margin), color='black', fontsize=20)\n",
    "intervals += text(\"+\", (x_1+0.4, y_margin), color='black', fontsize=16)\n",
    "\n",
    "intervals += text(\"0\", (0, y_margin), color='black', fontsize=14)\n",
    "intervals += text(\"1\", (1, y_margin), color='black', fontsize=14)\n",
    "intervals += text(\"{:.2f}..\".format(x_1), (x_1, y_margin), color='black', fontsize=14)\n",
    "\n",
    "intervals.show(axes=False)"
   ]
  },
  {
   "cell_type": "markdown",
   "metadata": {},
   "source": [
    "<h2>Промежутки возрастания и убывания</h2>"
   ]
  },
  {
   "cell_type": "code",
   "execution_count": 13,
   "metadata": {},
   "outputs": [
    {
     "data": {
      "text/html": [
       "<html><script type=\"math/tex; mode=display\">\\newcommand{\\Bold}[1]{\\mathbf{#1}}\\frac{2}{{\\left(x - 1\\right)} x} = 0</script></html>"
      ],
      "text/latex": [
       "\\begin{math}\n",
       "\\newcommand{\\Bold}[1]{\\mathbf{#1}}\\frac{2}{{\\left(x - 1\\right)} x} = 0\n",
       "\\end{math}"
      ],
      "text/plain": [
       "2/((x - 1)*x) == 0"
      ]
     },
     "metadata": {},
     "output_type": "display_data"
    }
   ],
   "source": [
    "g = diff(f, x).expand().simplify()\n",
    "show(g == 0)"
   ]
  },
  {
   "cell_type": "markdown",
   "metadata": {},
   "source": [
    "Корней у данного уравнения нет"
   ]
  },
  {
   "cell_type": "code",
   "execution_count": 14,
   "metadata": {},
   "outputs": [
    {
     "data": {
      "text/html": [
       "<html><script type=\"math/tex; mode=display\">\\newcommand{\\Bold}[1]{\\mathbf{#1}}\\mathrm{True}</script></html>"
      ],
      "text/latex": [
       "\\begin{math}\n",
       "\\newcommand{\\Bold}[1]{\\mathbf{#1}}\\mathrm{True}\n",
       "\\end{math}"
      ],
      "text/plain": [
       "True"
      ]
     },
     "metadata": {},
     "output_type": "display_data"
    }
   ],
   "source": [
    "show(solve(g > 0, x) == domain)"
   ]
  },
  {
   "cell_type": "markdown",
   "metadata": {},
   "source": [
    "В области определения производная функции всегда больше нуля, а следовательно функция возрастает на всей своей области определения"
   ]
  },
  {
   "cell_type": "markdown",
   "metadata": {},
   "source": [
    "<h2>Точки экстремума и значения в этих точках</h2>"
   ]
  },
  {
   "cell_type": "markdown",
   "metadata": {},
   "source": [
    "Так как функция постоянно возрастает на своей области определения, то точек экстремума у функции нет"
   ]
  },
  {
   "cell_type": "markdown",
   "metadata": {},
   "source": [
    "<h2>Непрерывность. Наличие точек разрыва и их классификация</h2>"
   ]
  },
  {
   "cell_type": "markdown",
   "metadata": {},
   "source": [
    "По области определения видим, что нам надо проверить точки $x=0, 1$ на разрывы"
   ]
  },
  {
   "cell_type": "code",
   "execution_count": 15,
   "metadata": {},
   "outputs": [],
   "source": [
    "infinities = UnsignedInfinityRing.gens() + InfinityRing.gens()"
   ]
  },
  {
   "cell_type": "code",
   "execution_count": 16,
   "metadata": {},
   "outputs": [
    {
     "data": {
      "text/html": [
       "<html><script type=\"math/tex; mode=display\">\\newcommand{\\Bold}[1]{\\mathbf{#1}}\\verb|x=0|\\phantom{\\verb!x!}\\verb|-|\\phantom{\\verb!x!}\\verb|точка|\\phantom{\\verb!x!}\\verb|разрыва|\\phantom{\\verb!x!}\\verb|второго|\\phantom{\\verb!x!}\\verb|рода|</script></html>"
      ],
      "text/latex": [
       "\\begin{math}\n",
       "\\newcommand{\\Bold}[1]{\\mathbf{#1}}\\verb|x=0|\\phantom{\\verb!x!}\\verb|-|\\phantom{\\verb!x!}\\verb|точка|\\phantom{\\verb!x!}\\verb|разрыва|\\phantom{\\verb!x!}\\verb|второго|\\phantom{\\verb!x!}\\verb|рода|\n",
       "\\end{math}"
      ],
      "text/plain": [
       "'x=0 - точка разрыва второго рода'"
      ]
     },
     "metadata": {},
     "output_type": "display_data"
    }
   ],
   "source": [
    "if limit(f, x=0, dir='-') in infinities and limit(f, x=0, dir='+') in infinities:\n",
    "    show(\"x=0 - точка разрыва второго рода\")"
   ]
  },
  {
   "cell_type": "code",
   "execution_count": 17,
   "metadata": {},
   "outputs": [
    {
     "data": {
      "text/html": [
       "<html><script type=\"math/tex; mode=display\">\\newcommand{\\Bold}[1]{\\mathbf{#1}}\\verb|x=1|\\phantom{\\verb!x!}\\verb|-|\\phantom{\\verb!x!}\\verb|точка|\\phantom{\\verb!x!}\\verb|разрыва|\\phantom{\\verb!x!}\\verb|второго|\\phantom{\\verb!x!}\\verb|рода|</script></html>"
      ],
      "text/latex": [
       "\\begin{math}\n",
       "\\newcommand{\\Bold}[1]{\\mathbf{#1}}\\verb|x=1|\\phantom{\\verb!x!}\\verb|-|\\phantom{\\verb!x!}\\verb|точка|\\phantom{\\verb!x!}\\verb|разрыва|\\phantom{\\verb!x!}\\verb|второго|\\phantom{\\verb!x!}\\verb|рода|\n",
       "\\end{math}"
      ],
      "text/plain": [
       "'x=1 - точка разрыва второго рода'"
      ]
     },
     "metadata": {},
     "output_type": "display_data"
    }
   ],
   "source": [
    "if (limit(f, x=1, dir='-') in infinities) and (limit(f, x=1, dir='+') in infinities):\n",
    "    show(\"x=1 - точка разрыва второго рода\")"
   ]
  },
  {
   "cell_type": "markdown",
   "metadata": {},
   "source": [
    "Функция не непрерывна, так как терпит разрывы в точках $x=0, 1$. Оба разрыва второго рода"
   ]
  },
  {
   "cell_type": "markdown",
   "metadata": {},
   "source": [
    "<h2>Асимптоты</h2>"
   ]
  },
  {
   "cell_type": "markdown",
   "metadata": {},
   "source": [
    "<h3>Вертикальные асимптоты</h3>"
   ]
  },
  {
   "cell_type": "markdown",
   "metadata": {},
   "source": [
    "Мы уже знаем, что пределы в точках $x=0, 1$ стремятся к бесконечности, поэтому они и будут являться вертикальными асимптотами"
   ]
  },
  {
   "cell_type": "markdown",
   "metadata": {},
   "source": [
    "<h3>Горизонтальные асимптоты</h3>"
   ]
  },
  {
   "cell_type": "code",
   "execution_count": 18,
   "metadata": {},
   "outputs": [
    {
     "data": {
      "text/html": [
       "<html><script type=\"math/tex; mode=display\">\\newcommand{\\Bold}[1]{\\mathbf{#1}}x = 1</script></html>"
      ],
      "text/latex": [
       "\\begin{math}\n",
       "\\newcommand{\\Bold}[1]{\\mathbf{#1}}x = 1\n",
       "\\end{math}"
      ],
      "text/plain": [
       "x == 1"
      ]
     },
     "metadata": {},
     "output_type": "display_data"
    }
   ],
   "source": [
    "if limit(f, x=+oo).n() == limit(f, x=-oo).n():\n",
    "    show(x == limit(f, x=+oo))"
   ]
  },
  {
   "cell_type": "markdown",
   "metadata": {},
   "source": [
    "<h3>Наклонные асимптоты</h3>"
   ]
  },
  {
   "cell_type": "code",
   "execution_count": 19,
   "metadata": {},
   "outputs": [
    {
     "data": {
      "text/html": [
       "<html><script type=\"math/tex; mode=display\">\\newcommand{\\Bold}[1]{\\mathbf{#1}}k = 0</script></html>"
      ],
      "text/latex": [
       "\\begin{math}\n",
       "\\newcommand{\\Bold}[1]{\\mathbf{#1}}k = 0\n",
       "\\end{math}"
      ],
      "text/plain": [
       "k == 0"
      ]
     },
     "metadata": {},
     "output_type": "display_data"
    },
    {
     "data": {
      "text/html": [
       "<html><script type=\"math/tex; mode=display\">\\newcommand{\\Bold}[1]{\\mathbf{#1}}k = 0</script></html>"
      ],
      "text/latex": [
       "\\begin{math}\n",
       "\\newcommand{\\Bold}[1]{\\mathbf{#1}}k = 0\n",
       "\\end{math}"
      ],
      "text/plain": [
       "k == 0"
      ]
     },
     "metadata": {},
     "output_type": "display_data"
    }
   ],
   "source": [
    "var(\"k\")\n",
    "show(k == limit(f/x, x=-oo))\n",
    "show(k == limit(f/x, x=+oo))"
   ]
  },
  {
   "cell_type": "markdown",
   "metadata": {},
   "source": [
    "Наклонных асимптот нет, так как пределы равны нулю"
   ]
  },
  {
   "cell_type": "code",
   "execution_count": 20,
   "metadata": {},
   "outputs": [
    {
     "data": {
      "image/png": "[encoded data removed]",
      "text/plain": [
       "Graphics object consisting of 5 graphics primitives"
      ]
     },
     "metadata": {},
     "output_type": "display_data"
    }
   ],
   "source": [
    "pl = plot(f, (x, -12, 0), color='red', legend_label='2log((x - 1)/x) + 1') \n",
    "pl += plot(f, (x, 1-1e-6, 12), color='red')\n",
    "pl += line([[0, -8], [0, 8]], linestyle = '--', color='grey', thickness = 1.5)\n",
    "pl += line([[1, -8], [1, 8]], linestyle = '--', color='grey', thickness = 1.5)\n",
    "pl += plot(1, (x, -12, 12), linestyle = '--', color='grey', thickness = 1.5)\n",
    "\n",
    "pl.show(ymin = -8, ymax = 8, aspect_ratio = 1.5, figsize=14, axes_labels=['$x$','$y$'])"
   ]
  }
 ],
 "metadata": {
  "kernelspec": {
   "display_name": "SageMath 9.2",
   "language": "sage",
   "name": "sagemath"
  },
  "language_info": {
   "codemirror_mode": {
    "name": "ipython",
    "version": 3
   },
   "file_extension": ".py",
   "mimetype": "text/x-python",
   "name": "python",
   "nbconvert_exporter": "python",
   "pygments_lexer": "ipython3",
   "version": "3.7.7"
  }
 },
 "nbformat": 4,
 "nbformat_minor": 2
}
