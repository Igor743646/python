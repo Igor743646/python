{
 "cells": [
  {
   "cell_type": "markdown",
   "id": "4c4a9d34",
   "metadata": {},
   "source": [
    "<h2>НОД - Вариант 1</h2>"
   ]
  },
  {
   "cell_type": "code",
   "execution_count": 1,
   "id": "552eed27",
   "metadata": {},
   "outputs": [
    {
     "data": {
      "text/html": [
       "<style>\n",
       "\t\t\t\t\t\t\t\t\t\t\t\t\t.grid-container {\n",
       "\t\t\t\t\t\t\t\t\t\t\t\t\t\tdisplay: inline-grid;\n",
       "\t\t\t\t\t\t\t\t\t\t\t\t\t\tgrid-template-columns: auto;\n",
       "\t\t\t\t\t\t\t\t\t\t\t\t\t}\n",
       "\t\t\t\t\t\t\t\t\t\t\t\t</style>\n",
       "\n",
       "\t\t\t\t\t\t\t\t\t\t\t\t<div><div class=\"grid-container\"><div class=\"grid-item\"><img alt=\"Output\" src=\"data:image/png;base64,iVBORw0KGgoAAAANSUhEUgAAAIsAAAAPCAIAAABbWqtmAAAA0XpUWHRSYXcgcHJvZmlsZSB0eXBlIGV4aWYAAHjabU9BbgQhDLvzin1CSIIDz2F2Gak/6PPXLKgVVYMmNo4TJml8f93pMUOzJC9R0QBhePOmnaTKioVZ2icv6dq1fOpJ7q13SuW3gLH169QDC7X+HaSL2HyB3Hw37EGmS8993a/t117rOcjkCK8/v/7/3UJRkMOZXSUCjbwmUgKKSgnceAI0ZrxU/EkciGAbYjqsz8YZOuJ0jwSj8Jor2PyydaIzZz7Nhc3IlaeTFb1YtY9nrvMGoENa7Yh5MFAAAAAJcEhZcwAACxMAAAsTAQCanBgAAAA8dEVYdFNvZnR3YXJlAENyZWF0ZWQgd2l0aCB0aGUgV29sZnJhbSBMYW5ndWFnZSA6IHd3dy53b2xmcmFtLmNvbVyipoUAAAAhdEVYdENyZWF0aW9uIFRpbWUAMjAyMTowNDoxNyAxMzoyMjozNV5QM58AAAIHSURBVFiF7VgxUsMwEDwzPMVJwfCC4wUJTSpauqMMD6CkSyOX8ROoqJQXJC9gXHD6iyhkZUzss2UhAuPJVrYs72p1Pt2NwU4NrAgRkRSfRU0TIiKSTinHCpG0u4aEvP8DzGydx/PEyImq446mICMi8nxXMDXkee4ubuf5eRSN2W2q29UiEVuxqVbb1fF+ehECcC5ftom2bFCMGW7g432XhKzYVKvvK/dJCgAQlaj1uzXS5bq11mo6MRBCz4p+WIScpVFWEh1zdRFFBABwjGCtJkDFrDA+QmnjIsCtM2AWgHMZGSdNgESBpuqaQak7E02tTuF3IqSp8TFqAmGPWQ+2Qh0ygeTjIH+v0XKSuzDCNBHy6JLQ5JbRlwJaDZkV3g4hHwPPI+xGnFyPuwDC65DqZUzj7tgr+fv13q7rKnc3mz3N7fdCt9iyuptlGZC263Z35cnZmA5yP6l4LenFtp8NkI/0sntaguMx0IloOcldAOFwhIxh5uaAsIsA+f0DPr99Gli0JiDioYf8s6pgPpfITfH4DIrF1kwiF+UaS27ImeK1hEOZlX5gmZWoeH+6c6Pl+t0NEvpkSlDwu4/SOoFZYeQp508C4dkgeQzkUy5Crv+UGyKEdks7Mk6NOtQZnuMoK5Sqa4+HnsUHksdA6hSi5CR3YYSZtTYsZS/4G0zzn8KUcInQf8cX1RckhC0nMRMAAAAASUVORK5CYII=\"></div><div class=\"grid-item\"><img alt=\"Output\" src=\"data:image/png;base64,iVBORw0KGgoAAAANSUhEUgAAAJsAAAAPCAIAAAB89CqOAAAA0XpUWHRSYXcgcHJvZmlsZSB0eXBlIGV4aWYAAHjabU/RbQUhDPtnio4QkuDAONx7nNQNOn7NgVpR1egS4zjhksbX550+JjRL8hIVDRDCmzftJFUWVs7SnvigXbuWTz3JvfVOqfwWMLZ+nXpgZa1/B+kiNl8gN98Ne5Dp0nNf92v7tdd6DjI54PXn1/+/WygKcjijq0SgkddEyoSiUgI3XgCNGW8VfzEPRLANMR3WZ+OEjjjdI8EovOcKNr9sndkZM5/mwmbkytPJil6s2uOZ63wDob1a7hK6t3UAAAAJcEhZcwAACxMAAAsTAQCanBgAAAA8dEVYdFNvZnR3YXJlAENyZWF0ZWQgd2l0aCB0aGUgV29sZnJhbSBMYW5ndWFnZSA6IHd3dy53b2xmcmFtLmNvbVyipoUAAAAhdEVYdENyZWF0aW9uIFRpbWUAMjAyMTowNDoxNyAxMzoyMjozNV5QM58AAAHLSURBVFiF7ZgxUsNADEUFw1GcFExOIE6QSeOKlk4tHIAbpNmUKdNS0SDfgBNkXER7l6VYExzwrtdZzWBMfpXE+c+SlZU0ATcpiSFERDKixGNCRERiJaCnGkRiLZaP8EgEHe5YJCLOPzGtmnqsUauAc2KIiPQq+i20a5iUiqLwLxbzQotpbbWuF+VSibZZ1+W21IF57Q9VVVnbvJtYRQH8M3veKhUAwIrALexfKxXYZl2XerEBQPG4261mM3h7uNv4ovYd6ZZ5cKPItJ8jMaQ2RE+wKm33OPQAABQbuWtF2F/RjPtm2oeLCQCaPUGlrs3MI71dy4v15igbIqKvVUujosKBTTBqZ2qdWyaA7mUmBE+0p2s8wLyU07tuOB42gUt9diYfIVOYHoSn2QdpJMC8lH1F5URd3xODXZNQRETYGA4ao/bPmncf5H541B4A9qf528C8lG8AwFoROdmfih+rf7G6x6eXg4Vl61JjPNQ1zOcBY8TeHF7E9y5LIjxkDwJbQY0UmJly2m8nOgciXSJub3qHGDy36/baB2kkwLyUk+doJKKUOdpZzuOnYjB0hxA80Z6u8QDzUr5yzqW1hIv+hib4n9E/16WiU9MHVNUYhvKQ2P4AAAAASUVORK5CYII=\"></div></div></div>"
      ],
      "text/plain": [
       "             2      3    4\n",
       "1 - 5 x + 7 x  - 4 x  + x\n",
       "            2    3    4    5\n",
       "-5 + 5 x + x  - x  - x  + x"
      ]
     },
     "execution_count": 2,
     "metadata": {
      "text/html": [],
      "text/plain": []
     },
     "output_type": "execute_result"
    }
   ],
   "source": [
    "x =.\n",
    "f = x^4 - 4*x^3 + 7*x^2 - 5*x + 1\n",
    "g = x^5 - x^4 - x^3 + x^2 + 5*x - 5"
   ]
  },
  {
   "cell_type": "markdown",
   "id": "c79f2139",
   "metadata": {},
   "source": [
    "__НОД, полученный встроенным методом PolynomialExtendedGCD:__"
   ]
  },
  {
   "cell_type": "code",
   "execution_count": 4,
   "id": "e3264da8",
   "metadata": {},
   "outputs": [
    {
     "data": {
      "text/html": [
       "<div><img alt=\"Output\" src=\"data:image/png;base64,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\"></div>"
      ],
      "text/plain": [
       "                         2       3                  2\n",
       "          79 + 41 x - 8 x  - 21 x   40 - 55 x + 21 x\n",
       "{-1 + x, {------------------------, -----------------}}\n",
       "                    121                    121"
      ]
     },
     "execution_count": 4,
     "metadata": {
      "text/html": [],
      "text/plain": []
     },
     "output_type": "execute_result"
    }
   ],
   "source": [
    "PEGCD = PolynomialExtendedGCD[f, g, x]"
   ]
  },
  {
   "cell_type": "code",
   "execution_count": 5,
   "id": "926375be",
   "metadata": {},
   "outputs": [
    {
     "data": {
      "text/html": [
       "<style>\n",
       "\t\t\t\t\t\t\t\t\t\t\t\t\t.grid-container {\n",
       "\t\t\t\t\t\t\t\t\t\t\t\t\t\tdisplay: inline-grid;\n",
       "\t\t\t\t\t\t\t\t\t\t\t\t\t\tgrid-template-columns: auto;\n",
       "\t\t\t\t\t\t\t\t\t\t\t\t\t}\n",
       "\t\t\t\t\t\t\t\t\t\t\t\t</style>\n",
       "\n",
       "\t\t\t\t\t\t\t\t\t\t\t\t<div><div class=\"grid-container\"><div class=\"grid-item\"><img alt=\"Output\" src=\"data:image/png;base64,iVBORw0KGgoAAAANSUhEUgAAACUAAAAPCAIAAADsy5EEAAAA0HpUWHRSYXcgcHJvZmlsZSB0eXBlIGV4aWYAAHjabU/RbQUhDPtnio4QkuDAONx7nNQNOn7NgVpR1egS4zjhksbX550+JjRL8hIVDRDCmzftJFUWVs7SnvhAy67lU09yb71TKr8FjK1fpx7YA+vfQbqIzRfIzXfDHmS69NzX/dp+7bWeg0wOeP359f/vFoqCHM7oKhFo5DWRMqGolMCNF0BjxlvFX8wDEWxDTIf12TihI073SDAK77mCzS9bZ3bGzKe5sBm58nQy6MWqPZ65zjdVMlq7gMqhoQAAAAlwSFlzAAALEwAACxMBAJqcGAAAADx0RVh0U29mdHdhcmUAQ3JlYXRlZCB3aXRoIHRoZSBXb2xmcmFtIExhbmd1YWdlIDogd3d3LndvbGZyYW0uY29tXKKmhQAAACF0RVh0Q3JlYXRpb24gVGltZQAyMDIxOjA0OjE3IDEzOjIyOjM2x1liJQAAANFJREFUOI3tlL0RwjAMhZ84RjEMoUwQlqCzy6wiytCxhD0BTMBRRNpFFPxcuEsIRS4Vr7Pk5+/JvjO5OxbUaknYnwfYoSIiSmUJXkm0x0mF54FN8urWz02YOsNKsaF6Sb2LKYmoOtgc76ddN1ivW8/xuEsFKGl3FT03Yf1IaP2AIUyO9NLLqGaDxrpVqTZEiNmbAGANwExV+7t+BT6N3e2G7XbcyMyX98KnpcKIebyfRXSsFcGirsJgUXf/zsvxM+kwdYyXI56UR2awKPn//5xTd551+AfDlRsTAAAAAElFTkSuQmCC\"></div><div class=\"grid-item\"><img alt=\"Output\" src=\"data:image/png;base64,iVBORw0KGgoAAAANSUhEUgAAALIAAAAgCAIAAAA5RrV3AAAAz3pUWHRSYXcgcHJvZmlsZSB0eXBlIGV4aWYAAHjabU9bjsMgDPznFHsEsM0YjkMaKvUGe/wdJ6grqg6KZzJ+gNP8fT3TT0BKTla9oQOZsG5dBkXLN24uuV/xwiErV3Y/vf1Bq/4nMJd/7L7jZmkfg/KapHEDtdpqWINUbr+M/UUyWtsHad5g7f307//qgorixmiS3dGpG1cLQpVcHU88ABYWnJLtQZ5wZxs8KnREY0Cm79UzQWmcsYLGV3SQjbHwai6sSi08gwpyMKtXTazzB1ApWrQd6d0bAAAACXBIWXMAAAsTAAALEwEAmpwYAAAAPHRFWHRTb2Z0d2FyZQBDcmVhdGVkIHdpdGggdGhlIFdvbGZyYW0gTGFuZ3VhZ2UgOiB3d3cud29sZnJhbS5jb21coqaFAAAAIXRFWHRDcmVhdGlvbiBUaW1lADIwMjE6MDQ6MTcgMTM6MjI6MzbHWWIlAAAD7UlEQVR4nO2bP5aqMBTGb955C5hFAMUcV0BWADZTTWuXlNJMN8UU09mQUrrXTvUawwp0BR4Lkr3kFVGJEP6pqG8mv05Icm/MJ/m4IFJKQRuSYT/ZAOFqGbU2dHwjfrWezSmawR+RhjfKxvEgtMsiWqr13LtRKo7HoV0Wjh+Kk4XDgpOFw4KThcNC550IQshPNpDFCCFE8xul9e2QjGKMMWXyfinkFGOMMc175KDGh6f8BlEeGyGEUkqkYZiKO2eShoSbH20Jjb+JSFYErhDmefv7/Elwzxt+KfPFbvJirIc3hVV9DxhdFnIFThUayRa797vWiqUQ8Azbv6YOvCkUNV2MLQu5AvCPn7RXMdiblfL4+e5FMnzaXx8Yxw+ZE+kXQDK6gLczRbGfCkIIG+Zk+AS9KIrmb68VXQRQVN3G2LIQANPyqhktjf2LEwiffQDJcAz73Y5DjM9yZTn1vyYkND6PWLbP6TFhxUn22Z1xTv0k237NznKdks1273sjAMlM9x8+QckopZTS2e717USdUQCrak6j2JojIm2ymyINQVsfTqD0QJxAgykTnDeaNd2rHLIepNocjsc5gaaQTYg0PHSp53vp4K1wAnBqGK8xwfoq/dbi+Pj4GCjhkiRJnp6e7OeEuYWY5IsEUnEQbfY3X0YRgGSfGUBqH6oo/Mh6Dc5pvE3F0gPWM+NoqTigmL6oJdB4m4qBD368+VoFFCEEQLhanyZ16eBtyGIL5L17Ixqcw66QEBlNriCLM5DsMyPvSucRLUWKfYQAIExTAl/15lJf44SUYJh6jb6izz2AIRfnY1Ci+zZE1FQi6pcNJlypKKcI4dq33jF4nfZwB3LqJxOu+tmTITl4wXPlyO9eMa6LZDPzUqF/ffP9KZxMXiqLIIUQAMVuB0EAcPq1SfaZwSZD2eFAjLKw7y80DMONNUEdseR0oeTqa0P4OgKAaMkJihf5vO4lmwYfHE632StxmGftn0OVy/e7NrilWFLdH0uMPbvfUPXuvbyFOnqC1ohtcQ6drANcMnhTQPs8rjNBkZJKk5tbTkuepZ22z1AzTBacnKr/ZGTThIk0HO4KzRuAas4XD94WrIx4zQnWVwmpjpf2LiRnzJ+7N3kem/oijV238AFEdyvHPZEFVCvypixsVbNL62vW0qrjkbA9njjKwlo1u0J9zeniwbE+tDrKwvo2rzdf7++IvGACm51obNmMNw2cLh4X+6PMvt5CFlsgL2c96PGiqX+/l08cHUynllXtV84aVF+r01S2c9wf+9p0Xy0kwygG96eyH0WHLM6ruTr+e8zCmAnhZ9XXHN+Csaucjv8S9z8RhwUnC4eFf7g79BTcWyjbAAAAAElFTkSuQmCC\"></div><div class=\"grid-item\"><img alt=\"Output\" src=\"data:image/png;base64,iVBORw0KGgoAAAANSUhEUgAAAI0AAAAgCAIAAACgvmzCAAAA0XpUWHRSYXcgcHJvZmlsZSB0eXBlIGV4aWYAAHjabU9bbgQhDPvnFD1CSIIDx2F2WKk36PFrFtqKao0mNs6DSRpfn8/0MaFZkpeoaIAQ3rxpp6iysDhLe8Vl3TuXTz/pj99plb8Exvav0w8s1vpvkOxJNl+gNt8Ne5Dp8nNf92vXa6/1HGRywOvvr7+/WygKcjijq0SgUVeuNglFpQSeeAAszLhV/EEeiGAbYlZYn40TOuKsHglG454r2PyydbIzZj7Nhc2oladTQS9m7VUz1/kGW8davJiMi/QAAAAJcEhZcwAACxMAAAsTAQCanBgAAAA8dEVYdFNvZnR3YXJlAENyZWF0ZWQgd2l0aCB0aGUgV29sZnJhbSBMYW5ndWFnZSA6IHd3dy53b2xmcmFtLmNvbVyipoUAAAAhdEVYdENyZWF0aW9uIFRpbWUAMjAyMTowNDoxNyAxMzoyMjozNsdZYiUAAAN3SURBVGiB7Zs9cqswEMdXb3KAHAIoMpwATgA0qdK6Q6Vp0qVIkS6NKKFL6yqN4QT4BIwLpLvoFWA+FzB+xi+e6NdkWEAr6Y+02k1CpJQwhQhtPTiAn8jImXxQsSZ/Ju+mlGzgizPrRr1RjDGtkxPJbKvdqCuKCaZ1UvwUlE73gdLpPlA63Qez5z1CiB4cIHYJIYSmN+rW70CE1LZtm4Zi/lm5PglLbuDlDuGcSyk5syzGGyNrXdSsv++JsDBUhoyiaVXOYxpN8qN5sB9uW6vrJPagZJpAhJ/Ht06pR/OgGAi1tk5iD6APraHdiXblNSGE2Ofs1VhjJ6pGUeP1wDtcWc/3JkL6Ca/9gpxmQNGfhbV14gBev6CRUn1n+lb7OjDLEMZfdvolk+rXEbA1aNR4DUS4Ob5VwQSCTanU8hpbSvUgznebwVHCMWDfE2plnUQBRk+mlLo5+3p9agzfscVeHQAAsd8dIP5e+1SZ0tZXn9KxVSzSFF/c2jarlNcMEw5HDjBTY0M9OpGUMsuyLMui7ps6AO828FD+eH9/nx3dGEEQPD4+4vd4f9dLqZszHmkQniyiyMF81gBSStycMf+wKwQ4y6qKsUtiAACL8WayUCMAgBPJBIhLn2UE1M37t+vOF4XuTK9EUeTgv82v1jM9Nhx7c3AFnRaQUhcSudUA+h9qSokLicyclAaD14RoP16fkk7X20xuy+dCW9epISMHN7ZwIs5snRDwy/6MeORCIB6bTuuBmcjzNtUZj90hGU89yy3rESL8iKuEuc6d7RAME2L344nLyKlWV3erFIJ3GD9oaN6LBXkvBqPGEsvCg0nlsTgei1GPIrSJC0t/KzfmcZ6VUriKBE3apJScWXWcT3w4JXqJ3w7/i735AFbfIWo8+eTMQm7OdV5yZo30sz2u5R6bVvzeIyvrxNlILaI7nuaUNDsEvKnB26jxRFs6zqwxr2M6Dc50flI1OjAu9Nh46E/b2nWj8W9SMc5w1taOT8MTpmIWJJtp64Sl0/+aeKNFEMUkWKmt1glNp6+QeCuhloJWRGud0HR6eeI9RPMMJdQC8ML1ufFJFDn4zxeVyTTH0xcXV38xnodM88NZry5KvIeM5fMKBHyy5tfTZYm34rrM6CRCWw9MJdL/p06tkHT6gsRbsQ5EzvwfgOJHoP5+7z5QOt0HfwGV5BsxFBFmagAAAABJRU5ErkJggg==\"></div></div></div>"
      ],
      "text/plain": [
       "-1 + x\n",
       "               2       3\n",
       "79 + 41 x - 8 x  - 21 x\n",
       "------------------------\n",
       "          121\n",
       "                2\n",
       "40 - 55 x + 21 x\n",
       "-----------------\n",
       "       121"
      ]
     },
     "execution_count": 5,
     "metadata": {
      "text/html": [],
      "text/plain": []
     },
     "output_type": "execute_result"
    }
   ],
   "source": [
    "nodStd = Simplify[PEGCD[[1]]]\n",
    "uStd = Simplify[PEGCD[[2, 1]]]\n",
    "vStd = Simplify[PEGCD[[2, 2]]]"
   ]
  },
  {
   "cell_type": "code",
   "execution_count": 8,
   "id": "b72fcd08",
   "metadata": {},
   "outputs": [
    {
     "data": {
      "text/html": [
       "<div><img alt=\"Output\" src=\"data:image/png;base64,iVBORw0KGgoAAAANSUhEUgAAABwAAAAPCAIAAAB4LTj2AAAA0HpUWHRSYXcgcHJvZmlsZSB0eXBlIGV4aWYAAHjabU/tbQUhDPvPFB0hJMGBcbh7nNQNOn7NA7WiahCx43xA0vj6fNLHNM2SvERFA4TmzZt2kirLFmZpb7+Ce+fyqSd5tt4pld8ExtavUw8s1Pp3kC5i8wVy892wB5kuPfcVX7tee63nIJPDvP58/f/YQlGQw+ldJQKNvCZSAopKCTy4ARZmvFT8Jg5EsA0xK6zPxmk64qweCUbhNVewebN1otNnPs2FzciVp5NBL2btXTPX+QaXdlroGnft3AAAAAlwSFlzAAALEwAACxMBAJqcGAAAADx0RVh0U29mdHdhcmUAQ3JlYXRlZCB3aXRoIHRoZSBXb2xmcmFtIExhbmd1YWdlIDogd3d3LndvbGZyYW0uY29tXKKmhQAAACF0RVh0Q3JlYXRpb24gVGltZQAyMDIxOjA0OjE3IDEzOjIyOjM2x1liJQAAAMZJREFUOI3lkyESgzAQRf92epRyieYEiaqqrQsSTB03qEkkcbWoKnKCcgIGAblLKgidiYApU0ynX2V+dt7m72zIe4+ttduc+FtQpxnFYtp9S/VBtYSs/TaajW9TSvU7RWonz47XTrPoHNUtzdRUuIcU5mHnuyddMcWFYNotQmWRHQAAvPQlnylyfQsjwkOFAQDsF6Afaeiaoxqeof2otSvV9g6A05e8GQ1+kk1+i4ezCsqvCnlCREl1VnIyy0G1ItpH+u+//wKue5yQHeLyXgAAAABJRU5ErkJggg==\"></div>"
      ],
      "text/plain": [
       "True"
      ]
     },
     "execution_count": 8,
     "metadata": {
      "text/html": [],
      "text/plain": []
     },
     "output_type": "execute_result"
    }
   ],
   "source": [
    "Simplify[uStd * f + vStd * g] === nodStd"
   ]
  },
  {
   "cell_type": "markdown",
   "id": "1b2ae12b",
   "metadata": {},
   "source": [
    "__НОД, полученный расширенным алгоритмом Евклида:__"
   ]
  },
  {
   "cell_type": "code",
   "execution_count": 58,
   "id": "be8e418c",
   "metadata": {},
   "outputs": [],
   "source": [
    "x =.\n",
    "ExtendedGcd[aa_, bb_] := Module[ {a = aa, b=bb, d, x1, y1, r}, \n",
    "        If[SameQ[a, 0],\n",
    "            {r = {b, 0, 1}},\n",
    "            {\n",
    "                {d, x1, y1} = ExtendedGcd[PolynomialRemainder[b, a, x], a];\n",
    "                r = {Simplify[d], \n",
    "                        Simplify[y1 - (PolynomialQuotient[b, a, x]) * x1], \n",
    "                        Simplify[x1]\n",
    "                    };\n",
    "            }\n",
    "        \n",
    "        ];\n",
    "        r\n",
    "];"
   ]
  },
  {
   "cell_type": "code",
   "execution_count": 60,
   "id": "b1f19828",
   "metadata": {},
   "outputs": [
    {
     "data": {
      "text/html": [
       "<div><img alt=\"Output\" src=\"data:image/png;base64,iVBORw0KGgoAAAANSUhEUgAAAc4AAAAgCAIAAAAUvQ+hAAAA0HpUWHRSYXcgcHJvZmlsZSB0eXBlIGV4aWYAAHjadU/tbQUhDPvPFB0hXzgwDnePJ3WDjt/koKqoVEvEwThBLvPr810+EsJUrHpDByhg3bqMaBotLGbqT31wz93xqRfZMzxCqr8PmFu/Tt2xWNqfRbQ3af4Qvdoe2ItUls5j3a/tl9HauUjpgP3E4n/u6oIKdotqQu7o0beIloQqVB1v3EAYGS8hu4Mn3GMMng4dOZiQ6ad7FmgIr4ygeVhHsEXl+DoCq0avjy5qcsWrPp6M8w2eBVrmzhPiDgAAAAlwSFlzAAALEwAACxMBAJqcGAAAADx0RVh0U29mdHdhcmUAQ3JlYXRlZCB3aXRoIHRoZSBXb2xmcmFtIExhbmd1YWdlIDogd3d3LndvbGZyYW0uY29tXKKmhQAAACF0RVh0Q3JlYXRpb24gVGltZQAyMDIxOjA0OjE3IDEzOjMxOjI0H5m0FgAAB9hJREFUeJztnT12qz4Txkfv+S/gLgIofLICvAJw48ptOlGa5nYpbpEuDZR2l9ZVGsMK4hX4uEDaC28BNgIESIANTubXXQV9zTwMZiRxIe2GBTYAAI2EsohCTlFclIEdMNnF5eJficyYKZoI6Q0q6jn4H3QQe+QVPnN35vBw6ULu2QjcZcgBAMDZ5Y2yAPzXvJCHS/K+yJ39vTW6+vvRyIyJJkL6g4p6GjpDrbOr+4pdTnTt5H9f09PhyGv1XiwDACD+8CH4RGdnyIyJJkL6g4p6GjpDbQP7rxgAAHj4vi9KY48QQoh52LCdAwDAk7O9sY5LQggh5PrzFxFAEyHjgoqaJb1CrbNjwdklhBDyChsq/iF7Z3m7mMTLYjGc/Hf4zHINL7e0AiKCJkLGBRU1P0qhNg69MIy5gmOM7XeeCFrB+ZosKHDWFM5J1o59e5Vx1vR0YeOM+0eBJkLGBRU1ITyOQ8+rPd+EUBuHyWq33TqGRo6Hh68+BH+dSnH8tbc3KwPAWG3A/yhyDfbC7DX6HwyaCBkXVNS0GI6z3e2sYzXYFpsRoqiyXSQrpeXraZTe9pdAaYtJw14vYXW0uh/l1yE1JprofrCA2rZt0wn3O7GI2rZt2zS6xxhQUY9BX0hRULm2M9QisyYK0GktMMbSNGWBPfnmUhbYYtBj1RtxHqCcGpAKqdWJtVDbdwcCMgd4mFjV5A0iYFyzYbXlhIfCefxxeVkLrjJWcIynG5AclFMjUiHpORFD7RPDj4C3Ric8/Li87aa0E2cMFnD+Em9LYwXJzGItyqmdupC0nDi3UBuHqjtTeLgkhNz2lI3V/czk3wY/AigteOTbnQtyoxXl/a2YuUGofxe/5IgTUeuAh94H/O0ZaPOpVDan6k/QcBxn+3dTibUWJLPahCWXU9W/cpuodnGrLFhQWjgeIzlRLiQdJ84r1PIwgZXKm578POJwHCt5nmDLQM1YxYnpNE3TiIK9MBtPV+sRe+bhhdrCv+/jl7zx24DTiO7fu0cce6a/Px9el8tlffNNFzx8vbzlObnbQXP9CfLQ8zzP814vm/JOHccCySnL6ZDJqe5f03/JV942B7NPXCwy1kLckhaOwUhObBSSjhOFe3DyZTEW6C2XssBuXWBlkXzVN6JQeDeipR0TumOYDhb0WMMoTBbR8peCeiwcZbXqXmjwS5vZxdoNXktZYF+r1Mer2LhGd5XGy4taQyZYtDKnRSjJaGr+FcyeBSrNe0Vqt9a7eKhmKk090Im1ZbH/ivifJOBUHyn//v1TjvxK+L7/588f+d/4EdbbMTtjSWLWpgQAzi6NgLjeOt2B554DJhwjN1aLY1w3xACG2LDNXEwxfSASf/gQsOvk9l/xznGup6sD3bY89xywnQGhYoU2sws0eQ2M7XdqeYQQABql3+VLFBvX6K6AJ2egb92S0B7DJeHg6K/X3UVRNTnV/cuTM7ysDYDYI+45COjpoD+BvUv2AAC2aB5pIcBwzRQ82okmAAMQyvNQy+PwaK3qcW70UNuGJHbw0tE1Q/10xbUi41xa0dmxYGkSAjRKy6Y0LDhq66dtnA+0YYe5ePi+p29pfozoagEAOwgoHPRay97mtwaAzktws9lLPcq9xsNl9vrqxB4hy9pN0NF4nS6RZOQvzWoPX50xGNZCqc0aj1BUs39jj7gQpd9O7Pm1au0KNLbfaRZkeLg0Tc9Kd468UGCQZopBP9qJxtY6erG5u0WSLNRylqjm/R4J54yVzhSqxtq8YnK5gGU1V7Rt+zR8lAPGOS4dw8hO9rFCbSWN+y/rSmBra42H73s47cntU0Mu2dd+kTTRZPYOr/Hj4USjbwcAnF1EifsRb+uZPXWfqojkGt31Mohj6Wo6Gvz79gK++x6wLARff+MK1ZRvBGO1sf3qb2JpYUZPzeSTmcaJJiyOR25uryNqzi08HO3cVVeutmVKedZJSP+1j6KUwZkHmg6rpqoKJEbQQTlXm7aZXbimYV5iJWkDKo2rd5enI6XzGDbBohXZ4aOplNZoB3GyQrK2WU9KvcmSoPLM6BDNTOXEVBJHZrUsph48Gs4jKrYnupQFdtm/8kq9VgHui9aTSfpMkZyu7jWO0q3Y7JdWswuXtd82DWNWbFy9u9oCNY1GmmDRg8yBUymtUU7lkFSYpcfTWbBpUVtaeGWgZqZyomxIswq1aTT5mmyz5QY9xO/C9O8hyBAa/DeV0lBOfWi02swP5jpTH6GJj7CqZXR4uCTEPQds0iNHdbI1TuRJ4QlUTwtPqjSUUw8kTmxCO9TWTgdJC/seGTK2K3PCbd3cXEkWdrKP8w7/L5rGNt0Mz3YiysiOwWopDeU0PTpnmTVDbfX0iLRw0JGhaRbvH9D5HUyHN8fzMvSDAyinGaDlRK1QG3vuOfj8u+golP7Xcr+c+5jOWFl4czwlAyMtymkO6DlRI9Rmnqx4TlqIVLib6Qxn0oQL0ptVfU1AGZTTTNByohhqk7aP1MSeC1H1ESktRCrc1XSTJlyQvgxwG8ppLmgaS9iNwAJKI6a2Pw0AbFpNFUF1u9zMdkdNApoOGRGU0/xhLApobdMo1C/rbEjt8zzo4DpoOmREUE7zRB5Da7naEV4gsg84m/4J9u7dvhL9M0HTISOCcpoEeQwlaZo+eiQIgiC/jHmdFkMQBPmRYKhFEAS5O/8HO5yE9uwc/lEAAAAASUVORK5CYII=\"></div>"
      ],
      "text/plain": [
       "                                     2       3                       2\n",
       " 1936 (-1 + x)  -16 (-79 - 41 x + 8 x  + 21 x )  16 (40 - 55 x + 21 x )\n",
       "{-------------, -------------------------------, ----------------------}\n",
       "      441                     441                         441"
      ]
     },
     "execution_count": 60,
     "metadata": {
      "text/html": [],
      "text/plain": []
     },
     "output_type": "execute_result"
    }
   ],
   "source": [
    "MBP = ExtendedGcd[f, g]"
   ]
  },
  {
   "cell_type": "code",
   "execution_count": 61,
   "id": "8d67d9f4",
   "metadata": {},
   "outputs": [
    {
     "data": {
      "text/html": [
       "<style>\n",
       "\t\t\t\t\t\t\t\t\t\t\t\t\t.grid-container {\n",
       "\t\t\t\t\t\t\t\t\t\t\t\t\t\tdisplay: inline-grid;\n",
       "\t\t\t\t\t\t\t\t\t\t\t\t\t\tgrid-template-columns: auto;\n",
       "\t\t\t\t\t\t\t\t\t\t\t\t\t}\n",
       "\t\t\t\t\t\t\t\t\t\t\t\t</style>\n",
       "\n",
       "\t\t\t\t\t\t\t\t\t\t\t\t<div><div class=\"grid-container\"><div class=\"grid-item\"><img alt=\"Output\" src=\"data:image/png;base64,iVBORw0KGgoAAAANSUhEUgAAAFkAAAAgCAIAAAD2REPxAAAAznpUWHRSYXcgcHJvZmlsZSB0eXBlIGV4aWYAAHjabU9REkIhCPz3FB0BAUGP4yub6QYdv+VpNTbtjCwuC0oaz8c9XQKcKWnxas2MAG3auCOpNDE5UzvjidJWLe964rfeIZVvwcbSj113m8z1ZxCtSRIvIBddDWuQ8NRzn/dj+bnXug8S2qD18/X/d3G2YtkVUZncrSGvWC3IClNxu9vVDMZsNya9goe5o808HNKjMcDDd/dIJhBusYLEydLBipjxNBYWQS6njsgHqnJ6Yp0XF7haiek1E84AAAAJcEhZcwAACxMAAAsTAQCanBgAAAA8dEVYdFNvZnR3YXJlAENyZWF0ZWQgd2l0aCB0aGUgV29sZnJhbSBMYW5ndWFnZSA6IHd3dy53b2xmcmFtLmNvbVyipoUAAAAhdEVYdENyZWF0aW9uIFRpbWUAMjAyMTowNDoxNyAxMzozMTozMXbocdgAAALgSURBVGiB7Zk9duIwFIWvcrKALEJ2kZMViBUIN1S0dHaJm3RTpEiXRi6ho6VKY2sFsAIfCkt78RSGWLYFKCcQjxm+Bniy/q719J4EyholGACEmWHLQuypzbUNTCjbw03zUMDhSxaCCaUEMyZt/qrKm5WVYF9G8/tAeTi8Yb4oN3OKBmq3DSd8Xz4Jt+tUo82LTwFAfsQQq3YDw+LhTPnyUwIAdPK+rK0yIoQQ4q2nasEBQBc5m/rpiBBCCBklXc0GwEkt+EKJfEwIIWSGaWgWVKvqz84jUSUWtvE7VmVZlmX2Es+GqMaZdUHnm2rWmwD5wR9q+CREXlTTZl8uwifhdqeuMdrrcs5H9uhkFkO88pZZfi7ZNKAADaaIP2p3Ys/eZcf5Kxw2USNQAtiH0H2URSPQHgmp9bPNqDwcSFmWvyH5EHD0kf+CuxY1fWkhE9eoq5MRIeQrdF+qe0tz/WihkwKBS44qIzLDytiWLwT3i64avWih053vlq7bTgaW9qS0LjIZGQtKRmZCzAN8tsV4rD7e3t5chuZOHMdPT0/2Mp1iMr9kZ6ooPN7OfQDwRZmBjKNJuUA0zoUydKXBcyrRqHUtLU6hgHYmprX5Yil1PuMdKiqtrRX5QomRRwjCrGwuMOoj1eCG7dG102uitVKNnN1VjH3FYreD7x+vyBjbOrTWhxYeoABj0JRy95VgcqhYFB7n1hZk5K2nahOkI2+UmD4CXcBv+lUfeyf1UTgG1OpywIu3WI6/H1llRMa5WM0p6HwlEHvmZYLFU3vJ/DMhej6yKMsI+skveIDiornTd5Epgm7gOS4cQ+fE2THarosdX4zq8W7U3vmRdSEjb/0SstPGHyWF34ibl8feuVULGY1zsXp9PmN0SwqHg0WLatKtSVqNN0Ynv5DRGFWKps8Yb4/WpmJxfha2Nw6Yt3vNv5eGzIn8wjrJrvF2tPhJfvGzpPDf4373W3O/76y5a1HzF+TLlckAn2xYAAAAAElFTkSuQmCC\"></div><div class=\"grid-item\"><img alt=\"Output\" src=\"data:image/png;base64,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\"></div><div class=\"grid-item\"><img alt=\"Output\" src=\"data:image/png;base64,iVBORw0KGgoAAAANSUhEUgAAAI0AAAAgCAIAAACgvmzCAAAA0HpUWHRSYXcgcHJvZmlsZSB0eXBlIGV4aWYAAHjabU9RrgMhCPz3FD0CAoIex+26ybvBO36H1fcam04ig8OAksbvz5UeAc6UtHi1ZkaANm3ckVSamJyp3XFK56rlXU/8p3dI5V2wsfRj190mc/0YRGuSxAvIRVfDGiQ89dzn/Vh+7rXug4Q2aP3/+ve7OFux7IqoTO7WkFesFmSFqbhd9jSDMdvJpE/wMHe0mYdDejQGePjuHskEwhkrSJwsHayIGU9jYRHkcuuIfKAqtyfWeQFbeVq3CwZLEwAAAAlwSFlzAAALEwAACxMBAJqcGAAAADx0RVh0U29mdHdhcmUAQ3JlYXRlZCB3aXRoIHRoZSBXb2xmcmFtIExhbmd1YWdlIDogd3d3LndvbGZyYW0uY29tXKKmhQAAACF0RVh0Q3JlYXRpb24gVGltZQAyMDIxOjA0OjE3IDEzOjMxOjMxduhx2AAAA+ZJREFUaIHtmjFyqzAQhldv3gFyCKDw+ATiBECTyq07VJomXYoU7tKIEjq3rtIYnQCfgHGBdBe9wtiAkGLwM85kRl/HGnkl/QLtrgCpgVMMABAXfXMRwxlMua6ZZT7+ggojaLvgnK7dU8cqUt/dr7iUzqCB5QkMdQoyGQCItGdknwlQvrEi/RR/Rt0l6gqvvIOPEEII+amYuVcWlXE6AcAx2cJOSillsUzWVqknM1onTHfNay94jY8nPluPLDrG6eREK0g+GQAAiHSb44U7Z6csQwYR4DX6bmii8yZW71gs/wunMcYYxyPSnKFOj6egVlgtnHMpJae4m5ByqpNt9P50NyKtvWB2L78Sx2kSnaXXZjxOBAc2uHV2ncQBrEzfINLP03vWnSEngnog1Nw6iQPAMOYQqY8QIqx/fWdu1jZG7Z9qjY9D3+HGOt6bSMknvGXKOnY8qNVZmFsnDhCpVQxG3P0yxt3rZNlEK6u9e8+ktqFNZ9Ba4yMQ6fr03mwmcEkmGUFr2HXCrZsw4iZ5tV/7vk96yzPw4KAINbNOogZPkYmRsKK7t0Vr+MoxfQsAAMRhf4T869GrX4WRzqpnxPQUC8b0D7ezKRvlHW8JTTIZZLI0Fta0HoNMSlmWZVmWWb+lC6AkqE197+Pj4+boTCRJ8vLyov+Nq289RsKK8syBa/1Q1BUsXx0ARlBYURof97WAYFopMQ9RDgCAKW8nS2sEAAgyWQAKyavMgISV+vO183XtBt8/iaKuIH6//bSO9NhyUubgATpNgJEQCrlxANSFyggKoZBlwEgyaCZE9/ZrlHS53pRyc74v9V2XeDIL9MYOQcap7yIE8bk/Bo9cCI3HttNusizkuJfqDY/9IXkLxTJ/XN4i0m0OeYgQQshNjpCHCPkpeEvIw+2Cyyxonq7+q1II3sMcaDjRCkOl7MFa4xmM9ZtJ47E+nWqjR5H6KIRi4tZn8nibmVK4hkKbtMlzeeOyzxfx9eSxiP+n3FHEmjNMrfHik1NsPvU0dv5cnNH2szuu6R7bf1FrFDPrxKmhFtEfTxsl3XFU3Amx2tZa44WudJxik1eTToOYLi6ksd42yWPrQZ22uetG5jVpMTOctbn3p2GEabmJJptRdVIrBXrj+MRbWwSxfIuu1NbXSa0UaI3TEm8r1FS0FdGuToNKgd74beI9xIk8K9QE9IXrVqezIIoAWuNEnCBy7ecU44kiTUp2+S5MWykwlw+mYcrnLRoMkyWl1GQEAIBjdaMCNUGxB/BP4/zeczbl1XIRoMwyjdF+avkz3JE/MdIt0M1wCGcZgqSUP90Hy22eWS+33I/V6XfwD5uea8EpF3cpAAAAAElFTkSuQmCC\"></div></div></div>"
      ],
      "text/plain": [
       "1936 (-1 + x)\n",
       "-------------\n",
       "     441\n",
       "                     2       3\n",
       "-16 (-79 - 41 x + 8 x  + 21 x )\n",
       "-------------------------------\n",
       "              441\n",
       "                    2\n",
       "16 (40 - 55 x + 21 x )\n",
       "----------------------\n",
       "         441"
      ]
     },
     "execution_count": 61,
     "metadata": {
      "text/html": [],
      "text/plain": []
     },
     "output_type": "execute_result"
    }
   ],
   "source": [
    "nodMy = MBP[[1]]\n",
    "uMy = MBP[[2]]\n",
    "vMy = MBP[[3]]"
   ]
  },
  {
   "cell_type": "code",
   "execution_count": 64,
   "id": "ad5b3a0b",
   "metadata": {},
   "outputs": [
    {
     "data": {
      "text/html": [
       "<div><img alt=\"Output\" src=\"data:image/png;base64,iVBORw0KGgoAAAANSUhEUgAAABwAAAAPCAIAAAB4LTj2AAAA0HpUWHRSYXcgcHJvZmlsZSB0eXBlIGV4aWYAAHjabU9trsMwCPufU+wIBAgkx0m7VNoNdvyZJtqUp2ep2JiPlDTerys9ApwpafFqzYwAbdq4Q1SamJyp3XEm56rl3U90Lb/DKr+CjeUfu+82mevfRTyFxAvQomtgLRKefu4zP1Y/91r3RUIbtH5//f9cnK1YdkVUJndr0DVBgqwwFbfLTjM0Znsy6Qke5o4x8+iQHoMBHr53j2QC4xknSHxZOlgRM57GwSLQcvsAH6jK3RPnfACXSFrlJeE5eAAAAAlwSFlzAAALEwAACxMBAJqcGAAAADx0RVh0U29mdHdhcmUAQ3JlYXRlZCB3aXRoIHRoZSBXb2xmcmFtIExhbmd1YWdlIDogd3d3LndvbGZyYW0uY29tXKKmhQAAACF0RVh0Q3JlYXRpb24gVGltZQAyMDIxOjA0OjE3IDEzOjMxOjMzmOYQ9AAAAMZJREFUOI3lkyESgzAQRf92epRyieYEiaqqrQsSTB03qEkkcbWoKnKCcgIGAblLKgidiYApU0ynX2V+dt7m72zIe4+ttduc+FtQpxnFYtp9S/VBtYSs/TaajW9TSvU7RWonz47XTrPoHNUtzdRUuIcU5mHnuyddMcWFYNotQmWRHQAAvPQlnylyfQsjwkOFAQDsF6Afaeiaoxqeof2otSvV9g6A05e8GQ1+kk1+i4ezCsqvCnlCREl1VnIyy0G1ItpH+u+//wKue5yQHeLyXgAAAABJRU5ErkJggg==\"></div>"
      ],
      "text/plain": [
       "True"
      ]
     },
     "execution_count": 64,
     "metadata": {
      "text/html": [],
      "text/plain": []
     },
     "output_type": "execute_result"
    }
   ],
   "source": [
    "Simplify[uMy * f + vMy * g] === nodMy"
   ]
  },
  {
   "cell_type": "markdown",
   "id": "014f21eb",
   "metadata": {},
   "source": [
    "__Результаты отличаются на константу__"
   ]
  },
  {
   "cell_type": "code",
   "execution_count": 65,
   "id": "faed181e",
   "metadata": {},
   "outputs": [],
   "source": [
    "lastCoef[poly_, x_] := Coefficient[\n",
    "            poly\n",
    "            , x\n",
    "            , Exponent[poly, x]\n",
    "]"
   ]
  },
  {
   "cell_type": "code",
   "execution_count": 66,
   "id": "ceac2f54",
   "metadata": {},
   "outputs": [
    {
     "data": {
      "text/html": [
       "<div><img alt=\"Output\" src=\"data:image/png;base64,iVBORw0KGgoAAAANSUhEUgAAABwAAAAPCAIAAAB4LTj2AAAA0HpUWHRSYXcgcHJvZmlsZSB0eXBlIGV4aWYAAHjabU9RrsMgDPvnFDsCJMGB49COSrvBjj9T0CaeXqTGjuOEJvT36wqPEZJisOwFFYgMq1alkZQ4Y2KK9c6zOFcv7XqI19IbpfxroC/92HXHRCl/F8kkOl4gV1sDa5HK1FOb9bH80krZF2ncwsr31/+v1QUZyY3ZJLqjkpdASkCWmB0XToDGhKdEO4kd7hyDD4e2MThCuu/uHqAUnuMEHV/SRjTmxKd5sCq53roq5GBXb8845wOXeFro65ZKwgAAAAlwSFlzAAALEwAACxMBAJqcGAAAADx0RVh0U29mdHdhcmUAQ3JlYXRlZCB3aXRoIHRoZSBXb2xmcmFtIExhbmd1YWdlIDogd3d3LndvbGZyYW0uY29tXKKmhQAAACF0RVh0Q3JlYXRpb24gVGltZQAyMDIxOjA0OjE3IDEzOjMxOjM26IzkewAAAMZJREFUOI3lkyESgzAQRf92epRyieYEiaqqrQsSTB03qEkkcbWoKnKCcgIGAblLKgidiYApU0ynX2V+dt7m72zIe4+ttduc+FtQpxnFYtp9S/VBtYSs/TaajW9TSvU7RWonz47XTrPoHNUtzdRUuIcU5mHnuyddMcWFYNotQmWRHQAAvPQlnylyfQsjwkOFAQDsF6Afaeiaoxqeof2otSvV9g6A05e8GQ1+kk1+i4ezCsqvCnlCREl1VnIyy0G1ItpH+u+//wKue5yQHeLyXgAAAABJRU5ErkJggg==\"></div>"
      ],
      "text/plain": [
       "True"
      ]
     },
     "execution_count": 66,
     "metadata": {
      "text/html": [],
      "text/plain": []
     },
     "output_type": "execute_result"
    }
   ],
   "source": [
    "nodStd / lastCoef[nodStd, x] === nodMy / lastCoef[nodMy, x]"
   ]
  },
  {
   "cell_type": "code",
   "execution_count": 67,
   "id": "9897b2bb",
   "metadata": {},
   "outputs": [
    {
     "data": {
      "text/html": [
       "<div><img alt=\"Output\" src=\"data:image/png;base64,iVBORw0KGgoAAAANSUhEUgAAACEAAAAgCAIAAAAT2oadAAAAz3pUWHRSYXcgcHJvZmlsZSB0eXBlIGV4aWYAAHjabU9BDgMhCLz7ij4BAUGf43bdpD/o8zvs2jY2nUQGxgEljefjSLcAZ0pavFozI0CbNu5IKl24OFM74wmejHrRE7/1Dql8L2xMfVt1tzmw/gyiOUniBeSis2EOEr703K96m37uta6DhBZo/Xz9fy3OViy7IiqTuzXkFasFWWEqbofdzWDMtjPpHTzMHW3m4ZAejQEevrpHMoGwxwoSJ0sHK2LG01hYBLmcukDZcCunJ9Z5AQfiWoTq5txYAAAACXBIWXMAAAsTAAALEwEAmpwYAAAAPHRFWHRTb2Z0d2FyZQBDcmVhdGVkIHdpdGggdGhlIFdvbGZyYW0gTGFuZ3VhZ2UgOiB3d3cud29sZnJhbS5jb21coqaFAAAAIXRFWHRDcmVhdGlvbiBUaW1lADIwMjE6MDQ6MTcgMTM6MzE6Mzefi9TtAAABhElEQVRIie1WMXLCMBDcy/AAHmFTZHiBeAGkSUVLJ5d2ky4FBQ8QJXRuqdLEfgG8wEOB/BelUMBnWdjOkEmR8Ta2Vqfbk++sE0wFrQQAyIxxmcQ3KrriIJT2GddpsHmhtFaCOeMjO29q0ErcSP7uAPVhXSOT9YHrg1n7QrjiCe3Yf+QAgHK72VdsHhERUXhY6t0cAMpLIZaTzxkREdFsW3IfrRrznVbFgoiIVlhKPmEjfD+HFNkgcEo2SO2epsmKq3TsI4iP1tvxBQWmk8AJ4lWiuFh3QqVxcGVPZ83M2vLhzy5DlQW2sGHL66oGmZlbNaNW0HdKt7J1oyRjTPvnehxddTVo/D+NkX2s1+vf9ZskyXg8tu9D7Q4af6pRbmdEtwZ0j7SEa9ZPI4/Cw1SKdjKPaIWUnek/0cijRaHSt+cOcr4zx9jpjD01rDNnsZfsiZFHAZmJA6DsIPuj2bddCOkmBrzL3rsCePq5/57QWNwkuzUe+T/sTS5MTtgv2ip4OHf74wtMn27ZhOvZpQAAAABJRU5ErkJggg==\"></div>"
      ],
      "text/plain": [
       "1936\n",
       "----\n",
       "441"
      ]
     },
     "execution_count": 67,
     "metadata": {
      "text/html": [],
      "text/plain": []
     },
     "output_type": "execute_result"
    }
   ],
   "source": [
    "lastCoef[nodMy, x] / lastCoef[nodStd, x]"
   ]
  }
 ],
 "metadata": {
  "kernelspec": {
   "display_name": "Wolfram Language 12.2",
   "language": "Wolfram Language",
   "name": "wolframlanguage12.2"
  },
  "language_info": {
   "codemirror_mode": "mathematica",
   "file_extension": ".m",
   "mimetype": "application/vnd.wolfram.m",
   "name": "Wolfram Language",
   "pygments_lexer": "mathematica",
   "version": "12.0"
  }
 },
 "nbformat": 4,
 "nbformat_minor": 5
}
