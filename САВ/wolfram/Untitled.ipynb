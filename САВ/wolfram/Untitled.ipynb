{
 "cells": [
  {
   "cell_type": "code",
   "execution_count": null,
   "metadata": {},
   "outputs": [],
   "source": [
    "p := 7*x^2 - 14*x*y + 9*y^2 + 8*x*z - 11*z^2 + x + y + z - 10;\n",
    "p//TraditionalForm"
   ]
  },
  {
   "cell_type": "code",
   "execution_count": null,
   "metadata": {},
   "outputs": [],
   "source": [
    "l =.\n",
    "A := {{7, -7, 4}, \n",
    "     {-7, 9, 0}, \n",
    "     {4, 0, -11}};\n",
    "a := {1, 1, 1};\n",
    "v := {x, y, z};\n",
    "AE := A - IdentityMatrix[3] * l;\n",
    "MatrixForm[A]\n",
    "MatrixForm[AE]"
   ]
  },
  {
   "cell_type": "code",
   "execution_count": null,
   "metadata": {},
   "outputs": [],
   "source": [
    "l=.\n",
    "vals := Eigenvalues[A]\n",
    "vecs := Eigenvectors[A]\n",
    "N[vals]"
   ]
  },
  {
   "cell_type": "code",
   "execution_count": null,
   "metadata": {},
   "outputs": [],
   "source": [
    "det := Det[AE]\n",
    "det\n",
    "sol := Solve[det == 0, l]\n",
    "l/.sol"
   ]
  },
  {
   "cell_type": "code",
   "execution_count": null,
   "metadata": {},
   "outputs": [],
   "source": [
    "v1 = Sort[vals]\n",
    "v2 = Sort[l/.sol]\n",
    "v1 == v2"
   ]
  },
  {
   "cell_type": "code",
   "execution_count": null,
   "metadata": {},
   "outputs": [],
   "source": [
    "p1 = CharacteristicPolynomial[A, l]\n",
    "det == p1"
   ]
  },
  {
   "cell_type": "code",
   "execution_count": null,
   "metadata": {},
   "outputs": [],
   "source": [
    "{vals, vecs} = Eigensystem[A]"
   ]
  },
  {
   "cell_type": "code",
   "execution_count": null,
   "metadata": {},
   "outputs": [],
   "source": [
    "l=.\n",
    "lambdas = l/.sol;\n",
    "myD = AE/.l->vals[[1]];\n",
    "MatrixForm[myD]"
   ]
  },
  {
   "cell_type": "code",
   "execution_count": null,
   "metadata": {},
   "outputs": [],
   "source": [
    "vec = {x, y, z};\n",
    "v1 = myD.vec;\n",
    "MatrixForm[v1]"
   ]
  },
  {
   "cell_type": "code",
   "execution_count": null,
   "metadata": {},
   "outputs": [],
   "source": [
    "rez1 = Solve[v1 == {0, 0, 0}]"
   ]
  },
  {
   "cell_type": "code",
   "execution_count": null,
   "metadata": {},
   "outputs": [],
   "source": [
    "y=.\n",
    "z=.\n",
    "rez2 = {y,z}/.rez1[[1]]"
   ]
  },
  {
   "cell_type": "code",
   "execution_count": null,
   "metadata": {},
   "outputs": [],
   "source": [
    "rez2 = rez2/.x->Eigenvectors[A][[2, 1]];\n",
    "rez3 = Prepend[rez2, Eigenvectors[A][[2,1]]];\n",
    "\n"
   ]
  },
  {
   "cell_type": "code",
   "execution_count": null,
   "metadata": {},
   "outputs": [],
   "source": [
    "FullSimplify[rez3 - vecs[[1]]];"
   ]
  },
  {
   "cell_type": "code",
   "execution_count": null,
   "metadata": {},
   "outputs": [],
   "source": [
    "v1 = Normalize[vecs[[1]]];\n",
    "S = {Normalize[vecs[[1]]], Normalize[vecs[[2]]], Normalize[vecs[[3]]]}"
   ]
  },
  {
   "cell_type": "code",
   "execution_count": null,
   "metadata": {},
   "outputs": [],
   "source": [
    "a = {1, 1, 1};\n",
    "a1 = Transpose[S].a"
   ]
  },
  {
   "cell_type": "code",
   "execution_count": null,
   "metadata": {},
   "outputs": [],
   "source": [
    "p1 = vals[[1]]*x1^2 + vals[[2]]*y1^2 + vals[[3]]*z1^2;\n",
    "p1 = p1 + 2*a1[[1]]*x1 + 2*a1[[2]]*y1 + 2*a1[[3]]*z1 - 10;\n",
    "pl = Simplify[p1]//N;\n",
    "\n",
    "pl/.{x1->x, y1->y, z1->z}"
   ]
  },
  {
   "cell_type": "code",
   "execution_count": null,
   "metadata": {},
   "outputs": [],
   "source": [
    "x=.\n",
    "y=.\n",
    "z=.\n",
    "f[a_, b_, c_] := pl/.{x1->a, y1->b, z1->c}\n",
    "RegionPlot3D[f[x, y, z] < 0, {x, -10, 10}, {y, -10, 10}, {z, -10, 10}]"
   ]
  },
  {
   "cell_type": "code",
   "execution_count": null,
   "metadata": {},
   "outputs": [],
   "source": [
    "TraditionalForm[f[x, y, z]]"
   ]
  }
 ],
 "metadata": {
  "kernelspec": {
   "display_name": "Wolfram Language 12.2",
   "language": "Wolfram Language",
   "name": "wolframlanguage12.2"
  },
  "language_info": {
   "codemirror_mode": "mathematica",
   "file_extension": ".m",
   "mimetype": "application/vnd.wolfram.m",
   "name": "Wolfram Language",
   "pygments_lexer": "mathematica",
   "version": "12.0"
  }
 },
 "nbformat": 4,
 "nbformat_minor": 4
}
