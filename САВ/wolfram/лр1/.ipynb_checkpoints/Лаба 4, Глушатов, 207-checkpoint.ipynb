{
 "cells": [
  {
   "cell_type": "code",
   "execution_count": 1,
   "metadata": {},
   "outputs": [
    {
     "name": "stdout",
     "output_type": "stream",
     "text": [
      "Number of your variant: 6\r\n"
     ]
    }
   ],
   "source": [
    "tasks := {\n",
    "    Sin[2*x^3]^2/x^3\n",
    "    , (x^2 - 4)*Sin[(Pi*(x^2))/6] / (x^2 - 1)\n",
    "    , Sqrt[Abs[3*x^3 + 2*x^2 - 10*x]] / (4*x)\n",
    "    , 1/2 * Log[Sqrt[x^2 + 1] / Sqrt[x^2 - 1]] - 15*x^2\n",
    "    , (x^3 - x^2 - x + 1)^(1/3) / Tan[x]\n",
    "    , 2*Log[(x - 1) / x] + 1\n",
    "    , Log[x - 1] / (x - 1)^2\n",
    "}\n",
    "\n",
    "getVariantForNumber[number_, variationsQuo_]:=(\n",
    "    Module[{t},\n",
    "        t = Mod[number , variationsQuo];\n",
    "        If[t != 0\n",
    "            , t\n",
    "            , variationsQuo\n",
    "        ]\n",
    "    ]\n",
    ")\n",
    "\n",
    "yourNumber := 6\n",
    "numberOfYourTask := getVariantForNumber[yourNumber, Length[tasks]]\n",
    "Print[\"Number of your variant: \", numberOfYourTask]"
   ]
  },
  {
   "cell_type": "markdown",
   "metadata": {},
   "source": [
    "<h1>Исследование функции</h1>"
   ]
  },
  {
   "cell_type": "code",
   "execution_count": 6,
   "metadata": {},
   "outputs": [
    {
     "data": {
      "text/html": [
       "<div><img alt=\"Output\" src=\"data:image/png;base64,iVBORw0KGgoAAAANSUhEUgAAAG4AAAAgCAIAAAB8a9qwAAAAzHpUWHRSYXcgcHJvZmlsZSB0eXBlIGV4aWYAAHjabU9bDsMgDPvnFDtCXiRwHLpSaTfY8ZcAm8Q2S42NGweS+vNxpVuAEJJkK1pVwSFVKjUXBSYmI9RRB7Svf7j7id5+cyv/BvDYfdPJVL4GwZrEcYNrlhVYg5imj22ej9VPrZR9EMMGKZ+n/z+zkWZFE69CYKbVdfHVgjQTZNNL76reiHoSyN25q5nH1KKDWwQD1G3v7knZjTNW4PiQm7OMah5FtqGL18xMh2seTqzzAlrgWsFsdCsTAAAACXBIWXMAAAsTAAALEwEAmpwYAAAAPHRFWHRTb2Z0d2FyZQBDcmVhdGVkIHdpdGggdGhlIFdvbGZyYW0gTGFuZ3VhZ2UgOiB3d3cud29sZnJhbS5jb21coqaFAAAAIXRFWHRDcmVhdGlvbiBUaW1lADIwMjE6MDQ6MDcgMTc6MDg6NTPB1Xn7AAACyUlEQVRoge2ZMZayMBDHJ749gIcIFvs8AZwg2GxlawdlaOwsLDwAKbGztbIxOQGewGdBcpd8BX4KihIWUdD9VTBkwvAnITME9NsiQxsAwONPul8P3hPhowmsjmo+h3eVkkQ6prislRJCFdmFjxDyxfnEYYXtcryrlGbIJCm0k0hzb+n6AkD47j6UBq8Fvh4dXTMowbYJwGBESf6ZlMoOF4zLn/jCUSpV6EgiGToWQuBxfaHjMZjLaDoipYQBpeTKrJSUMmsw1fLomBwOMBjcdrRte3dtxYRSAoIxgGxIHZHyBhgT83FY5JgkFiGFPQjfWo9lPNo6lsOMJvi7fiuFjxBCVrCDpYsya4ixt7sPVxQDpqsQAstk2YEnJV014fxZ2aExPAxlzvCuo/IF/En5MFIpFXOqf1BOHL1RYSarmGP0oek+vdo1lmKTw0xrrbUMIZh8hmxF9OrWWIBpHKXpFR4MYXeQha0uezsN5MxUSFdddHuEtxvjvFImiUWuk+QsKtmDN7vfBgBAMcdaj6WOcXqc5m1phaYpBhA+Wnyvyl7vfD43Db42QRD0+/37bUykLKuxUoRvBUOuDZTcrnfeLE57wXTmBRsJUD3TfqaUJpRLaVJjKeZYwZDrqFzIm5Afz3UtFAAA2KGMflXFvJJyKUtrrKo64tHYDhZsSigGUGyxtMdTAMUW/+d3V9Gae3lL8W/nq+T+yNXKf+F+cf149XxP+9RtPo58N12odlpTOHIvKx/3MhrrbkjZzmpHbJYwHHRsrrfmJxuZhrblomV6ZocyrrGEvYTWSAmYxpq+Oog6tHOCN8Cvdr4q0Z5R2TAk0hyQ6//oCIx3virxMVLC3Z2vR9AVKZMNS5KCHcfKFO98VSLdcTwcYJozI611zZ47g/DR4jvd+VqPHz/BW5OiNw33zpWVDG3IlwCP4JNGZcN8TDLUPH9SPox/2zQiDV8+ObwAAAAASUVORK5CYII=\"></div>"
      ],
      "text/plain": [
       "          -1 + x\n",
       "1 + 2 Log[------]\n",
       "            x"
      ]
     },
     "execution_count": 6,
     "metadata": {
      "text/html": [],
      "text/plain": []
     },
     "output_type": "execute_result"
    }
   ],
   "source": [
    "f[x_] = 2*Log[(x - 1) / x] + 1"
   ]
  },
  {
   "cell_type": "markdown",
   "metadata": {},
   "source": [
    "<h2>Область определения</h2>"
   ]
  },
  {
   "cell_type": "markdown",
   "metadata": {},
   "source": [
    "Выражение под логарифмом должно быть строго больше нуля, а выражение под знаменателем не равняться нулю"
   ]
  },
  {
   "cell_type": "code",
   "execution_count": 7,
   "metadata": {},
   "outputs": [
    {
     "data": {
      "text/html": [
       "<style>\n",
       "\t\t\t\t\t\t\t\t\t\t\t\t\t.grid-container {\n",
       "\t\t\t\t\t\t\t\t\t\t\t\t\t\tdisplay: inline-grid;\n",
       "\t\t\t\t\t\t\t\t\t\t\t\t\t\tgrid-template-columns: auto;\n",
       "\t\t\t\t\t\t\t\t\t\t\t\t\t}\n",
       "\t\t\t\t\t\t\t\t\t\t\t\t</style>\n",
       "\n",
       "\t\t\t\t\t\t\t\t\t\t\t\t<div><div class=\"grid-container\"><div class=\"grid-item\"><img alt=\"Output\" src=\"data:image/png;base64,iVBORw0KGgoAAAANSUhEUgAAAEEAAAAgCAIAAADCPYLtAAAAzXpUWHRSYXcgcHJvZmlsZSB0eXBlIGV4aWYAAHjabU9RjkMhCPz3FHsEBBz0OL7WJnuDPf6C2jY2nURmGAEljb/fR/oJcKakxSoaQA5t2ri7qLSwOFObcUI3e374iZ9+d6u8LzC2f52+YTHXj0G0J0m84Fp0N+xBwsvPfeXXrude6zlI6IDW19e/52KMgmzqUZnM0FxXXy0IhakYHrgBXphxZ9Kb84CZt8GiQno0BnjYWT0SxI17rCBxsnRnndG8NYtNXT0WEb5cy3RinX8LWFqLXecp+gAAAAlwSFlzAAALEwAACxMBAJqcGAAAADx0RVh0U29mdHdhcmUAQ3JlYXRlZCB3aXRoIHRoZSBXb2xmcmFtIExhbmd1YWdlIDogd3d3LndvbGZyYW0uY29tXKKmhQAAACF0RVh0Q3JlYXRpb24gVGltZQAyMDIxOjA0OjA3IDE3OjA4OjUzwdV5+wAAAcpJREFUWIXtmD1ygzAQhVeZHMCHAAqPTyCfAKpUadOJ0jTpXeQAosRdWh9AOkF8Ao8LVndRCn5MHGELDFjJ8FVGSGOeln27ArQVyCkAABN206flCW4jY/IGn6UMB7HREGb6a+PdmqWkVKZxGRNCYnm+WKfGef2x0WAH5rlxPMy0YLsolgAyjo4cLfajG8+N30o1N8jzrP+qWohKGReGGfK1TwgwoYcWAE0NSiFi85atiHJhfjpBELQvpJQe7njQa1hnP3J61ZcE59h2iwHlqJFToK2T+mOjQbCfss1K2jQIBvWTI6cwvAyitR4pwpMxnC89jlnD9Kh0TQrOpfJvaZCxn6wKR8HXvV9V/2Et4h4EZ1xctazSo7WumtDCIcsat91uJ9vMJEkWi8Xv8XCT+TJNYwjeN6GpSqr8CKsXD0DGJDpyzg77XEHoORSHGhScmUJSVFnByv2vo+JiPnh+sIRTjpftrResYBd9LFFnYRmVwANwKR+01hpRcMZas6KREHU47HqNiUDzG3Q5qTqJnVuWuddwg1mDG/TSMP4xvxs9TaSytobbPYz+3urOZ7O78oFSNz6b9dQ+8jG/E700jH/M78Rcp93gP2j4BqnDVZc51zQ+AAAAAElFTkSuQmCC\"></div><div class=\"grid-item\"><img alt=\"Output\" src=\"data:image/png;base64,iVBORw0KGgoAAAANSUhEUgAAAB4AAAAPCAIAAAB82OjLAAAAzXpUWHRSYXcgcHJvZmlsZSB0eXBlIGV4aWYAAHjabU/bDQMhDPtnio6QFw6Mw7Wc1A06fsOBWlHVErFj4tyR+ut5ptuAMCXLXlABCli1Ki1EoYnJTPWqs+nrjnc/0bn8Flb+XmAF+Nh9x2Qpv4tkCh1fCK22AmuRyvS5zf5Y89JK2RcpbbDy+fX/vbogg92impA7auiSQgYhC2XHiTsQg4yHkN2DO9wjBh8T2kZwQLrv0z1Bw3iMJ+g4rC3YruoRZfVLl6hZVY7QejnjOW+a/FrwsV5oQwAAAAlwSFlzAAALEwAACxMBAJqcGAAAADx0RVh0U29mdHdhcmUAQ3JlYXRlZCB3aXRoIHRoZSBXb2xmcmFtIExhbmd1YWdlIDogd3d3LndvbGZyYW0uY29tXKKmhQAAACF0RVh0Q3JlYXRpb24gVGltZQAyMDIxOjA0OjA3IDE3OjA4OjUzwdV5+wAAAQlJREFUOI3tlLFtwzAQRT+NjHJUYXgCegIyjaY4lV4iA5xLeYRUqagJnAmEFDrtcilkC3JkAk7hIkB+yTs+4t8/0JkZnqPNk7j/aIzHvZu0P44AAPuVsuRCgQGeaioBnM1gmTGfWmYgiJbJhVrm+ZpKmIAviK1luNTU1qJJvej5QD+9jp0qgOHjC3XXqY/xtmUceuxqArrGpV6EP9+HcQMAsVXpk3MJec0FQOS99x7Y1q/ee3+nBZi4yHY+VACWMYYQyhkREWFAFYmI1mSqdjilt61aGy8eKsJiUirh/qBVmJlDCMzMzJLXPYthXxPFTXIqoRhjMcL5/avrC+Dh5VMp7V1Jzv7i9/QNV923gv1M47oAAAAASUVORK5CYII=\"></div></div></div>"
      ],
      "text/plain": [
       "-1 + x\n",
       "------ > 0\n",
       "  x\n",
       "x != 0"
      ]
     },
     "execution_count": 7,
     "metadata": {
      "text/html": [],
      "text/plain": []
     },
     "output_type": "execute_result"
    }
   ],
   "source": [
    "g1 = ((x - 1) / x) > 0\n",
    "g2 = x != 0"
   ]
  },
  {
   "cell_type": "markdown",
   "metadata": {},
   "source": [
    "Так как мы видим, что второе неравенство входит в решение первого, то решать его не будем"
   ]
  },
  {
   "cell_type": "code",
   "execution_count": 9,
   "metadata": {},
   "outputs": [
    {
     "data": {
      "text/html": [
       "<div><img alt=\"Output\" src=\"data:image/png;base64,iVBORw0KGgoAAAANSUhEUgAAAFIAAAAPCAIAAAD4Xg/lAAAAznpUWHRSYXcgcHJvZmlsZSB0eXBlIGV4aWYAAHjabU9ZjkMhDPvnFHMESIIDx+G1PKk36PHHLJoRVS0RG2eBhP5+3eFnQFIMlr2gApGwalUaRYkLi1OsM05k2bl0+iHe22+08n8CffvX6TsWS/kctF/Q8QK12m7Yg1SWn9q6X7teWinnII0HrPx9/ftdXZCR3BhNojsqdQmUJHD17LjxAFiY8JRoD3KHO9vgo0LbaByQ7md1D1Aaz7GCjpO0kW1GZ2tSn7owZlW5qHU6Y51fVclawS8MrwAAAAAJcEhZcwAACxMAAAsTAQCanBgAAAA8dEVYdFNvZnR3YXJlAENyZWF0ZWQgd2l0aCB0aGUgV29sZnJhbSBMYW5ndWFnZSA6IHd3dy53b2xmcmFtLmNvbVyipoUAAAAhdEVYdENyZWF0aW9uIFRpbWUAMjAyMTowNDowNyAxNzowODo1M8HVefsAAAFuSURBVEiJ7Vc7csIwEH3mLDYF4xOIE5AqVdp0cpk0uUEOIJfQpaWiiXSC5AQZClZ3eSn4GA+SMIyBzJDXaXfnzXvaXY2dkcT9YXBrAbfBv+17Qn+2fT3O1hjXPlLj6nAqFu8NG3GV25z7su2q4rW0JEl5mhc7/r8AV2XP+BCjmtAArtq7BlelmgUA3tW1Oyhwi5kybxMA8J/zb8wWvfjuoM3VVUBPC5Mpv17ydowkrQa0Ja2GMsIIxBqtjQ3lxShou2FSxsR4rAnTx+LdtIk1JiIspJEk0cSAJnxIrHWCd025VRiXeIbto9paGhPmW7ab3VZKIQIvqyUeizyWRz4sMXt4HwmnE8CvflAO49WnI6Gt0VAMR1iupNvbyKY7YlRiyNO3udfgXdMDVWcN+VFtcmwayYMhX6+j7FKp9SbFam2CnpqXMk5wqu0O2iQ92luWfWi73e0r4azdvgTu9Cst4zX/wLz3eR5462Lxi+EXRTWDJAnxZB0AAAAASUVORK5CYII=\"></div>"
      ],
      "text/plain": [
       "x < 0 || x > 1"
      ]
     },
     "execution_count": 9,
     "metadata": {
      "text/html": [],
      "text/plain": []
     },
     "output_type": "execute_result"
    }
   ],
   "source": [
    "domain = Reduce[g1, x] "
   ]
  },
  {
   "cell_type": "markdown",
   "metadata": {},
   "source": [
    "<h2>Чётность и периодичность функции</h2>"
   ]
  },
  {
   "cell_type": "code",
   "execution_count": 10,
   "metadata": {},
   "outputs": [
    {
     "data": {
      "text/html": [
       "<style>\n",
       "\t\t\t\t\t\t\t\t\t\t\t\t\t.grid-container {\n",
       "\t\t\t\t\t\t\t\t\t\t\t\t\t\tdisplay: inline-grid;\n",
       "\t\t\t\t\t\t\t\t\t\t\t\t\t\tgrid-template-columns: auto;\n",
       "\t\t\t\t\t\t\t\t\t\t\t\t\t}\n",
       "\t\t\t\t\t\t\t\t\t\t\t\t</style>\n",
       "\n",
       "\t\t\t\t\t\t\t\t\t\t\t\t<div><div class=\"grid-container\"><div class=\"grid-item\"><img alt=\"Output\" src=\"data:image/png;base64,iVBORw0KGgoAAAANSUhEUgAAAMgAAAAgCAIAAADYLaAmAAAAzXpUWHRSYXcgcHJvZmlsZSB0eXBlIGV4aWYAAHjabU/tjUMhDPvPFB0hJMGBcXivVLoNbvwmQFVxOkvExvmApPH780qPAGdKWqyiAeTQpo27i0oLizO1GSfuTy6ffuKP390q3wTG9q/TNyzm+mcQ7UkSL7gW3Q17kPDyc1/3a9dzr/UcJHRAv1///y7GKMimHpXJDM119dWCUJiK4YUb8MKMJ5PezgNm3gaLCunRGOBhZ/VIEDeesYLEydKddUbz1iw2dfVYRPlyLdOJdd5bHVrCcDhtHwAAAAlwSFlzAAALEwAACxMBAJqcGAAAADx0RVh0U29mdHdhcmUAQ3JlYXRlZCB3aXRoIHRoZSBXb2xmcmFtIExhbmd1YWdlIDogd3d3LndvbGZyYW0uY29tXKKmhQAAACF0RVh0Q3JlYXRpb24gVGltZQAyMDIxOjA0OjA3IDE3OjA4OjU0X7HsWAAAAypJREFUeJztmz1yozAUgJ88e4AcQrjI+ARwAkiTKm06KKFJ5yLFHkCUpHObKk3QCfAJPC6Q7qItIBtiMEHmTwJ9lS37MeLzE8hPAoSWMGIDAPjp3B3RhqmNbUA/aICe4VCaMnRgBmM6JpabiCzEt0bTACEU0O83TsyH6pmqdDPGKW00cZOxP5Jd1B83ESkgL3gUCQTeibAeSbosWJ5brltvv8nYVInFafyZA2wfQrfzz8h5dWBgPFigmzDiWAiBn4oLR2U/5To6NVdl9jbGOG8MlDc2VWIx2IZhw2i4DueMsWpDV08dA23bPtZbsRuGLtA4BpDq7aRckdnXWH4+w3Z7PVDKmLq3Qozd7iNOLpAG1vsTyx4+HcuJl3Mr7G0szy23+Totb0zHyTsNEELIio7w5qHKvLJztHcihxADDg8EImsFk/c5jE1U1khTnUpOKSFs7j60oKDMmjEdr1gGDTCJZRiFDQAAjx1U0HD35LGzglnIcBiZAACwAeDx83kvhBCCEYie13HeY2FklmwAcJglRQUCb3dwPLNfQgCgOi4rfzGKPx/o+oBdPkZmyY86Fs9P4O9/Lwzy2LHen5jIcPG6KG3QwDsRJkIMQAP09/7Qoz70+vp6c6wsURTd3d0NftiJZapmrJJYNLCiXSo6qPh8P/r7rDhTHO796IMBSGdR2/rDlJok6bZsMrVM5YyVicVjx4p2qUh6rGO4j77nWSgCALAJS9rl3Lz+MC9duj29TBUR5R6wqzvAGLHti+IXIzZ8tf1/3fC9agFNvZpeCz0KpCuVWTMGorb968LKxeflp6n/1fAt4LutfhgFXbRwc2KtVmZDYg12aL96/qkPP4acgi5amH1JRzuZUy3p0I832G31mxgoiZYyh9s2474Q2/LQW/HOJixTd0OT8ugvc8D9WDjMRDjc4daN9jIXsQi9xucj+jG+MXV3kEpgno+QZXxji0gsaN3tb2hkZGOTJVb+Eef5yA+/NO/2l6J45uR8hpdBejQSg8kc0dhMdY+hKUs91TK2oZWRjS0isVIffqyKmNz6jfGNISFEz2uhwVBnEeUGg3qYxDKMwj+9YjUsElKPmAAAAABJRU5ErkJggg==\"></div><div class=\"grid-item\"><img alt=\"Output\" src=\"data:image/png;base64,iVBORw0KGgoAAAANSUhEUgAAAFIAAAAPCAIAAAD4Xg/lAAAAznpUWHRSYXcgcHJvZmlsZSB0eXBlIGV4aWYAAHjabU9ZjkMhDPvnFHMESIIDx+G1PKk36PHHLJoRVS0RG2eBhP5+3eFnQFIMlr2gApGwalUaRYkLi1OsM05k2bl0+iHe22+08n8CffvX6TsWS/kctF/Q8QK12m7Yg1SWn9q6X7teWinnII0HrPx9/ftdXZCR3BhNojsqdQmUJHD17LjxAFiY8JRoD3KHO9vgo0LbaByQ7md1D1Aaz7GCjpO0kW1GZ2tSn7owZjW5qHU6Y51fVdlawoJxMcIAAAAJcEhZcwAACxMAAAsTAQCanBgAAAA8dEVYdFNvZnR3YXJlAENyZWF0ZWQgd2l0aCB0aGUgV29sZnJhbSBMYW5ndWFnZSA6IHd3dy53b2xmcmFtLmNvbVyipoUAAAAhdEVYdENyZWF0aW9uIFRpbWUAMjAyMTowNDowNyAxNzowODo1NF+x7FgAAAH9SURBVEiJ7VU9cvIwEF1xFpmC4QTyCWx6jiCVpKFLSZdGKnFH64rG2hPgE3hSRLqLUvgHycYCMpPJl8n3KpB2n/S0u8/EOQd/D4ufvsDP4L/sfxEoiMD5bWuttQ/QTOKusq1KCZk5BAUhJFWPnDCX3SLOYVUaVTnmRfP4JUzlH93LRpGUa85m+M+N1BLK6nndVqUkB+06XHb0aYoYKKWPEE6iWtko8kae9qvbSXhutptss/V0oyBCqbSr4bVCXmEFAoCtyprrYzamtENul2xVSkjyUkORT/qiJ73Tbii8q6CIxzvnNAcmjXNGMuBDYQZozqRxzhnJ2h9tCvR/NO+yNIdRvpFsCLu9GkRML6A5wCy71uPL9jG9In9L+gsLQJGDnm8+qw7FekkBgAb1Bv7a5WRHd8wAAM8Fk/tJYaeMVVkPyXT3yuv32Iz2zZKsZkbQQ3Y0sskJiSoCAFioQ9E3Vt9jfnPYqqy9/fq5+abLNcRFfQMYu/8+i90laD6uA99pZ9OLiPhasmL1y1toxNlesiIP3Zlutqw4dE9r1aFgq6TbWa6h+fji9wKgNebt6XKSTX7HCEYzN53NYMUbnhsu4Iy8PvSwr/n1NM8PRitjgnbdO+fG4OuJD/iWEVKHs+3L/m2YWloseGRpfxK/WXaSACLiXS+wFhFhufGs/RMQky1L7JFYAwAAAABJRU5ErkJggg==\"></div><div class=\"grid-item\"><img alt=\"Output\" src=\"data:image/png;base64,iVBORw0KGgoAAAANSUhEUgAAALYAAAAgCAIAAAAwrRUNAAAAzXpUWHRSYXcgcHJvZmlsZSB0eXBlIGV4aWYAAHjabU9REkIhCPz3FB0BARc9jq9spht0/MBnNTbtjLAusEoaz8c9XQKcKWmxigaQQ5s27k4qnThzpjbjxIFVy7ue+K13l8q3gLH0Y9dtGXH9MaLlJPGCc9E1sIyETz339aPVz73W3Uhog9bP1//fxRgF2dSjMpmhOa++WiQUpmK44wp4Y8aNSa+eB8x8DBYd0mMwwMP27pEgLtxiBYmTpXvWGc1Hs9jk1WMR5cO5TCXWeQFWsVq/i68ZrAAAAAlwSFlzAAALEwAACxMBAJqcGAAAADx0RVh0U29mdHdhcmUAQ3JlYXRlZCB3aXRoIHRoZSBXb2xmcmFtIExhbmd1YWdlIDogd3d3LndvbGZyYW0uY29tXKKmhQAAACF0RVh0Q3JlYXRpb24gVGltZQAyMDIxOjA0OjA3IDE3OjA4OjU0X7HsWAAAAu1JREFUeJztmj2WqjAUx2/emQW4CLB4xxXACuA1U73WDkpoprOweAuAErtpp7KZZAW4Ag8FyV7yCnBE+dLIR4z5VRgw9+Z//gFyCXBloZEFAODhuRORi7tl+QVqQny0hs9SDs0JEVlUtYiT8DQw5s5COkRkUdUimsF4mzsBAEbi7xxg+SdwJpr2ZcQpQ96PNLJIYBEKyyBwpoxoOEHgAIljgEnj3oU0sugHjaYHVS1CfIQQMsMD7FyEEPLJ3BlJgYgsEjxoRsFJOE/mTkI+RGRR9S6iGQxtEU0PfRZhsY0K7Jg1nGxoHYAyqrwvEK8kS7dFWLzONmVlH8L1KOOuIX/t/LVk6baIEaRJsUQ2lis4ZPSWLs8zrOL34lUatU+9M9LUzhkhzWlKLEtrzuLcuqJh+RG8TX8lh8W2+fWX8tQoju2YpoFBfPcYUR4YAMRH/35/jmyB7XZ71RKG4WKxuK8Xmuem0z1k6WTpzFlMlsIijFWtZxjXmRLfDFeY3yDF99fB26TF/41g44V7CjCwH/qybdJCMARlrCUEgKyytOcsJssbADBG6cW98qJ7FttmuMI8eaAY7Lx7rmuiEADAimjyiDjd2Q5CGSLPMlguW0JIKktnzoLcsP+kdfcJjSwrorU/nNp+jhuuq4BxU/80skbeDYSj9px6LpBXlt5B9VLrodMitdfnq+SuzpdnsXdqOAtwbqt3c63F5bXjbRsTtojMskxtkaHAXnVE2IOLydM8XcbncTUfTeA5ZJm+ukr2O1gtZVjUSoW8skzyGc/5iCzTRbvilxXRVN5tGhPyJLJM86XXCFIeTBLpqXgOWRT9jEf8ShGT+D2Fy5dBSBZF94s4CceAXP+dJ+C7x4jKUdKfGyFZFLUIADgJjWwTIfAw1/744X5ZZLBIvo/zfJyt3pZlHeqtxVbvLIOPoeMNiTSyzLL2noKyzlCta2pEZFHUItiDi4K3dgnnXFAWxDkf+jamUQpFF72a4dAW0fTwH6abO5ilz4gMAAAAAElFTkSuQmCC\"></div></div></div>"
      ],
      "text/plain": [
       "        -1 - x           -1 + x\n",
       "2 Log[-(------)] - 2 Log[------]\n",
       "          x                x\n",
       "4 ArcCoth[x]\n",
       "           1              1\n",
       "-2 Log[1 - -] + 2 Log[1 + -]\n",
       "           x              x"
      ]
     },
     "execution_count": 10,
     "metadata": {
      "text/html": [],
      "text/plain": []
     },
     "output_type": "execute_result"
    }
   ],
   "source": [
    "g = f[-x] - f[x]\n",
    "FullSimplify[g]\n",
    "TrigToExp[FullSimplify[g]]"
   ]
  },
  {
   "cell_type": "code",
   "execution_count": 13,
   "metadata": {},
   "outputs": [
    {
     "data": {
      "text/html": [
       "<style>\n",
       "\t\t\t\t\t\t\t\t\t\t\t\t\t.grid-container {\n",
       "\t\t\t\t\t\t\t\t\t\t\t\t\t\tdisplay: inline-grid;\n",
       "\t\t\t\t\t\t\t\t\t\t\t\t\t\tgrid-template-columns: auto;\n",
       "\t\t\t\t\t\t\t\t\t\t\t\t\t}\n",
       "\t\t\t\t\t\t\t\t\t\t\t\t</style>\n",
       "\n",
       "\t\t\t\t\t\t\t\t\t\t\t\t<div><div class=\"grid-container\"><div class=\"grid-item\"><img alt=\"Output\" src=\"data:image/png;base64,iVBORw0KGgoAAAANSUhEUgAAAN0AAAAgCAIAAAAZquqKAAAAz3pUWHRSYXcgcHJvZmlsZSB0eXBlIGV4aWYAAHjabU/tbUQhDPvPFDdCSIID4/DucVI36PiXAG1FdZaIjfMBSeP765UeAc6UtFhFA8ihTRt3F5UWFmdqM07c987l00/843e3yl8CY/vX6RsWc/03iPYkiRdci+6GPUh4+bmv+7Xrudd6DhI6oPX365/vYoyCbOpRmczQXFdfLQiFqRheeAJemHEz6dN5wMzbYFEhPRoDPOysHgnixh0rSJws3VlnNG/NYlNXj0WUL9cynVjnDZ1jWu98s6oUAAAACXBIWXMAAAsTAAALEwEAmpwYAAAAPHRFWHRTb2Z0d2FyZQBDcmVhdGVkIHdpdGggdGhlIFdvbGZyYW0gTGFuZ3VhZ2UgOiB3d3cud29sZnJhbS5jb21coqaFAAAAIXRFWHRDcmVhdGlvbiBUaW1lADIwMjE6MDQ6MDcgMTc6MDg6NTRfsexYAAADV0lEQVR4nO2bO3arMBBARz5vAVmEcJHjFcAKIE2qtOmghCadixRZgChJ59ZVmqAV4BX4uEDai16Bk2DzMTIGJKNb2TJDlHuG3wwCMUcYsQEA/HTqiWjD2MYWMDtogF5hcxRt6MAExmaYl24ishBfG00DhFBA/744Mb/VzFSlmzFOaa2Jq4z9k5zi7HETkQLygmeRQODtCeuR4/cFy3PLdavjVxnTJC85jb9zgOVT6HbOAs7LhyXGNwt0E0YcCyHwU3Gm+DhPuYmOTaPM3sYY57WB8sY0yUsGyzCsORab4ZwxVh7oqrljoG3bu+oodsPQBRrHAFKzHZUGmX2N5YcDLJfNgVLGNMlLeTB2ux/vcoE0sLYvLHv6diwnvp/reG9jeW659VcJeWMzfO6hAUIIWdEOPj1UuiXvHO3tySbEgMMNgciawXPPFMZGqkf1JE11KjWmhLCp59CCgjIrxmZ4vjRogMlLg4osAAB47KCCq26WWsN57MzgDux2GJkAALAA4PHrYS2EEIIRiF5l/++e4YYyRuaRBQAOs6QoHeHlCnYHVrthU5epY/j53n7PCqWHu+KxD/U5dWuCkXmJk/olz/fgr+sLwk1dpo7hJ9vFjrV9YSLDxeeipEUDb0+YCDEADdDH46ZHXfD9/f3qWFmiKHp4eJCLUU+masZKeUkDK1qloq4R0N5luhBe2d33duevs2IvOFz70RcDkE7CtqbZmJYlUVOmcsaOecljx4pWqUga21OtXaaW8M64z77nWSgCALAJS9rdXt00mxY1ZaqIOL7zeemNz+ZacXs4I7Z9FsmIDT9jv59rtiv/dfVKwS1crKsbmWdUhICovO5Zb6VJ5aXws9+Pv6b+z8Cfv7+x6m4UVNnC1Xk5W5k1eakIqV/Wl/pwcsArqLKFyfuQ2snUpA9Jvz5htdTvpkhJtJSpzHtu7huxLQ99Ft9swjJ1X2BUHv1lKpOXgMNMhFNP4l7QXqaa1/FxmeNSsn4Mb0yd8+V0mKVksgxvzOQlALQujDLUMrAxXfIy/4rzfOBlhvULo6QoVvcdDvB2kxkNxM1kDmcMCSF67vkeoAH6eCwWRm1fzHW8A0Mbm6aOqhSpDyetPGjp4RmEGMOYOV8aVMTUiQwqYvLSoCL/AX3On2B/oUDGAAAAAElFTkSuQmCC\"></div><div class=\"grid-item\"><img alt=\"Output\" src=\"data:image/png;base64,iVBORw0KGgoAAAANSUhEUgAAANEAAAAgCAIAAAADlgoEAAAAznpUWHRSYXcgcHJvZmlsZSB0eXBlIGV4aWYAAHjabU9RbkQhCPz3FHsEBBz0OL59btIb9PgLatvY7CQywwgoaXx/vdIjwJmSFqtoADm0aePuotLC4kxtxol7s+eHn/jH726VvwuM7V+nb1jM9d8g2pMkXnAtuhv2IOHl577ya9dzr/UcJHRA6+/XP+dijIJs6lGZzNBcV18tCIWpGF54Al6YcTPp03nAzNtgUSE9GgM87KweCeLGHStInCzdWWc0b81iU1ePRZQv1zKdWOcNUkhavAmWgLMAAAAJcEhZcwAACxMAAAsTAQCanBgAAAA8dEVYdFNvZnR3YXJlAENyZWF0ZWQgd2l0aCB0aGUgV29sZnJhbSBMYW5ndWFnZSA6IHd3dy53b2xmcmFtLmNvbVyipoUAAAAhdEVYdENyZWF0aW9uIFRpbWUAMjAyMTowNDowNyAxNzowODo1NF+x7FgAAAQySURBVHic7Zw9duIwEMf/4u0BcgjZBY8TmBMImq1o09ml3aSjSJED2KXp0qZKg3UCOEGeC0l38RYmibEFKwd/4fhXgZDQjDSMZM0IZBMaZOgAgJv0LUiTDEWpGSbKcI884vU0Q2NhQErVtDnFuWpHkAHB4uzg076laBgzpS7NL/cIIR7/frOMDOyAc64rrmdzfC+ssU3GRAEphLacxVni7lYeB7i3+gil0Y+SQehM808dibjAmtVp0DqKR3sB2GufdfRbOPXYZZdXxKhKoVRxlik1lvGzoVRK25DFMlxahMBNspLBXRwTZiNSKJtnHZtTAvawTA4Stu93KhNlvs/AowjocywuKK6UlLJYYGp0p4YiTWHblxs6jnOsll4eEwuQwM9tTu1h++bVJ3qAUmbu2XQNhbCY3n9zz3rbyMN6v7SWkdnaCtA19hzs3BJr7OckYJnXvmO4RwghVnDEbkUKe+e75jaluEdWH+GrT0H91xCBZfQMAYDaEOWa5n5ugCtrS7A4y+K+hWgaM6WYr1/JWJxln6+pf8jM1zvN6mru536Nm5tolrTs6IxtTom0aWEmfgHUnpeLZgCgoiXJubZMz+3StvHU7GfbHRUtTfcEtb940Juw1hQfKPniWmQGqOgx3Z4CcggeL4yHTM/93IBiKQWGKdXEGTOA+oc4fzig9gLHVOprzudn27nbYikX63953IKjyh+5iIErbkmqH9C14kOmvKE7e25V4gPutsmHUymExUy/UEVL620jswPNX+fHQHmsJfMpwD3yMn+9PRR6Varn5+dSSRAEDw8PDXZRpiHFq5K3h/mYVDd0BZvjnhUskqwpk/tfLKXaYP92dLeHvB71t27wXj3Dbl+qm2euN8W7tLlbONmcipZWsEiyuDmLM4qlGMD+uquVRQIAcEIZ32KEzUnVQRdNKj4o/qAFg4NJLKXaZL1xgpfoifkUUNHLztk8ASp6+VxhepGqgy46UHxQzKCix+CIU0TE/JShgQDRMbBIsVPqH5LFqcx62+QxPepvF4V6/+nnPsJWLSg+XDQHu6YJxYnbT05z4hazqRMXTigLnyb9JFonYVGKdroYpOJXuDAmMnRL5cZxCGteOU/uHv6+w6J8NP0buGvFy8GEGrlMqVDoPk2RPYWOtSK7/J0TysPvSDQYjeLVOL2xzWniZt1QL41hRIxWcfO8kmrcbKT87L7J3dGRmkqgvCcwX1upjX0fi2vnsDhLQFbe3yyG+X2Tu6MjNTUpcDX2c9rc9nFy5b7JmOhATV2mbw2bo+sBOjrxHgnRziUs/X2T/I5TmuKp6f7q0ZjiejVrcXlM9HdoGjiBGR+n0zAZOuenYiOjfTW1FlPL5rIkTMY7A58kLr6mQIYORmp2Xaipd1Ik+75cYQCPIssf8Q5nokk450yT0FXT5iYmbmb6X6aJrvkHPFnAFIRoBdQAAAAASUVORK5CYII=\"></div></div></div>"
      ],
      "text/plain": [
       "            -1 - x           -1 + x\n",
       "2 + 2 Log[-(------)] + 2 Log[------]\n",
       "              x                x\n",
       "               1        -1 + x\n",
       "2 (1 + Log[1 + -] + Log[------])\n",
       "               x          x"
      ]
     },
     "execution_count": 13,
     "metadata": {
      "text/html": [],
      "text/plain": []
     },
     "output_type": "execute_result"
    }
   ],
   "source": [
    "g = f[-x] + f[x]\n",
    "FullSimplify[g]"
   ]
  },
  {
   "cell_type": "markdown",
   "metadata": {},
   "source": [
    "Функция не чётна и не нечётна"
   ]
  },
  {
   "cell_type": "code",
   "execution_count": 15,
   "metadata": {},
   "outputs": [
    {
     "data": {
      "text/html": [
       "<div><img alt=\"Output\" src=\"data:image/png;base64,iVBORw0KGgoAAAANSUhEUgAAAL0AAAAcCAIAAAC79SksAAAAznpUWHRSYXcgcHJvZmlsZSB0eXBlIGV4aWYAAHjabU9ZbgUhDPvnFO8I2XDgOMwMT+oNevwXFrWiqiVi4yyE1L+/3uk1IEzJshdUgAJWrUoLUWhhMVOdceJ6do5PP/G9/RZW/k2gb/86fcdiKX8GkSyh44XQarthD1JZPre90a6XVso5SOmAlZ/V/7+rCzLYLaIJuaOGLilkELJQdrxxA1HIeITsDu5wjzb4qNA2Ggek+1ndEzSMZ3xBx2FtwTajRyurT10iZjW5Qut0xnc+3y5bH8pKgKcAAAAJcEhZcwAACxMAAAsTAQCanBgAAAA8dEVYdFNvZnR3YXJlAENyZWF0ZWQgd2l0aCB0aGUgV29sZnJhbSBMYW5ndWFnZSA6IHd3dy53b2xmcmFtLmNvbVyipoUAAAAhdEVYdENyZWF0aW9uIFRpbWUAMjAyMTowNDowNyAxNzowODo1NF+x7FgAAAPiSURBVGiB7ZuvT/NAGMefEgRyAoEgYaJtCJnAkQyJWLqZNyHB4nqymHnE6zCt7ByWhATEekEgJuAvIIT0TlQgkBWICpK+YqPr1rv+ZoWX+7g9ubvn6fN873bbk0phGIJAUJD1Bn0HQXB3d+d5nu/7DYbxa2m1WltbW71er9VqFZ0rNXXeBEFweXl5cHDQbrdLxC2oju/7b29vk8nk+Ph4c3Oz0NzGdHN7e7uzs7O/v9+Id0GE53mTyeT09LTQrLX4B2why8KULg/i2avw8vKyu7tb54qCUrTbbc/zAAAoxhZCVqLMTHsY4ZgmCRnw7NU4Pz+vf1FBKRZqkU8G8fNGVWWmInl2we9lLXuIQJBA6EZQhp+vG2odShLCLKskSZJ0mLzoCSpTWDfzgkh1F6bGWuOLM5hd4x6Mld3OZg+QEHE8MIv9aDx7XdS9jwrrRjYeptdrHXSnzsJgpJx1piuSkyslLfnJgGxtwUbdJ+is+DaPkXQKl8TsrtRrPsrmls/Xf09RbOUJE9+MuuZQAwCg46tHGN3kmIXRbBNFmZjuK+XsEUZ9KWvzx1f5HIcRa0tiC1k4fZ9q9lccbTlii0OxxYizVG7TmeuGui47FI49L7I2AJQpneiEwEhSrk5MHZ7c7PNUs8MwXNji0+OQmN3P03DpJOKs4uijPsIAGPWfTJKsv2bYAxhni6d2csQ2hWILIYsohqEtDyiWWwWAZNvXIq9jdZBMMc+eCl0ClKHqZksHADCS+uCED4ZazGNlNJuYT31J6oPDK4ysGYZtKMRCK1ZPZmwUWwgRxbDtpGbm5M2tbKguYjzgon2qG0pcACXpk2dPhZIk7jM8p54fstqBUf/vHgltrZn7CUC3m303kRV1D55dsurfaCmxUeI+w5+UKhXNrQJ77pjRVVqwF/x/eW6O7sXZEFNPrJHoMzg6dGejHB3yLx7/UkoxpTNzTsxuFETSD3FMXXfSey5Znks0c/LEFhLH1HWTF1xGbhdqQUyTGf+iPd6fctjPy7bn1g1hp4TRn5pfVPj54UyYEgVUTDeOPvdIzC7LPUmrynwVZjCLowrqJkds8TAdXedVPSW3JfpTpXVTlV/a11xt8zgnFfuaAkFehG5WizIYMK+kPPt3Rehmtcgy51c+x/5daUw36+vrHx8fTXkXVKQx3Wxvb7++vjblXRDh+36J9wLiunE5/8zx7JU4Ojq6v79/f3+vf2lBboIgGI/HvV6v6MT4+wzUQhfqcKgtf9Xy7FXxPO/6+lpIp0E2NjYGg0Gn0wEAAErx+MJVbWOpscSwJ96DoRSY+uDZBf8PBWrf2PtTgh/NP/fzCuCBbSZZAAAAAElFTkSuQmCC\"></div>"
      ],
      "text/plain": [
       "{{T -> ConditionalExpression[0, x > 1 || x < 0]}}"
      ]
     },
     "execution_count": 16,
     "metadata": {
      "text/html": [],
      "text/plain": []
     },
     "output_type": "execute_result"
    }
   ],
   "source": [
    "g := f[x] - f[x + T]\n",
    "Solve[g == 0, T, Reals]"
   ]
  },
  {
   "cell_type": "markdown",
   "metadata": {},
   "source": [
    "По определению период функции не может быть равен нулю, следовательно данная функция не переодична"
   ]
  },
  {
   "cell_type": "markdown",
   "metadata": {},
   "source": [
    "<h2>Точки пересечения графика с осями координат</h2>"
   ]
  },
  {
   "cell_type": "markdown",
   "metadata": {},
   "source": [
    "Так как по области определения x не может равняться нулю, то сразу можно сделать вывод, что пересечения функции с\n",
    "осью ординат нет, поэтому найдем точки пересечения с осью абцисс"
   ]
  },
  {
   "cell_type": "code",
   "execution_count": 17,
   "metadata": {},
   "outputs": [
    {
     "data": {
      "text/html": [
       "<div><img alt=\"Output\" src=\"data:image/png;base64,iVBORw0KGgoAAAANSUhEUgAAAGYAAAAsCAIAAAAYflo/AAAAzXpUWHRSYXcgcHJvZmlsZSB0eXBlIGV4aWYAAHjabU9BDgMhCLz7ij4BAQGf4+66SX/Q5xfUNLXpJMIwmUFN/fW80yOAGRIXNaki4ODKFZsTg4nZM9RRB6ZzzJue8Fx6c6l8BfrSj13XtQjtZxHgJBQ3OCdegbWIcOq5zflYfmxm+yKCDWyfp/+fSVGKZGWvjKAq1bklp96kIBSVW04RN2a5EPj03kXVY6LhoBbBAHbd3T0JuXDFFyhOpuadR1WPZtLBzWuhgodzGkp85w1b6VrHu0muywAAAAlwSFlzAAALEwAACxMBAJqcGAAAADx0RVh0U29mdHdhcmUAQ3JlYXRlZCB3aXRoIHRoZSBXb2xmcmFtIExhbmd1YWdlIDogd3d3LndvbGZyYW0uY29tXKKmhQAAACF0RVh0Q3JlYXRpb24gVGltZQAyMDIxOjA0OjA3IDE3OjA4OjU1KLbczgAAA0dJREFUaIHtmb9O6zAUxo+v7tANNhgZkgydGFG6sKZd8gZsNVuyIFHpDgx3Y7E3wgJ9g7s0XrsUsbGgCsV+iGx0MwNFTRvnNoE4SaP+pvSrZcdf/OccG+ROwokNADAMa2j7F+weDKMLGC9dq55dtMwJ5Mwzamt+Fy2rmb1lhVmzjFFMKRNis1CW3hIEYxRjmupelr7aCUJCuGqHyNJrhhO71B0zd/eTo8yy1Gtqll4XDCOEkOk/wX0fIYQwq7T535W2Vg5OIGVQX/P75b8we8sKs7esMHvLClPcMoYTmxTDCPXSkUsSwWi1O5puVjumiCJwnHSJTd0JZAioj10ZAO6/Er4l3zOcAceUBZ6ibri5ufnmi/8M3/cPDw/XJBOAA6S7ktaXcWFISKiI5DL1/x2+8DQhGZI6DmoKEZKhqq+b+ufEFDwCMNMOZ+kAALadcfgiFJZFc5hHTU+4TOhGE0VauKknvMydL4VDsAmXnNhg50mmOBk2MudagxP1PEjpq+XfsSyu8n5TZxj1X8nYM8DwxgR8c/vyPxkENZ5v5YQDmLn04gmTE0j59Wx4M+ltKW843rYipSMYvf077461fKk2xmWC3kYA8Kqp+jZaZniBN+hqq76NlmmmCZYJ2qvh2Ovb1G6Zhhs2QXHvwn968i96Oj5D0rIoI9jM0ktBww2b4QWzmZRSzmaBKkv7IYkgwxkAxuzqyjHWe5ClN4n8uaoiuwQh2OQ2slL+qnUkV1HWshgorcnSy0HQnjn/I1WDQqylMIaOlyjW51Qom/VKNQ0xIThfSz50eFasz02/LjGMxq0HqYlZNQyj/n3i9zBUTs/CvL29UUqPjo6Souu6p6enP6y5dst08fj46LpuaqUvgdrjMl3EcazDL2ixZZr8gpZZ9vz8/PkQx3Gn09HUStN3zPyMRqM4jk9OTo6Pj6fT6dnZGXwenP2DrguW6Tll7by6z4er5P39/fr6Wkr58PAgpZQ8DAkhy/sa5U3Id2jVxOx0OgcHB4vFYrFYAABwiL7+MgelDbJWWQYAruve3d0tfzimBfP5hANwzllpZwsljdYGcXl5+fLykhB4ubdbLQxlp9Pp+fm5vvpbaJlu2raWVcDessJ8APfiDeQZnysfAAAAAElFTkSuQmCC\"></div>"
      ],
      "text/plain": [
       "            1\n",
       "{{x -> -----------}}\n",
       "              1\n",
       "       1 - -------\n",
       "           Sqrt[E]"
      ]
     },
     "execution_count": 17,
     "metadata": {
      "text/html": [],
      "text/plain": []
     },
     "output_type": "execute_result"
    }
   ],
   "source": [
    "l = Solve[f[x] == 0, x]"
   ]
  },
  {
   "cell_type": "markdown",
   "metadata": {},
   "source": [
    "<h2>Промежутки знакопостоянства</h2>"
   ]
  },
  {
   "cell_type": "code",
   "execution_count": 18,
   "metadata": {},
   "outputs": [
    {
     "data": {
      "text/html": [
       "<div><img alt=\"Output\" src=\"data:image/png;base64,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\"></div>"
      ],
      "text/plain": [
       "-Graphics-"
      ]
     },
     "execution_count": 20,
     "metadata": {
      "text/html": [],
      "text/plain": []
     },
     "output_type": "execute_result"
    }
   ],
   "source": [
    "x0 := l[[1,1,2]]\n",
    "margin := 0.2\n",
    "\n",
    "Show[ Graphics[Arrow[{{-1, 0}, {3.4, 0}}]], \n",
    "      Graphics[Point[{0, 0}]],\n",
    "      Graphics[Point[{1, 0}]],\n",
    "      Graphics[Point[{x0, 0}]],\n",
    "      \n",
    "      Graphics[Text[\"+\", {-0.5, 0.2}]],\n",
    "      Graphics[Text[\"не определено\", {0.5, margin}]],\n",
    "      Graphics[Text[\"-\", {(1 + x0) / 2, margin}]],\n",
    "      Graphics[Text[\"+\", {x0 + 0.4, margin}]],\n",
    "      \n",
    "      Graphics[Text[\"0\", {0, -margin}]],\n",
    "      Graphics[Text[\"1\", {1, -margin}]],\n",
    "      Graphics[Text[N[x0], {x0, -margin}]]\n",
    "    ]"
   ]
  },
  {
   "cell_type": "markdown",
   "metadata": {},
   "source": [
    "<h2>Промежутки возрастания и убывания</h2>"
   ]
  },
  {
   "cell_type": "code",
   "execution_count": 30,
   "metadata": {},
   "outputs": [
    {
     "data": {
      "text/html": [
       "<div><img alt=\"Output\" src=\"data:image/png;base64,iVBORw0KGgoAAAANSUhEUgAAAF0AAAAjCAIAAAB5O5ElAAAAz3pUWHRSYXcgcHJvZmlsZSB0eXBlIGV4aWYAAHjabU/RDUMhCPx3io6ggIeO4+vzJd2g4xfUtrHpJXLnCQihPx9XuDkoxSBZCyoQDVKlUjNR4sTkFOuIA/lcb2n3A/Hym1n5+4C+/GP3FZOp/DSKNAX7D6ZZVsFqxDT91Ob9WPnUStkbrYnekPIZ/f+dlZCRVCwKRVVU0yWYNEKmmBUX7oAlJpwU5W7coWplUM/g5oUO6rpn9wA24/QV2E/iZiwjqpUm1qGrRWaiwzQPx9d5AVvvWsAuRtOvAAAACXBIWXMAAAsTAAALEwEAmpwYAAAAPHRFWHRTb2Z0d2FyZQBDcmVhdGVkIHdpdGggdGhlIFdvbGZyYW0gTGFuZ3VhZ2UgOiB3d3cud29sZnJhbS5jb21coqaFAAAAIXRFWHRDcmVhdGlvbiBUaW1lADIwMjE6MDQ6MDcgMTc6MDk6MzJYNImOAAACYUlEQVRoge2ZMXajMBCGf+/bA/gQ4CLPJ8An0NK42tadKEOTLoV7N1C63DbVNkYniE/g5wLNXZRCxjZmcMxGQNjHV4GehoGfETMjYFpFJwEsQaLbdeWWH2gRSlfHV2OMMTpBvEqpTWdumRhjuvCjoskvZGYrunDmgFbj5QLlB8jlUERBR/EytGBBB/FC6WJwoqBtXShd+PF8cKIAQIu57pKkT8isRW9u6SofDY2O8tHgGHXhGXWxKdOyOJfkoy4q8uO5TQj695sfKTvc72e/fzJ5bmlt/rRJ86dVZ71e9/W+vkgcx9PptDpOpLS2h77wUZz4vvC862n5AfOlZ2vyQ5LI/VtOEN7gdanD8/zzITz452Fu8qlReRcqik9DvQbxNyCTQGklldbR/wel0eYIAHhavoT5pjh52T6XQkYsJQ5PoQcAahPvZWZ7ll5f1veA21Qc+wCesX7hYXVR6aNbsadSsSiG3KBSp5f7JxhdKM0RsunsBhVNVvhT2U34MmKW965MVRfaHWfPj8gCsTXvn88kpdjgU9FVoKnoujkRIf7WCHPHyi3Vj3PSbPfokvN5sqT2z1Embdl9VYs/cBf1Vg6p1C8a59qwgOj6lXh8ychRGGoi1lBsdbLwJxPIzJQDz5thRxCsp3orh3xe1xHpotGwPCrMyTA/HjGb1RsGQbB/6HoOrBpwG0Adr6Mg0UYnQcN1VGPlkGq9e+c5bmfKssS8OnXXy2S5Lyk9ZO1N3LVyCNMHZE0jxjmNY9Y9TP0iQuS9lg9qh7DvH058f0REDdKOY3p1XjD2jTxj38gz6sLzARLZA2QRzhteAAAAAElFTkSuQmCC\"></div>"
      ],
      "text/plain": [
       "    2\n",
       "---------- == 0\n",
       "(-1 + x) x"
      ]
     },
     "execution_count": 31,
     "metadata": {
      "text/html": [],
      "text/plain": []
     },
     "output_type": "execute_result"
    }
   ],
   "source": [
    "g := FullSimplify[D[f[x], x]] \n",
    "g == 0"
   ]
  },
  {
   "cell_type": "markdown",
   "metadata": {},
   "source": [
    "Корней у данного уравнения нет"
   ]
  },
  {
   "cell_type": "code",
   "execution_count": 32,
   "metadata": {},
   "outputs": [
    {
     "data": {
      "text/html": [
       "<div><img alt=\"Output\" src=\"data:image/png;base64,iVBORw0KGgoAAAANSUhEUgAAABwAAAAPCAIAAAB4LTj2AAAAzXpUWHRSYXcgcHJvZmlsZSB0eXBlIGV4aWYAAHjabU/bDQMhDPtnio4QkuDAONwdJ3WDjt/wUCuqWiJ2nAcQ2ut5h0cHRwqaLKMA5NCihauLTBOTI5URZ3KuWtz9QPfyq1vpW0Bb/rH7hsmcfxfxFNJvcC26BtYi4enHOvNj9XPNeV8ktEHz5+n/czFGQjT1qExmKK5zcOmExJQMN07AGyMuJj2dG8x8DNY7pPbBDm62d7cAcePqX5B+olRnHdF8NIoNXTyKKB+uZTj9O2+YDFrux4srRgAAAAlwSFlzAAALEwAACxMBAJqcGAAAADx0RVh0U29mdHdhcmUAQ3JlYXRlZCB3aXRoIHRoZSBXb2xmcmFtIExhbmd1YWdlIDogd3d3LndvbGZyYW0uY29tXKKmhQAAACF0RVh0Q3JlYXRpb24gVGltZQAyMDIxOjA0OjA3IDE3OjA5OjM0sVcsuwAAAMZJREFUOI3lkyESgzAQRf92epRyieYEiaqqrQsSTB03qEkkcbWoKnKCcgIGAblLKgidiYApU0ynX2V+dt7m72zIe4+ttduc+FtQpxnFYtp9S/VBtYSs/TaajW9TSvU7RWonz47XTrPoHNUtzdRUuIcU5mHnuyddMcWFYNotQmWRHQAAvPQlnylyfQsjwkOFAQDsF6Afaeiaoxqeof2otSvV9g6A05e8GQ1+kk1+i4ezCsqvCnlCREl1VnIyy0G1ItpH+u+//wKue5yQHeLyXgAAAABJRU5ErkJggg==\"></div>"
      ],
      "text/plain": [
       "True"
      ]
     },
     "execution_count": 32,
     "metadata": {
      "text/html": [],
      "text/plain": []
     },
     "output_type": "execute_result"
    }
   ],
   "source": [
    "Reduce[g > 0, x] == domain"
   ]
  },
  {
   "cell_type": "markdown",
   "metadata": {},
   "source": [
    "В области определения производная функции всегда больше нуля, а следовательно функция возрастает на всей своей области определения"
   ]
  },
  {
   "cell_type": "markdown",
   "metadata": {},
   "source": [
    "<h2>Точки экстремума и значения в этих точках</h2>"
   ]
  },
  {
   "cell_type": "markdown",
   "metadata": {},
   "source": [
    "Так как функция постоянно возрастает на своей области определения, то точек экстремума у функции нет"
   ]
  },
  {
   "cell_type": "markdown",
   "metadata": {},
   "source": [
    "<h2>Непрерывность. Наличие точек разрыва и их классификация</h2>"
   ]
  },
  {
   "cell_type": "markdown",
   "metadata": {},
   "source": [
    "По области определения видим, что нам надо проверить точки $x=0, 1$ на разрывы"
   ]
  },
  {
   "cell_type": "code",
   "execution_count": 23,
   "metadata": {},
   "outputs": [
    {
     "data": {
      "text/html": [
       "<div><pre style=\"&#102;&#111;&#110;&#116;&#45;&#102;&#97;&#109;&#105;&#108;&#121;&#58;&#32;&#34;&#67;&#111;&#117;&#114;&#105;&#101;&#114;&#32;&#78;&#101;&#119;&#34;&#44;&#67;&#111;&#117;&#114;&#105;&#101;&#114;&#44;&#109;&#111;&#110;&#111;&#115;&#112;&#97;&#99;&#101;&#59;\">&#120;&#32;&#61;&#32;&#48;&#32;&#45;&#32;&#1090;&#1086;&#1095;&#1082;&#1072;&#32;&#1088;&#1072;&#1079;&#1088;&#1099;&#1074;&#1072;&#32;&#1074;&#1090;&#1086;&#1088;&#1086;&#1075;&#1086;&#32;&#1088;&#1086;&#1076;&#1072;</pre></div>"
      ],
      "text/plain": [
       "x = 0 - точка разрыва второго рода"
      ]
     },
     "execution_count": 23,
     "metadata": {
      "text/html": [],
      "text/plain": []
     },
     "output_type": "execute_result"
    }
   ],
   "source": [
    "If[Limit[f[x], x->0, Direction -> \"FromAbove\"] == Limit[f[x], x->0, Direction -> \"FromBelow\"] \n",
    "    && Limit[f[x], x->0, Direction -> \"FromAbove\"] == Infinity, \n",
    "\"x = 0 - точка разрыва второго рода\"]"
   ]
  },
  {
   "cell_type": "code",
   "execution_count": 24,
   "metadata": {},
   "outputs": [
    {
     "data": {
      "text/html": [
       "<div><pre style=\"&#102;&#111;&#110;&#116;&#45;&#102;&#97;&#109;&#105;&#108;&#121;&#58;&#32;&#34;&#67;&#111;&#117;&#114;&#105;&#101;&#114;&#32;&#78;&#101;&#119;&#34;&#44;&#67;&#111;&#117;&#114;&#105;&#101;&#114;&#44;&#109;&#111;&#110;&#111;&#115;&#112;&#97;&#99;&#101;&#59;\">&#120;&#32;&#61;&#32;&#49;&#32;&#45;&#32;&#1090;&#1086;&#1095;&#1082;&#1072;&#32;&#1088;&#1072;&#1079;&#1088;&#1099;&#1074;&#1072;&#32;&#1074;&#1090;&#1086;&#1088;&#1086;&#1075;&#1086;&#32;&#1088;&#1086;&#1076;&#1072;</pre></div>"
      ],
      "text/plain": [
       "x = 1 - точка разрыва второго рода"
      ]
     },
     "execution_count": 24,
     "metadata": {
      "text/html": [],
      "text/plain": []
     },
     "output_type": "execute_result"
    }
   ],
   "source": [
    "If[Limit[f[x], x->1, Direction -> \"FromAbove\"] == Limit[f[x], x->1, Direction -> \"FromBelow\"] \n",
    "    && Limit[f[x], x->1, Direction -> \"FromAbove\"] == -Infinity,\n",
    "\"x = 1 - точка разрыва второго рода\", Null]"
   ]
  },
  {
   "cell_type": "markdown",
   "metadata": {},
   "source": [
    "Функция не непрерывна, так как терпит разрывы в точках $x=0, 1$. Оба разрыва второго рода"
   ]
  },
  {
   "cell_type": "markdown",
   "metadata": {},
   "source": [
    "<h2>Асимптоты</h2>"
   ]
  },
  {
   "cell_type": "markdown",
   "metadata": {},
   "source": [
    "<h3>Вертикальные асимптоты</h3>"
   ]
  },
  {
   "cell_type": "markdown",
   "metadata": {},
   "source": [
    "Мы уже знаем, что пределы в точках $x=0, 1$ стремятся к бесконечности, поэтому они и будут являться вертикальными асимптотами"
   ]
  },
  {
   "cell_type": "markdown",
   "metadata": {},
   "source": [
    "<h3>Горизонтальные асимптоты</h3>"
   ]
  },
  {
   "cell_type": "code",
   "execution_count": 25,
   "metadata": {},
   "outputs": [
    {
     "name": "stdout",
     "output_type": "stream",
     "text": [
      "y = 1\r\n"
     ]
    }
   ],
   "source": [
    "If[Limit[f[x], x-> +Infinity] == Limit[f[x], x-> -Infinity], Print[\"y = \", Limit[f[x], x-> Infinity]], Null]"
   ]
  },
  {
   "cell_type": "markdown",
   "metadata": {},
   "source": [
    "<h3>Наклонные асимптоты</h3>"
   ]
  },
  {
   "cell_type": "code",
   "execution_count": 26,
   "metadata": {},
   "outputs": [
    {
     "data": {
      "text/html": [
       "<style>\n",
       "\t\t\t\t\t\t\t\t\t\t\t\t\t.grid-container {\n",
       "\t\t\t\t\t\t\t\t\t\t\t\t\t\tdisplay: inline-grid;\n",
       "\t\t\t\t\t\t\t\t\t\t\t\t\t\tgrid-template-columns: auto;\n",
       "\t\t\t\t\t\t\t\t\t\t\t\t\t}\n",
       "\t\t\t\t\t\t\t\t\t\t\t\t</style>\n",
       "\n",
       "\t\t\t\t\t\t\t\t\t\t\t\t<div><div class=\"grid-container\"><div class=\"grid-item\"><pre style=\"&#102;&#111;&#110;&#116;&#45;&#102;&#97;&#109;&#105;&#108;&#121;&#58;&#32;&#34;&#67;&#111;&#117;&#114;&#105;&#101;&#114;&#32;&#78;&#101;&#119;&#34;&#44;&#67;&#111;&#117;&#114;&#105;&#101;&#114;&#44;&#109;&#111;&#110;&#111;&#115;&#112;&#97;&#99;&#101;&#59;\">&#48;</pre></div><div class=\"grid-item\"><pre style=\"&#102;&#111;&#110;&#116;&#45;&#102;&#97;&#109;&#105;&#108;&#121;&#58;&#32;&#34;&#67;&#111;&#117;&#114;&#105;&#101;&#114;&#32;&#78;&#101;&#119;&#34;&#44;&#67;&#111;&#117;&#114;&#105;&#101;&#114;&#44;&#109;&#111;&#110;&#111;&#115;&#112;&#97;&#99;&#101;&#59;\">&#48;</pre></div></div></div>"
      ],
      "text/plain": [
       "0\n",
       "0"
      ]
     },
     "execution_count": 26,
     "metadata": {
      "text/html": [],
      "text/plain": []
     },
     "output_type": "execute_result"
    }
   ],
   "source": [
    "Limit[f[x]/x, x-> +Infinity]\n",
    "Limit[f[x]/x, x-> -Infinity]"
   ]
  },
  {
   "cell_type": "markdown",
   "metadata": {},
   "source": [
    "Наклонных асимптот нет, так как пределы равны нулю"
   ]
  },
  {
   "cell_type": "code",
   "execution_count": 28,
   "metadata": {},
   "outputs": [
    {
     "data": {
      "text/html": [
       "<div><img alt=\"Output\" src=\"data:image/png;base64,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\"></div>"
      ],
      "text/plain": [
       "-Graphics-"
      ]
     },
     "execution_count": 29,
     "metadata": {
      "text/html": [],
      "text/plain": []
     },
     "output_type": "execute_result"
    }
   ],
   "source": [
    "d := Plot[\n",
    "    {f[x], y = 1}, \n",
    "    {x, -8, 8}, \n",
    "        AspectRatio -> 1, \n",
    "        PlotStyle -> {{Red}, {Gray, Dashing[{.02}]}, {Gray, Dashing[{.02}]}},\n",
    "        Axes->{x, y},\n",
    "        PlotRange-> {-8, 8}\n",
    "]\n",
    "\n",
    "Show[d, \n",
    "     Graphics[{Gray, Dashing[{.02}], Line[{{1, -8}, {1, 8}}]}],\n",
    "     Graphics[{Gray, Dashing[{.02}], Line[{{0, -8}, {0, 8}}]}]\n",
    "]"
   ]
  }
 ],
 "metadata": {
  "kernelspec": {
   "display_name": "Wolfram Language 12.2",
   "language": "Wolfram Language",
   "name": "wolframlanguage12.2"
  },
  "language_info": {
   "codemirror_mode": "mathematica",
   "file_extension": ".m",
   "mimetype": "application/vnd.wolfram.m",
   "name": "Wolfram Language",
   "pygments_lexer": "mathematica",
   "version": "12.0"
  }
 },
 "nbformat": 4,
 "nbformat_minor": 2
}
