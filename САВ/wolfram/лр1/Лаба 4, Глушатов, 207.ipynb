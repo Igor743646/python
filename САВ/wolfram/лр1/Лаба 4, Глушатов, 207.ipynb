{
 "cells": [
  {
   "cell_type": "code",
   "execution_count": 59,
   "metadata": {},
   "outputs": [
    {
     "name": "stdout",
     "output_type": "stream",
     "text": [
      "Number of your variant: 6\r\n"
     ]
    }
   ],
   "source": [
    "tasks := {\n",
    "    Sin[2*x^3]^2/x^3\n",
    "    , (x^2 - 4)*Sin[(Pi*(x^2))/6] / (x^2 - 1)\n",
    "    , Sqrt[Abs[3*x^3 + 2*x^2 - 10*x]] / (4*x)\n",
    "    , 1/2 * Log[Sqrt[x^2 + 1] / Sqrt[x^2 - 1]] - 15*x^2\n",
    "    , (x^3 - x^2 - x + 1)^(1/3) / Tan[x]\n",
    "    , 2*Log[(x - 1) / x] + 1\n",
    "    , Log[x - 1] / (x - 1)^2\n",
    "}\n",
    "\n",
    "getVariantForNumber[number_, variationsQuo_]:=(\n",
    "    Module[{t},\n",
    "        t = Mod[number , variationsQuo];\n",
    "        If[t != 0\n",
    "            , t\n",
    "            , variationsQuo\n",
    "        ]\n",
    "    ]\n",
    ")\n",
    "\n",
    "yourNumber := 6\n",
    "numberOfYourTask := getVariantForNumber[yourNumber, Length[tasks]]\n",
    "Print[\"Number of your variant: \", numberOfYourTask]"
   ]
  },
  {
   "cell_type": "markdown",
   "metadata": {},
   "source": [
    "<h1>Исследование функции</h1>"
   ]
  },
  {
   "cell_type": "code",
   "execution_count": 113,
   "metadata": {},
   "outputs": [
    {
     "data": {
      "text/html": [
       "<div><img alt=\"Output\" src=\"data:image/png;base64,iVBORw0KGgoAAAANSUhEUgAAAG4AAAAgCAIAAAB8a9qwAAAAzHpUWHRSYXcgcHJvZmlsZSB0eXBlIGV4aWYAAHjabU9REkIhCPz3FB0BARc9jq9spht0/OBpzVitI4sri5LG83FPlwBnSlqsogHk0KaNuyeVJiZnamc8gbHu8q4nfuvdpfJryMeuGyZz/WpEq5PEC56LLsNqJDz13Of5WPXca90bCW3Q+vn6/7MYoyCbelQmMzTPq48WhMJUDHdcAS/MuDHp1XnAzG2wqJAexgAP26tHgrhwixEkdpburGdsbiWpnhdfXUSYD1fkvI1xXlskWsJ1OaMTAAAACXBIWXMAAAsTAAALEwEAmpwYAAAAPHRFWHRTb2Z0d2FyZQBDcmVhdGVkIHdpdGggdGhlIFdvbGZyYW0gTGFuZ3VhZ2UgOiB3d3cud29sZnJhbS5jb21coqaFAAAAIXRFWHRDcmVhdGlvbiBUaW1lADIwMjE6MDQ6MDkgMDg6NTU6MzL+KfmCAAACyUlEQVRoge2ZMZayMBDHJ749gIcIFvs8AZwg2GxlawdlaOwsLDwAKbGztbIxOQGewGdBcpd8BX4KihIWUdD9VTBkwvAnITME9NsiQxsAwONPul8P3hPhowmsjmo+h3eVkkQ6prislRJCFdmFjxDyxfnEYYXtcryrlGbIJCm0k0hzb+n6AkD47j6UBq8Fvh4dXTMowbYJwGBESf6ZlMoOF4zLn/jCUSpV6EgiGToWQuBxfaHjMZjLaDoipYQBpeTKrJSUMmsw1fLomBwOMBjcdrRte3dtxYRSAoIxgGxIHZHyBhgT83FY5JgkFiGFPQjfWo9lPNo6lsOMJvi7fiuFjxBCVrCDpYsya4ixt7sPVxQDpqsQAstk2YEnJV014fxZ2aExPAxlzvCuo/IF/En5MFIpFXOqf1BOHL1RYSarmGP0oek+vdo1lmKTw0xrrbUMIZh8hmxF9OrWWIBpHKXpFR4MYXeQha0uezsN5MxUSFdddHuEtxvjvFImiUWuk+QsKtmDN7vfBgBAMcdaj6WOcXqc5m1phaYpBhA+Wnyvyl7vfD43Db42QRD0+/37bUykLKuxUoRvBUOuDZTcrnfeLE57wXTmBRsJUD3TfqaUJpRLaVJjKeZYwZDrqFzIm5Afz3UtFAAA2KGMflXFvJJyKUtrrKo64tHYDhZsSigGUGyxtMdTAMUW/+d3V9Gae3lL8W/nq+T+yNXKf+F+cf149XxP+9RtPo58N12odlpTOHIvKx/3MhrrbkjZzmpHbJYwHHRsrrfmJxuZhrblomV6ZocyrrGEvYTWSAmYxpq+Oog6tHOCN8Cvdr4q0Z5R2TAk0hyQ6//oCIx3virxMVLC3Z2vR9AVKZMNS5KCHcfKFO98VSLdcTwcYJozI611zZ47g/DR4jvd+VqPHz/BW5OiNw33zpWVDG3IlwCP4JNGZcN8TDLUPH9SPox/2zQiDV8+ObwAAAAASUVORK5CYII=\"></div>"
      ],
      "text/plain": [
       "          -1 + x\n",
       "1 + 2 Log[------]\n",
       "            x"
      ]
     },
     "execution_count": 113,
     "metadata": {
      "text/html": [],
      "text/plain": []
     },
     "output_type": "execute_result"
    }
   ],
   "source": [
    "f[x_] = 2*Log[(x - 1) / x] + 1"
   ]
  },
  {
   "cell_type": "markdown",
   "metadata": {},
   "source": [
    "<h2>Область определения</h2>"
   ]
  },
  {
   "cell_type": "markdown",
   "metadata": {},
   "source": [
    "Выражение под логарифмом должно быть строго больше нуля, а выражение под знаменателем не равняться нулю"
   ]
  },
  {
   "cell_type": "code",
   "execution_count": 114,
   "metadata": {},
   "outputs": [
    {
     "data": {
      "text/html": [
       "<style>\n",
       "\t\t\t\t\t\t\t\t\t\t\t\t\t.grid-container {\n",
       "\t\t\t\t\t\t\t\t\t\t\t\t\t\tdisplay: inline-grid;\n",
       "\t\t\t\t\t\t\t\t\t\t\t\t\t\tgrid-template-columns: auto;\n",
       "\t\t\t\t\t\t\t\t\t\t\t\t\t}\n",
       "\t\t\t\t\t\t\t\t\t\t\t\t</style>\n",
       "\n",
       "\t\t\t\t\t\t\t\t\t\t\t\t<div><div class=\"grid-container\"><div class=\"grid-item\"><img alt=\"Output\" src=\"data:image/png;base64,iVBORw0KGgoAAAANSUhEUgAAAEEAAAAgCAIAAADCPYLtAAAAznpUWHRSYXcgcHJvZmlsZSB0eXBlIGV4aWYAAHjabU9tEkIhCPzvKToCAoIex1c20w06fsvTamxaRxaWDyWN5+OeLgHOlLR4tWZGgDZt3OFUmpicqZ32hC5GvOmJ33qHVL4JG0s/dt1tMtefQbQmSbwAX3Q1rEHCU899xseq517rPkhog9bP1//H4mzFsiusMrlbg1+xWpAVpuJ2t6sZCrPdmPQKHuaONvOokB6NAR6+V49kAuEWK0jcLB2sp21oJanwC04XEeYDipzZWOcFC5xajBh4PPoAAAAJcEhZcwAACxMAAAsTAQCanBgAAAA8dEVYdFNvZnR3YXJlAENyZWF0ZWQgd2l0aCB0aGUgV29sZnJhbSBMYW5ndWFnZSA6IHd3dy53b2xmcmFtLmNvbVyipoUAAAAhdEVYdENyZWF0aW9uIFRpbWUAMjAyMTowNDowOSAwODo1NTozMv4p+YIAAAHKSURBVFiF7Zg9coMwEIVXmRzAhwAKj08gnwCqVGnTidI06V3kAKLEXVofQDpBfAKPC1Z3UQp+TBxhCwxYyfBVRkhjnpZ9uwK0FcgpAAATdtOn5QluI2PyBp+lDAex0RBm+mvj3ZqlpFSmcRkTQmJ5vlinxnn9sdFgB+a5cTzMtGC7KJYAMo6OHC32oxvPjd9KNTfI86z/qlqIShkXhhnytU8IMKGHFgBNDUohYvOWrYhyYX46QRC0L6SUHu540GtYZz9yetWXBOfYdosB5aiRU6Ctk/pjo0Gwn7LNSto0CAb1kyOnMLwMorUeKcKTMZwvPY5Zw/SodE0KzqXyb2mQsZ+sCkfB171fVf9hLeIeBGdcXLWs0qO1rprQwiHLGrfdbifbzCRJFovF7/Fwk/kyTWMI3jehqUqq/AirFw9AxiQ6cs4O+1xB6DkUhxoUnJlCUlRZwcr9r6PiYj54frCEU46X7a0XrGAXfSxRZ2EZlcADcCkftNYaUXDGWrOikRB1OOx6jYlA8xt0Oak6iZ1blrnXcINZgxv00jD+Mb8bPU2ksraG2z2M/t7qzmezu/KBUjc+m/XUPvIxvxO9NIx/zO/EXKfd4D9o+Aapw1WXOdc0PgAAAABJRU5ErkJggg==\"></div><div class=\"grid-item\"><img alt=\"Output\" src=\"data:image/png;base64,iVBORw0KGgoAAAANSUhEUgAAAB4AAAAPCAIAAAB82OjLAAAAz3pUWHRSYXcgcHJvZmlsZSB0eXBlIGV4aWYAAHjabU/RbQUhDPtnio4QkuDAONx7nNQNOn7NgVpR1ScSx4lzkMbX550+JjRL8hIVDRDCmzftJFUWVs7SnriKsXv51JPcW++Uym8D25CvUw+srPXvIl3E5h/IzbdhLzJdeu6rvva89lrPRSYHvP5c/f/aQlGQwxldJQKNvCZSJhSVErjxAjiY8VbxF/NABG2IOWF9Gid0xDk9EozCez7B5snWmf2JjVaxSl74dSP0omJPdz7nG5tQWvI/p0FkAAAACXBIWXMAAAsTAAALEwEAmpwYAAAAPHRFWHRTb2Z0d2FyZQBDcmVhdGVkIHdpdGggdGhlIFdvbGZyYW0gTGFuZ3VhZ2UgOiB3d3cud29sZnJhbS5jb21coqaFAAAAIXRFWHRDcmVhdGlvbiBUaW1lADIwMjE6MDQ6MDkgMDg6NTU6MzOJLskUAAABCUlEQVQ4je2UsW3DMBBFP42MclRheAJ6AjKNpjiVXiIDnEt5hFSpqAmcCYQUOu1yKWQLcmQCTuEiQH7JOz7i3z/QmRmeo82TuP9ojMe9m7Q/jgAA+5Wy5EKBAZ5qKgGczWCZMZ9aZiCIlsmFWub5mkqYgC+IrWW41NTWokm96PlAP72OnSqA4eMLddepj/G2ZRx67GoCusalXoQ/34dxAwCxVemTcwl5zQVA5L33HtjWr957f6cFmLjIdj5UAJYxhhDKGRERYUAViYjWZKp2OKW3rVobLx4qwmJSKuH+oFWYmUMIzMzMktc9i2FfE8VNciqhGGMxwvn9q+sL4OHlUyntXUnO/uL39A1X3beC/UzjugAAAABJRU5ErkJggg==\"></div></div></div>"
      ],
      "text/plain": [
       "-1 + x\n",
       "------ > 0\n",
       "  x\n",
       "x != 0"
      ]
     },
     "execution_count": 114,
     "metadata": {
      "text/html": [],
      "text/plain": []
     },
     "output_type": "execute_result"
    }
   ],
   "source": [
    "g1 = ((x - 1) / x) > 0\n",
    "g2 = x != 0"
   ]
  },
  {
   "cell_type": "markdown",
   "metadata": {},
   "source": [
    "Так как мы видим, что второе неравенство входит в решение первого, то решать его не будем"
   ]
  },
  {
   "cell_type": "code",
   "execution_count": 116,
   "metadata": {},
   "outputs": [
    {
     "data": {
      "text/html": [
       "<div><img alt=\"Output\" src=\"data:image/png;base64,iVBORw0KGgoAAAANSUhEUgAAAFIAAAAPCAIAAAD4Xg/lAAAAz3pUWHRSYXcgcHJvZmlsZSB0eXBlIGV4aWYAAHjabU9tbsUgDPvPKXaEkAQHjkPfo9JusOPPFLSJaUaNjfNBk8bX550+JjRL8hIVDRDCmzftFFUWFmdpT3xQdOfy6Se5t99pld8Exvav0w8s1vp30H7B5gvU5rthDzJdfu7rfu167bWeg0wOeP359f/vFoqCHM7oKhFo1DVRksDVS+DGC2BhxlvFX+SBCLYhZoX12TihI87qkWA03nMFm1+2TvYnNraKVerC043Qi4492bnON1YdWsOMFGzeAAAACXBIWXMAAAsTAAALEwEAmpwYAAAAPHRFWHRTb2Z0d2FyZQBDcmVhdGVkIHdpdGggdGhlIFdvbGZyYW0gTGFuZ3VhZ2UgOiB3d3cud29sZnJhbS5jb21coqaFAAAAIXRFWHRDcmVhdGlvbiBUaW1lADIwMjE6MDQ6MDkgMDg6NTU6MzOJLskUAAABbklEQVRIie1XO3LCMBB95iw2BeMTiBOQKlXadHKZNLlBDiCX0KWlool0guQEGQpWd3kp+BgPkjCMgcyQ12l358172l2NnZHE/WFwawG3wb/te0J/tn09ztYY1z5S4+pwKhbvDRtxlduc+7LtquK1tCRJeZoXO/6/AFdlz/gQo5rQAK7auwZXpZoFAN7VtTsocIuZMm8TAPCf82/MFr347qDN1VVATwuTKb9e8naMJK0GtCWthjLCCMQarY0N5cUoaLthUsbEeKwJ08fi3bSJNSYiLKSRJNHEgCZ8SKx1gndNuVUYl3iG7aPaWhoT5lu2m91WSiECL6slHos8lkc+LDF7eB8JpxPAr35QDuPVpyOhrdFQDEdYrqTb28imO2JUYsjTt7nX4F3TA1VnDflRbXJsGsmDIV+vo+xSqfUmxWptgp6alzJOcKrtDtokPdpbln1ou93tK+Gs3b4E7vQrLeM1/8C893keeOti8YvhF0U1gyQJ8WQdAAAAAElFTkSuQmCC\"></div>"
      ],
      "text/plain": [
       "x < 0 || x > 1"
      ]
     },
     "execution_count": 116,
     "metadata": {
      "text/html": [],
      "text/plain": []
     },
     "output_type": "execute_result"
    }
   ],
   "source": [
    "domain = Reduce[g1, x] "
   ]
  },
  {
   "cell_type": "markdown",
   "metadata": {},
   "source": [
    "<h2>Чётность и периодичность функции</h2>"
   ]
  },
  {
   "cell_type": "code",
   "execution_count": 183,
   "metadata": {},
   "outputs": [
    {
     "data": {
      "text/html": [
       "<style>\n",
       "\t\t\t\t\t\t\t\t\t\t\t\t\t.grid-container {\n",
       "\t\t\t\t\t\t\t\t\t\t\t\t\t\tdisplay: inline-grid;\n",
       "\t\t\t\t\t\t\t\t\t\t\t\t\t\tgrid-template-columns: auto;\n",
       "\t\t\t\t\t\t\t\t\t\t\t\t\t}\n",
       "\t\t\t\t\t\t\t\t\t\t\t\t</style>\n",
       "\n",
       "\t\t\t\t\t\t\t\t\t\t\t\t<div><div class=\"grid-container\"><div class=\"grid-item\"><img alt=\"Output\" src=\"data:image/png;base64,iVBORw0KGgoAAAANSUhEUgAAAG4AAAAgCAIAAAB8a9qwAAAAzXpUWHRSYXcgcHJvZmlsZSB0eXBlIGV4aWYAAHjabU/tbUQhDPvPFB0hXzgwDu+Ok7pBx2/yoJVozxJxcOJAyvz6fJWPhDAVq97QAQpYty4jkkYLi5n6HW9g7hqfepEffYRU/xv4OnXHYml/BtGepPlC5GrbsAepLJ3Hul+7X0Zr5yClA9Z+v/7+ri6oYLeIJuSOHnmL1ZJQharjhQcQjYynkD2CJ9zDBs8OHWlMyPSzexZoCM9cQfOwjmC7Yw8raYu8KiJyKFcoeldznW9bhlrIDWr22AAAAAlwSFlzAAALEwAACxMBAJqcGAAAADx0RVh0U29mdHdhcmUAQ3JlYXRlZCB3aXRoIHRoZSBXb2xmcmFtIExhbmd1YWdlIDogd3d3LndvbGZyYW0uY29tXKKmhQAAACF0RVh0Q3JlYXRpb24gVGltZQAyMDIxOjA0OjA5IDA4OjU2OjE5SXjtZgAAAslJREFUaIHtmTGWsjAQxye+PYCHCBb7PAGcINhsZWsHZWjsLCw8ACmxs7WyMTkBnsBnQXKXfAV+CooSFlHQ/VUwZMLwJyEzBPTbIkMbAMDjT7pfD94T4aMJrI5qPod3lZJEOqa4rJUSQhXZhY8Q8sX5xGGF7XK8q5RmyCQptJNIc2/p+gJA+O4+lAavBb4eHV0zKMG2CcBgREn+mZTKDheMy5/4wlEqVehIIhk6FkLgcX2h4zGYy2g6IqWEAaXkyqyUlDJrMNXy6JgcDjAY3Ha0bXt3bcWEUgKCMYBsSB2R8gYYE/NxWOSYJBYhhT0I31qPZTzaOpbDjCb4u34rhY8QQlawg6WLMmuIsbe7D1cUA6arEALLZNmBJyVdNeH8WdmhMTwMZc7wrqPyBfxJ+TBSKRVzqn9QThy9UWEmq5hj9KHpPr3aNZZik8NMa621DCGYfIZsRfTq1liAaRyl6RUeDGF3kIWtLns7DeTMVEhXXXR7hLcb47xSJolFrpPkLCrZgze73wYAQDHHWo+ljnF6nOZtaYWmKQYQPlp8r8pe73w+Nw2+NkEQ9Pv9+21MpCyrsVKEbwVDrg2U3K533ixOe8F05gUbCVA9036mlCaUS2lSYynmWMGQ66hcyJuQH891LRQAANihjH5VxbyScilLa6yqOuLR2A4WbEooBlBssbTHUwDFFv/nd1fRmnt5S/Fv56vk/sjVyn/hfnH9ePV8T/vUbT6OfDddqHZaUzhyLysf9zIa625I2c5qR2yWMBx0bK635icbmYa25aJlemaHMq6xhL2E1kgJmMaavjqIOrRzgjfAr3a+KtGeUdkwJNIckOv/6AiMd74q8TFSwt2dr0fQFSmTDUuSgh3HyhTvfFUi3XE8HGCaMyOtdc2eO4Pw0eI73flajx8/wVuTojcN986VlQxtyJcAj+CTRmXDfEwy1Dx/Uj6Mf9s0Ig1fPjm8AAAAAElFTkSuQmCC\"></div><div class=\"grid-item\"><img alt=\"Output\" src=\"data:image/png;base64,iVBORw0KGgoAAAANSUhEUgAAAHcAAAAgCAIAAACn0HCSAAAAz3pUWHRSYXcgcHJvZmlsZSB0eXBlIGV4aWYAAHjabU/RbUQhDPtnio4QkuDAOLw7TuoGHb/mQVtRnSXi4DiBpPH1+UofE5oleYmKBgjhzZt2JlUWFmdpd7wRsWv51JP+6J1S+StgbP069cBirf8GyZ5k8wXm5rthDzJdeu7rfm2/9lrPQSYHvP5+/f3dQlGQwxlduSoa88rVJqGolMALD4DGjKeKP8gDEWxDTIf12TihI073SDAKz7mCzZOtk/2Oja1ilXkxMGYqFxW7q3OdbxlCWpsCw+x0AAAACXBIWXMAAAsTAAALEwEAmpwYAAAAPHRFWHRTb2Z0d2FyZQBDcmVhdGVkIHdpdGggdGhlIFdvbGZyYW0gTGFuZ3VhZ2UgOiB3d3cud29sZnJhbS5jb21coqaFAAAAIXRFWHRDcmVhdGlvbiBUaW1lADIwMjE6MDQ6MDkgMDg6NTY6MTlJeO1mAAACuklEQVRoge2ZMZaqMBSGbzxvAS4iUMxxBbCCaDOVrR2U0NhZWLgAUmI3rZWNZAW4Ag8FyV7yCvAJyGiCPgTxqyBwQ85PCPfPBTlEeGABADhRS88bweBgLlrATy50OwxQZRLK2MNNo5mLEHLZ5cSm4m7Qn6ZPGyoklBGgqfstQ3Cnp4CrvLGeqCwYPaQA5swjyrNQiOIkw/hpgSTkgW0gBE4kKxLn46wOtCcqczA9j+hECME5LzaoyqwYaFnW8boVE88jwCgFKI62JyrrgzFRn716gcw1dnMezw62YVOlFQNaymUeJIqel3RFTlkBvXwucgCsgEsp84TwfFK8J6i0ve1c/h0SShk+FH0+xl4sPZWgAWZyL+CjchtkKgtqo0KyrUkejWozdEFtlbz9vRk97DgFXSSr/GcA/mLwitYxUnWcgrF6/bAXh1luiM0JHBNee1e1t3/Tv/ABMRcVeKcvQDnH4GlqkNu+QKQncFb3vYOgtrGbcxnj7DhLOpk7PQVcehiAuWjz9dN8rwHW63XjWF183x+Px7fvUVH57Di5EPC7h2Ku4U8iqSDyYXd0VnHWC/ZWjr/nANqS3vLBbaqswn2Vc8eZJgmYJkCtzILahj+JZKhlgsuQb2c6NZAPAGAFPLwte2MD/RLuq3x2nGlqkNqtGl2J8Wxu+Ru6JB4GEHSzteZLAEE35wVDqZOmBvo1qDrOK9eYc5WbVMIr1/Orl2deDGp5HOVunumw/z9XWnVmHyNyispGTnl/oOcqd9P7sf0WJmaPVoQ7dGa3iCwDy5iibXZmBTx+4E/aNTqjsvoGVw/p5orRLo0Kplp0Zy6/jkYFUy0+KgPAzYLpM+iLyumepqleDVub+oKpFlkNO0lgWWpG8lJgGTDMRZuvrGC6mz9/xeiMK3khKgXTx/jM5Tb4ZHJt8FG5Df4CRWOG6Lqx2bsAAAAASUVORK5CYII=\"></div><div class=\"grid-item\"><img alt=\"Output\" src=\"data:image/png;base64,iVBORw0KGgoAAAANSUhEUgAAAGIAAAAPCAIAAACQrY3dAAAAznpUWHRSYXcgcHJvZmlsZSB0eXBlIGV4aWYAAHjabU/RbQUhDPtnio4QkuDAONx7nNQNOn7NgapS1RKxMXGANL4+7/QxoVmSl6hogBDevGmnqLKwOEt76gPoPsunn+TefqdVfgXG9q/TDyzW+nfQvsHmDdTmO7AHmS4/97W/dr/2Ws9BJge8/jz9/72FoiCHs7pKBBp1TZQkFJUSuPEC2JjxVvEXeSCCMcTssD6DEzri7B4JRuM9v2BzZetkf2pjVKxSFwNrpnPRsed0fucbV+laydUGGGwAAAAJcEhZcwAACxMAAAsTAQCanBgAAAA8dEVYdFNvZnR3YXJlAENyZWF0ZWQgd2l0aCB0aGUgV29sZnJhbSBMYW5ndWFnZSA6IHd3dy53b2xmcmFtLmNvbVyipoUAAAAhdEVYdENyZWF0aW9uIFRpbWUAMjAyMTowNDowOSAwODo1NjoxOUl47WYAAAIKSURBVFiF7VUxkqQgFP1YexTdoMsT2CeQTTqadDMMJZnMsLNOMNRsU6NNxBO0J7A6aLgLE4CiA63W1FbNzm6/CH594PH++4CUUvDEFoLPJvA18JRpF54y7cIkU5ehrPtMJn83lFKCJXZOuHrCAQiWQMKE4gQIV2Y2BjWmmc6ZYnpsR4oTgPVMs6lgCSwSdlRpdo6z/2LxYj+AVUqasnO2QykQt54UeWhCYV6Q/ibCvCB900oAAJBtM095AFkeEQau1HUrE6C70N6u+0lj7pLbiS6LbsWoHeBjKSHMr++kXKGUVlaaAetnx0Pp0ROenkadZNsAe01NvMYIIYRQZC+qo1HzIlSVerZyb4aBLRQZ7nJ7Wfg9dhPlfZgoIVxvbOEj32XId6N3JwXRIanP5RiT5blODhEApK8MmlZCd6HxzEreTgHCOenpZc8X0GYYePXD3j6/ipcmcok6SCse02ipiLj19nFY942XfJfhway3QQ+lIMyvPKYRwvXoCXNUmBdx05a/a3La4ZG0EmzAm59lT+lgrWmYRsbim01nO2R8UtLT3vJ4Ie/DRGP2ELiUgvF008nzcqSnmNJ9KoGuARswOhprzh1e41G/hP1aFLzLcE34rmb1wpTH4Fju6N4F54L02qHnAyMrlB59LKZmC0t/FLNP5ovi22Optapq89/6L+AVT7f+H3HSv4E3f2AxyTcAq7MAAAAASUVORK5CYII=\"></div><div class=\"grid-item\"><img alt=\"Output\" src=\"data:image/png;base64,iVBORw0KGgoAAAANSUhEUgAAAHAAAAAPCAIAAACz9twIAAAAz3pUWHRSYXcgcHJvZmlsZSB0eXBlIGV4aWYAAHjabU/tbQUhDPvPFB0hJMGBcbj3OKkbdPyaA7WiqiVix/kA0vj6vNPHhGZJXqKiAUJ486adosrC4iztiQ9il5gffpJ7+51W+S1gbP86/cBirX8X6RI2b6A23wN7kenyc1/5tfu113ouMjng9efp/+cWioIczugqEWjUNVGSUFRK4MYLYGPGW8Vf5IEIjiFmh/U5OKEjzu6RYDTe8ws2T7ZO9ic2jopV6mJgzHQuOvZU53e+AVZxWsgXlfXLAAAACXBIWXMAAAsTAAALEwEAmpwYAAAAPHRFWHRTb2Z0d2FyZQBDcmVhdGVkIHdpdGggdGhlIFdvbGZyYW0gTGFuZ3VhZ2UgOiB3d3cud29sZnJhbS5jb21coqaFAAAAIXRFWHRDcmVhdGlvbiBUaW1lADIwMjE6MDQ6MDkgMDg6NTY6MTlJeO1mAAACI0lEQVRYhe1WO5KjMBBtUXsU2MDFCZgToEkcTbqZCFEyGaEzJ3II2aZEmyBOYE5AObC4izaQ+MgIrJlx1VR5eBFqt9RPrz8yklLChsfB+24Cz4ZN0AdjE/TBGAStE5TU38nkWSClFCwa14TLDV8ACBZBxITkBAiXetUbFYaV8hls6nv8kpwArHvqQwWLwHBwyaf1TGO7Nk1/vd1leBqRAVbJq8vNWM7Ie+LSkCz1tclPM9JchJ9mpCmrDgAAuqqcuiygO70gDFzK8z1PgPpIm3HfHxryOTlH1ElwyXrtAL+cug94+un5RvQV8nE+ithiNR4t5JcepXjfK9pVJbD3WNsLjBBCCAWjJMoalG9C5rHlqPnNMDBDu/a6KIOJWfTu2g5GhAtl9H+H8yOtnu6BAKBOkO3uN5G8YBcVhyGv3elQRLsAAOJ3BmXVQX2k4aQ8rX0KhHPS0KPLo1YlGHj+Oqz99CzeymBO1IZZdHFpxtE0VFic85AGpnZ2T+dAUCe41ftHo4W856dnHtIA4aKvMx3KT7OwrE7/CrJ3qLs4F6zFd/8oNJS2Y7lrpoFum0+0fLy3J3Lsz370LXk6oru2A+HJwJqT9/roeo5MExfvQ0rd9ASVLdZi1I+xadcUuFc6Yn+N0qgTXBDuNCqs0InUWBmhH/C0wU8z0qiqP+wYWSG/+KgqkY02+Swmz+bT49dyUpT+8u6bvcGAVWY1eB5SnT8N/wE0MPx+5avi7wAAAABJRU5ErkJggg==\"></div></div></div>"
      ],
      "text/plain": [
       "          -1 + x\n",
       "1 + 2 Log[------]\n",
       "            x\n",
       "            -1 - x\n",
       "1 + 2 Log[-(------)]\n",
       "              x\n",
       "Функция четная\n",
       "Функция нечетная"
      ]
     },
     "execution_count": 184,
     "metadata": {
      "text/html": [],
      "text/plain": []
     },
     "output_type": "execute_result"
    }
   ],
   "source": [
    "(* g = f[-x] == f[x]\n",
    "(* FullSimplify[g]\n",
    "TrigToExp[FullSimplify[g]] *)\n",
    "If *)\n",
    "f[x]\n",
    "f[x] /. x->-x\n",
    "res1 := f[x] == f[-x]\n",
    "res2 := f[x] + -f[-x] == 0\n",
    "If[res1 == True,\"Функция четная\", Null]\n",
    "If[res2 == True,\"Функция нечетная\", Null]\n",
    "If[Not[res1||res2], \"Функция прочая\", Null]"
   ]
  },
  {
   "cell_type": "code",
   "execution_count": 125,
   "metadata": {},
   "outputs": [
    {
     "data": {
      "text/html": [
       "<style>\n",
       "\t\t\t\t\t\t\t\t\t\t\t\t\t.grid-container {\n",
       "\t\t\t\t\t\t\t\t\t\t\t\t\t\tdisplay: inline-grid;\n",
       "\t\t\t\t\t\t\t\t\t\t\t\t\t\tgrid-template-columns: auto;\n",
       "\t\t\t\t\t\t\t\t\t\t\t\t\t}\n",
       "\t\t\t\t\t\t\t\t\t\t\t\t</style>\n",
       "\n",
       "\t\t\t\t\t\t\t\t\t\t\t\t<div><div class=\"grid-container\"><div class=\"grid-item\"><img alt=\"Output\" src=\"data:image/png;base64,iVBORw0KGgoAAAANSUhEUgAAAG4AAAAgCAIAAAB8a9qwAAAAzHpUWHRSYXcgcHJvZmlsZSB0eXBlIGV4aWYAAHjabU9REkIhCPz3FB0BARc9jq9spht0/OBpzVitI4sri5LG83FPlwBnSlqsogHk0KaNuyeVJiZnamc8gbHu8q4nfuvdpfJryMeuGyZz/WpEq5PEC56LLsNqJDz13Of5WPXca90bCW3Q+vn6/7MYoyCbelQmMzTPq48WhMJUDHdcAS/MuDHp1XnAzG2wqJAexgAP26tHgrhwixEkdpburGdsbiWpnhdfXUSUD1fkvI1xXltEWsTRh4CHAAAACXBIWXMAAAsTAAALEwEAmpwYAAAAPHRFWHRTb2Z0d2FyZQBDcmVhdGVkIHdpdGggdGhlIFdvbGZyYW0gTGFuZ3VhZ2UgOiB3d3cud29sZnJhbS5jb21coqaFAAAAIXRFWHRDcmVhdGlvbiBUaW1lADIwMjE6MDQ6MDkgMDg6NTU6MzQXSly3AAAC+ElEQVRoge2ZPXarMBCFr3zeArII4SLHK4AViDSp0rqDUjTpXKTIAqDEnVtXaYJWgFeQQ4G0F70CnICRbfkPGydfhcfSSAwjcQdB3y0ydgEgyHoab4T7RIRkikUdzX6411CyVOec7mulhFAmuwgJIaH4+eElxnYt7jWUdsiyNNpZqrNg7ocCEKH/FUuLx4J/557dZVAi+SyB8RNn7XtSqpkulO6/442OUiljR5bK2HMIQZDpjTjWk9mczUBCKTHmnHXMSkkpmwbbWNYdy6LAeLy9o+u6q66VMs4ZRJIAzSkNJJRboJTZ56GpY1k6jBk9iNBZvsj86dNzvMRqgd/rXilCQghxohXmPmm8Q6x7+1/xglNQvogROTavHfQkuk4ky/pSh9ZkcSxbhnvNyivwF8qzMQIAlXikwmpPMFL56G5JKvGOdzooRoBKpsVMa621jBFNj7pvETrLSdBjlXaDjADK87TSR3Q8waqQxobbaiygrggWr4/2w/6sg0YiV29dcvICuRItXanKLwSzrhIGAFmWDjP+VZVWKUViOaZKPGf5InVOq+tKt1VuNKeACMn742KflHt7e7Mc8HSiKHp4eNjdphFKETrRJNOmmmJHjSVCH1VpZZtE6nO5CmZ55YXyWRB9SOBwpd1nKG2o3+Aq8YiPTKdbijMpy6IopZRStiKmkvd5LYK/9fCRK5M9B6vIIYSQtTweGrr+RrrvC2lHkXaQsWvwImPX3egpYxdr2/e1oV1z9EFIdJVMoxXWqXVwjWXBOtnWzinPs0ltc5YvVYFL+WzSaHf+WVyeKz3TDlnQXBlZgFaODiMrbxHxMcdkPLDd8mY+srHX2HV8Mq9+ubHMzaLsdrmZUILyXPNrT+IUbnOBX4CjTr4O4nay8sKwVGcgfvisU1iffB3Erwkldp58nYOhhLL8SMrScOJ4MOaTr4OoThyLAq8tM9Fan+h5MIiQvD9WJ1/rwuCsXEff9k8WoFWtYkeZehy/KSsvzK8RQ5fnL5Rn4z9y2WbXtbJonQAAAABJRU5ErkJggg==\"></div><div class=\"grid-item\"><img alt=\"Output\" src=\"data:image/png;base64,iVBORw0KGgoAAAANSUhEUgAAAG4AAAAgCAIAAAB8a9qwAAAAzHpUWHRSYXcgcHJvZmlsZSB0eXBlIGV4aWYAAHjabU9REkIhCPz3FB0BARc9jq9spht0/OBpzVitI4sri5LG83FPlwBnSlqsogHk0KaNuyeVJiZnamc8gbHu8q4nfuvdpfJryMeuGyZz/WpEq5PEC56LLsNqJDz13Of5WPXca90bCW3Q+vn6/7MYoyCbelQmMzTPq48WhMJUDHdcAS/MuDHp1XnAzG2wqJAexgAP26tHgrhwixEkdpburGdsbiWpnhdfXUSUD1fkvI1xXltEWsTRh4CHAAAACXBIWXMAAAsTAAALEwEAmpwYAAAAPHRFWHRTb2Z0d2FyZQBDcmVhdGVkIHdpdGggdGhlIFdvbGZyYW0gTGFuZ3VhZ2UgOiB3d3cud29sZnJhbS5jb21coqaFAAAAIXRFWHRDcmVhdGlvbiBUaW1lADIwMjE6MDQ6MDkgMDg6NTU6MzQXSly3AAAC+ElEQVRoge2ZPXarMBCFr3zeArII4SLHK4AViDSp0rqDUjTpXKTIAqDEnVtXaYJWgFeQQ4G0F70CnICRbfkPGydfhcfSSAwjcQdB3y0ydgEgyHoab4T7RIRkikUdzX6411CyVOec7mulhFAmuwgJIaH4+eElxnYt7jWUdsiyNNpZqrNg7ocCEKH/FUuLx4J/557dZVAi+SyB8RNn7XtSqpkulO6/442OUiljR5bK2HMIQZDpjTjWk9mczUBCKTHmnHXMSkkpmwbbWNYdy6LAeLy9o+u6q66VMs4ZRJIAzSkNJJRboJTZ56GpY1k6jBk9iNBZvsj86dNzvMRqgd/rXilCQghxohXmPmm8Q6x7+1/xglNQvogROTavHfQkuk4ky/pSh9ZkcSxbhnvNyivwF8qzMQIAlXikwmpPMFL56G5JKvGOdzooRoBKpsVMa621jBFNj7pvETrLSdBjlXaDjADK87TSR3Q8waqQxobbaiygrggWr4/2w/6sg0YiV29dcvICuRItXanKLwSzrhIGAFmWDjP+VZVWKUViOaZKPGf5InVOq+tKt1VuNKeACMn742KflHt7e7Mc8HSiKHp4eNjdphFKETrRJNOmmmJHjSVCH1VpZZtE6nO5CmZ55YXyWRB9SOBwpd1nKG2o3+Aq8YiPTKdbijMpy6IopZRStiKmkvd5LYK/9fCRK5M9B6vIIYSQtTweGrr+RrrvC2lHkXaQsWvwImPX3egpYxdr2/e1oV1z9EFIdJVMoxXWqXVwjWXBOtnWzinPs0ltc5YvVYFL+WzSaHf+WVyeKz3TDlnQXBlZgFaODiMrbxHxMcdkPLDd8mY+srHX2HV8Mq9+ubHMzaLsdrmZUILyXPNrT+IUbnOBX4CjTr4O4nay8sKwVGcgfvisU1iffB3Erwkldp58nYOhhLL8SMrScOJ4MOaTr4OoThyLAq8tM9Fan+h5MIiQvD9WJ1/rwuCsXEff9k8WoFWtYkeZehy/KSsvzK8RQ5fnL5Rn4z9y2WbXtbJonQAAAABJRU5ErkJggg==\"></div></div></div>"
      ],
      "text/plain": [
       "          -1 + x\n",
       "2 + 4 Log[------]\n",
       "            x\n",
       "          -1 + x\n",
       "2 + 4 Log[------]\n",
       "            x"
      ]
     },
     "execution_count": 125,
     "metadata": {
      "text/html": [],
      "text/plain": []
     },
     "output_type": "execute_result"
    }
   ],
   "source": [
    "g = f[-x] + f[x]\n",
    "FullSimplify[g]"
   ]
  },
  {
   "cell_type": "markdown",
   "metadata": {},
   "source": [
    "Функция не чётна и не нечётна"
   ]
  },
  {
   "cell_type": "code",
   "execution_count": 77,
   "metadata": {},
   "outputs": [
    {
     "data": {
      "text/html": [
       "<div><img alt=\"Output\" src=\"data:image/png;base64,iVBORw0KGgoAAAANSUhEUgAAAL0AAAAcCAIAAAC79SksAAAAzXpUWHRSYXcgcHJvZmlsZSB0eXBlIGV4aWYAAHjabU/bDQMhDPtnio4QkuDAONwdJ3WDjt/wUCuqWiI2zoMQ2ut5h0cHRwqaLKMA5NCihauLTBOTI5URB45r5eLuh3guv7qVvgm05R+7b5jM+WcQ8RTSX3AtuhrWIOHpx7o2WvVcc94HCW3Q/Fn9/12MkRBNPSqTGYrrHFw6ITElw40T8MKIi0lP5wYzb4P1Cqm9sYOb7dUtQNy4+heknyjVWUcs3kqSXaflKB8eZej+nTffNlsdFI0pfAAAAAlwSFlzAAALEwAACxMBAJqcGAAAADx0RVh0U29mdHdhcmUAQ3JlYXRlZCB3aXRoIHRoZSBXb2xmcmFtIExhbmd1YWdlIDogd3d3LndvbGZyYW0uY29tXKKmhQAAACF0RVh0Q3JlYXRpb24gVGltZQAyMDIxOjA0OjA5IDA4OjU0OjA0hNtoEQAAA+JJREFUaIHtm69P80AYx58SBHICgSBhom0ImcCRDIlYupk3IcHierKYecTrMK3sHJaEBMR6QSAm4C8ghPROVCCQFYgKkr5io+vWu/5mhZf7uD25u+fp83zvdtuTSmEYgkBQkPUGfQdBcHd353me7/sNhvFrabVaW1tbvV6v1WoVnSs1dd4EQXB5eXlwcNBut0vELaiO7/tvb2+TyeT4+Hhzc7PQ3MZ0c3t7u7Ozs7+/34h3QYTneZPJ5PT0tNCstfgHbCHLwpQuD+LZq/Dy8rK7u1vnioJStNttz/MAACjGFkJWosxMexjhmCYJGfDs1Tg/P69/UUEpFmqRTwbx80ZVZaYieXbB72Ute4hAkEDoRlCGn68bah1KEsIsqyRJknSYvOgJKlNYN/OCSHUXpsZa44szmF3jHoyV3c5mD5AQcTwwi/1oPHtd1L2PCutGNh6m12sddKfOwmCknHWmK5KTKyUt+cmAbG3BRt0n6Kz4No+RdAqXxOyu1Gs+yuaWz9d/T1Fs5QkT34y65lADAKDjq0cY3eSYhdFsE0WZmO4r5ewRRn0pa/PHV/kchxFrS2ILWTh9n2r2VxxtOWKLQ7HFiLNUbtOZ64a6LjsUjj0vsjYAlCmd6ITASFKuTkwdntzs81SzwzBc2OLT45CY3c/TcOkk4qzi6KM+wgAY9Z9Mkqy/ZtgDGGeLp3ZyxDaFYgshiyiGoS0PKJZbBYBk29cir2N1kEwxz54KXQKUoepmSwcAMJL64IQPhlrMY2U0m5hPfUnqg8MrjKwZhm0oxEIrVk9mbBRbCBHFsO2kZubkza1sqC5iPOCifaobSlwAJemTZ0+FkiTuMzynnh+y2oFR/+8eCW2tmfsJQLebfTeRFXUPnl2y6t9oKbFR4j7Dn5QqFc2tAnvumNFVWrAX/H95bo7uxdkQU0+skegzODp0Z6McHfIvHv9SSjGlM3NOzG4URNIPcUxdd9J7LlmeSzRz8sQWEsfUdZMXXEZuF2pBTJMZ/6I93p9y2M/LtufWDWGnhNGfml9U+PnhTJgSBVRMN44+90jMLss9SavKfBVmMIujCuomR2zxMB1d51U9Jbcl+lOldVOVX9rXXG3zOCcV+5oCQV6EblaLMhgwr6Q8+3dF6Ga1yDLnVz7H/l1pTDfr6+sfHx9NeRdUpDHdbG9vv76+NuVdEOH7fon3AuK6cTn/zPHslTg6Orq/v39/f69/aUFugiAYj8e9Xq/oxPj7DNRCF+pwqC1/1fLsVfE87/r6WkinQTY2NgaDQafTAQAASvH4wlVtY6mxxLAn3oOhFJj64NkF/w8Fat/Y+1OCH80/9/MK4IFtJlkAAAAASUVORK5CYII=\"></div>"
      ],
      "text/plain": [
       "{{T -> ConditionalExpression[0, x > 1 || x < 0]}}"
      ]
     },
     "execution_count": 78,
     "metadata": {
      "text/html": [],
      "text/plain": []
     },
     "output_type": "execute_result"
    }
   ],
   "source": [
    "g := f[x] - f[x + T]\n",
    "Solve[g == 0, T, Reals]"
   ]
  },
  {
   "cell_type": "markdown",
   "metadata": {},
   "source": [
    "По определению период функции не может быть равен нулю, следовательно данная функция не переодична"
   ]
  },
  {
   "cell_type": "markdown",
   "metadata": {},
   "source": [
    "<h2>Точки пересечения графика с осями координат</h2>"
   ]
  },
  {
   "cell_type": "markdown",
   "metadata": {},
   "source": [
    "Так как по области определения x не может равняться нулю, то сразу можно сделать вывод, что пересечения функции с\n",
    "осью ординат нет, поэтому найдем точки пересечения с осью абцисс"
   ]
  },
  {
   "cell_type": "code",
   "execution_count": 79,
   "metadata": {},
   "outputs": [
    {
     "data": {
      "text/html": [
       "<div><img alt=\"Output\" src=\"data:image/png;base64,iVBORw0KGgoAAAANSUhEUgAAAGYAAAAsCAIAAAAYflo/AAAAzHpUWHRSYXcgcHJvZmlsZSB0eXBlIGV4aWYAAHjabU9BDgMhCLz7ij4BAQGf4+66SX/Q5xfUNLXpJMIwmUFN/fW80yOAGRIXNaki4ODKFZsTg4nZM9RRB6ZzzJue8Fx6c6l8BfrSj13XtQjtZxHgJBQ3OCdegbWIcOq5zflYfmxm+yKCDWyfp/+fSVGKZGWvjKAq1bklp96kIBSVW04RN2a5EPj03kXVY6LhoBbBAHbd3T0JuXDFFyhOpuadR60eBTLnZSkFD680eHznDVvxWsV+kdSVAAAACXBIWXMAAAsTAAALEwEAmpwYAAAAPHRFWHRTb2Z0d2FyZQBDcmVhdGVkIHdpdGggdGhlIFdvbGZyYW0gTGFuZ3VhZ2UgOiB3d3cud29sZnJhbS5jb21coqaFAAAAIXRFWHRDcmVhdGlvbiBUaW1lADIwMjE6MDQ6MDkgMDg6NTQ6MDXz3FiHAAADR0lEQVRoge2Zv07rMBTGj6/u0A02GBmSDJ0YUbqwpl3yBmw1W7IgUekODHdjsTfCAn2DuzReuxSxsaAKxX6IbHQzA0VNG+c2gThJo/6m9Ktlx1/85xwb5E7CiQ0AMAxraPsX7B4MowsYL12rnl20zAnkzDNqa34XLauZvWWFWbOMUUwpE2KzUJbeEgRjFGOa6l6WvtoJQkK4aofI0muGE7vUHTN395OjzLLUa2qWXhcMI4SQ6T/BfR8hhDCrtPnflbZWDk4gZVBf8/vlvzB7ywqzt6wwe8sKU9wyhhObFMMI9dKRSxLBaLU7mm5WO6aIInCcdIlN3QlkCKiPXRkA7r8SviXfM5wBx5QFnqJuuLm5+eaL/wzf9w8PD9ckE4ADpLuS1pdxYUhIqIjkMvX/Hb7wNCEZkjoOagoRkqGqr5v658QUPAIw0w5n6QAAtp1x+CIUlkVzmEdNT7hM6EYTRVq4qSe8zJ0vhUOwCZec2GDnSaY4GTYy51qDE/U8SOmr5d+xLK7yflNnGPVfydgzwPDGBHxz+/I/GQQ1nm/lhAOYufTiCZMTSPn1bHgz6W0pbzjetiKlIxi9/TvvjrV8qTbGZYLeRgDwqqn6NlpmeIE36Gqrvo2WaaYJlgnaq+HY69vUbpmGGzZBce/Cf3ryL3o6PkPSsigj2MzSS0HDDZvhBbOZlFLOZoEqS/shiSDDGQDG7OrKMdZ7kKU3ify5qiK7BCHY5DayUv6qdSRXUdayGCitydLLQdCeOf8jVYNCrKUwho6XKNbnVCib9Uo1DTEhOF9LPnR4VqzPTb8uMYzGrQepiVk1DKP+feL3MFROz8K8vb1RSo+OjpKi67qnp6c/rLl2y3Tx+Pjoum5qpS+B2uMyXcRxrMMvaLFlmvyClln2/Pz8+RDHcafT0dRK03fM/IxGoziOT05Ojo+Pp9Pp2dkZfB6c/YOuC5bpOWXtvLrPh6vk/f39+vpaSvnw8CCllDwMCSHL+xrlTch3aNXE7HQ6BwcHi8VisVgAAHCIvv4yB6UNslZZBgCu697d3S1/OKYF8/mEA3DOWWlnCyWN1gZxeXn58vKSEHi5t1stDGWn0+n5+bm++ltomW7atpZVwN6ywnwA9+IN5BmfKx8AAAAASUVORK5CYII=\"></div>"
      ],
      "text/plain": [
       "            1\n",
       "{{x -> -----------}}\n",
       "              1\n",
       "       1 - -------\n",
       "           Sqrt[E]"
      ]
     },
     "execution_count": 79,
     "metadata": {
      "text/html": [],
      "text/plain": []
     },
     "output_type": "execute_result"
    }
   ],
   "source": [
    "l = Solve[f[x] == 0, x]"
   ]
  },
  {
   "cell_type": "markdown",
   "metadata": {},
   "source": [
    "<h2>Промежутки знакопостоянства</h2>"
   ]
  },
  {
   "cell_type": "code",
   "execution_count": 80,
   "metadata": {},
   "outputs": [
    {
     "data": {
      "text/html": [
       "<div><img alt=\"Output\" src=\"data:image/png;base64,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\"></div>"
      ],
      "text/plain": [
       "-Graphics-"
      ]
     },
     "execution_count": 82,
     "metadata": {
      "text/html": [],
      "text/plain": []
     },
     "output_type": "execute_result"
    }
   ],
   "source": [
    "x0 := l[[1,1,2]]\n",
    "margin := 0.2\n",
    "\n",
    "Show[ Graphics[Arrow[{{-1, 0}, {3.4, 0}}]], \n",
    "      Graphics[Point[{0, 0}]],\n",
    "      Graphics[Point[{1, 0}]],\n",
    "      Graphics[Point[{x0, 0}]],\n",
    "      \n",
    "      Graphics[Text[\"+\", {-0.5, 0.2}]],\n",
    "      Graphics[Text[\"не определено\", {0.5, margin}]],\n",
    "      Graphics[Text[\"-\", {(1 + x0) / 2, margin}]],\n",
    "      Graphics[Text[\"+\", {x0 + 0.4, margin}]],\n",
    "      \n",
    "      Graphics[Text[\"0\", {0, -margin}]],\n",
    "      Graphics[Text[\"1\", {1, -margin}]],\n",
    "      Graphics[Text[N[x0], {x0, -margin}]]\n",
    "    ]"
   ]
  },
  {
   "cell_type": "markdown",
   "metadata": {},
   "source": [
    "<h2>Промежутки возрастания и убывания</h2>"
   ]
  },
  {
   "cell_type": "code",
   "execution_count": 83,
   "metadata": {},
   "outputs": [
    {
     "data": {
      "text/html": [
       "<div><img alt=\"Output\" src=\"data:image/png;base64,iVBORw0KGgoAAAANSUhEUgAAAF0AAAAjCAIAAAB5O5ElAAAAznpUWHRSYXcgcHJvZmlsZSB0eXBlIGV4aWYAAHjabU9bDgMhCPz3FD0CAg56HLfrJr1Bj198tI1NJ5EZR0AI7fm4wq2DIwVNllEAcmjRwtVFponJkcqIA+lcb3H3A8vyq1vp+4C2/GP3DZM5/zQinkL6D65FV8FqJDz9WOf9WPlcc94brYne0PwZ/f9djJEQTT0qkxmK6xxcOiExJcOFO+CJESeT3p0bzLwM1jOk9sIObrZntwBx4+wrSD9RqrOOWLyUJLtOy0l8eJSh+zovXDVawr1YTBUAAAAJcEhZcwAACxMAAAsTAQCanBgAAAA8dEVYdFNvZnR3YXJlAENyZWF0ZWQgd2l0aCB0aGUgV29sZnJhbSBMYW5ndWFnZSA6IHd3dy53b2xmcmFtLmNvbVyipoUAAAAhdEVYdENyZWF0aW9uIFRpbWUAMjAyMTowNDowOSAwODo1NDowNfPcWIcAAAJhSURBVGiB7ZkxdqMwEIZ/79sD+BDgIs8nwCfQ0rja1p0oQ5MuhXs3ULrcNtU2RieIT+DnAs1dlELGNmZwzEZA2MdXgZ6GgZ8RMyNgWkUnASxBott15ZYfaBFKV8dXY4wxOkG8SqlNZ26ZGGO68KOiyS9kZiu6cOaAVuPlAuUHyOVQREFH8TK0YEEH8ULpYnCioG1dKF348XxwogBAi7nukqRPyKxFb27pKh8NjY7y0eAYdeEZdbEp07I4l+SjLiry47lNCPr3mx8pO9zvZ79/MnluaW3+tEnzp1VnvV739b6+SBzH0+m0Ok6ktLaHvvBRnPi+8LzrafkB86Vna/JDksj9W04Q3uB1qcPz/PMhPPjnYW7yqVF5FyqKT0O9BvE3IJNAaSWV1tH/B6XR5ggAeFq+hPmmOHnZPpdCRiwlDk+hBwBqE+9lZnuWXl/W94DbVBz7AJ6xfuFhdVHpo1uxp1KxKIbcoFKnl/snGF0ozRGy6ewGFU1W+FPZTfgyYpb3rkxVF9odZ8+PyAKxNe+fzySl2OBT0VWgqei6OREh/tYIc8fKLdWPc9Js9+iS83mypPbPUSZt2X1Viz9wF/VWDqnULxrn2rCA6PqVeHzJyFEYaiLWUGx1svAnE8jMlAPPm2FHEKyneiuHfF7XEemi0bA8KszJMD8eMZvVGwZBsH/oeg6sGnAbQB2voyDRRidBw3VUY+WQar175zluZ8qyxLw6ddfLZLkvKT1k7U3ctXII0wdkTSPGOY1j1j1M/SJC5L2WD2qHsO8fTnx/REQN0o5jenVeMPaNPGPfyDPqwvMBEtkDZBHOG14AAAAASUVORK5CYII=\"></div>"
      ],
      "text/plain": [
       "    2\n",
       "---------- == 0\n",
       "(-1 + x) x"
      ]
     },
     "execution_count": 84,
     "metadata": {
      "text/html": [],
      "text/plain": []
     },
     "output_type": "execute_result"
    }
   ],
   "source": [
    "g := FullSimplify[D[f[x], x]] \n",
    "g == 0"
   ]
  },
  {
   "cell_type": "markdown",
   "metadata": {},
   "source": [
    "Корней у данного уравнения нет"
   ]
  },
  {
   "cell_type": "code",
   "execution_count": 85,
   "metadata": {},
   "outputs": [
    {
     "data": {
      "text/html": [
       "<div><img alt=\"Output\" src=\"data:image/png;base64,iVBORw0KGgoAAAANSUhEUgAAABwAAAAPCAIAAAB4LTj2AAAAzXpUWHRSYXcgcHJvZmlsZSB0eXBlIGV4aWYAAHjabU/trQMhDPvPFB0hJMGBcbgrJ3WDjt/kQK14epaIHecDSOP9utIjwJmSFqtoADm0aePuotLE5EztjjM5Vy3vfqJr+d2t8itgLP/YfcNkrn8X8RQSN7gWXQNrkfD0c5/5sfq517ovEtqg9fv0/3MxRkE29ahMZmiua3LphMJUDBdOwBsznkx6Og+Y+RgsOqTHYICH7d0jQdx4xhckTpburHdsPkpSXZflFD48yq3jOx+YMlruY38azAAAAAlwSFlzAAALEwAACxMBAJqcGAAAADx0RVh0U29mdHdhcmUAQ3JlYXRlZCB3aXRoIHRoZSBXb2xmcmFtIExhbmd1YWdlIDogd3d3LndvbGZyYW0uY29tXKKmhQAAACF0RVh0Q3JlYXRpb24gVGltZQAyMDIxOjA0OjA5IDA4OjU0OjA189xYhwAAAMZJREFUOI3lkyESgzAQRf92epRyieYEiaqqrQsSTB03qEkkcbWoKnKCcgIGAblLKgidiYApU0ynX2V+dt7m72zIe4+ttduc+FtQpxnFYtp9S/VBtYSs/TaajW9TSvU7RWonz47XTrPoHNUtzdRUuIcU5mHnuyddMcWFYNotQmWRHQAAvPQlnylyfQsjwkOFAQDsF6Afaeiaoxqeof2otSvV9g6A05e8GQ1+kk1+i4ezCsqvCnlCREl1VnIyy0G1ItpH+u+//wKue5yQHeLyXgAAAABJRU5ErkJggg==\"></div>"
      ],
      "text/plain": [
       "True"
      ]
     },
     "execution_count": 85,
     "metadata": {
      "text/html": [],
      "text/plain": []
     },
     "output_type": "execute_result"
    }
   ],
   "source": [
    "Reduce[g > 0, x] == domain"
   ]
  },
  {
   "cell_type": "markdown",
   "metadata": {},
   "source": [
    "В области определения производная функции всегда больше нуля, а следовательно функция возрастает на всей своей области определения"
   ]
  },
  {
   "cell_type": "markdown",
   "metadata": {},
   "source": [
    "<h2>Точки экстремума и значения в этих точках</h2>"
   ]
  },
  {
   "cell_type": "markdown",
   "metadata": {},
   "source": [
    "Так как функция постоянно возрастает на своей области определения, то точек экстремума у функции нет"
   ]
  },
  {
   "cell_type": "markdown",
   "metadata": {},
   "source": [
    "<h2>Непрерывность. Наличие точек разрыва и их классификация</h2>"
   ]
  },
  {
   "cell_type": "markdown",
   "metadata": {},
   "source": [
    "По области определения видим, что нам надо проверить точки $x=0, 1$ на разрывы"
   ]
  },
  {
   "cell_type": "code",
   "execution_count": 86,
   "metadata": {},
   "outputs": [
    {
     "data": {
      "text/html": [
       "<div><pre style=\"&#102;&#111;&#110;&#116;&#45;&#102;&#97;&#109;&#105;&#108;&#121;&#58;&#32;&#34;&#67;&#111;&#117;&#114;&#105;&#101;&#114;&#32;&#78;&#101;&#119;&#34;&#44;&#67;&#111;&#117;&#114;&#105;&#101;&#114;&#44;&#109;&#111;&#110;&#111;&#115;&#112;&#97;&#99;&#101;&#59;\">&#120;&#32;&#61;&#32;&#48;&#32;&#45;&#32;&#1090;&#1086;&#1095;&#1082;&#1072;&#32;&#1088;&#1072;&#1079;&#1088;&#1099;&#1074;&#1072;&#32;&#1074;&#1090;&#1086;&#1088;&#1086;&#1075;&#1086;&#32;&#1088;&#1086;&#1076;&#1072;</pre></div>"
      ],
      "text/plain": [
       "x = 0 - точка разрыва второго рода"
      ]
     },
     "execution_count": 86,
     "metadata": {
      "text/html": [],
      "text/plain": []
     },
     "output_type": "execute_result"
    }
   ],
   "source": [
    "If[Limit[f[x], x->0, Direction -> \"FromAbove\"] == Limit[f[x], x->0, Direction -> \"FromBelow\"] \n",
    "    && Limit[f[x], x->0, Direction -> \"FromAbove\"] == Infinity, \n",
    "\"x = 0 - точка разрыва второго рода\"]"
   ]
  },
  {
   "cell_type": "code",
   "execution_count": 87,
   "metadata": {},
   "outputs": [
    {
     "data": {
      "text/html": [
       "<div><pre style=\"&#102;&#111;&#110;&#116;&#45;&#102;&#97;&#109;&#105;&#108;&#121;&#58;&#32;&#34;&#67;&#111;&#117;&#114;&#105;&#101;&#114;&#32;&#78;&#101;&#119;&#34;&#44;&#67;&#111;&#117;&#114;&#105;&#101;&#114;&#44;&#109;&#111;&#110;&#111;&#115;&#112;&#97;&#99;&#101;&#59;\">&#120;&#32;&#61;&#32;&#49;&#32;&#45;&#32;&#1090;&#1086;&#1095;&#1082;&#1072;&#32;&#1088;&#1072;&#1079;&#1088;&#1099;&#1074;&#1072;&#32;&#1074;&#1090;&#1086;&#1088;&#1086;&#1075;&#1086;&#32;&#1088;&#1086;&#1076;&#1072;</pre></div>"
      ],
      "text/plain": [
       "x = 1 - точка разрыва второго рода"
      ]
     },
     "execution_count": 87,
     "metadata": {
      "text/html": [],
      "text/plain": []
     },
     "output_type": "execute_result"
    }
   ],
   "source": [
    "If[Limit[f[x], x->1, Direction -> \"FromAbove\"] == Limit[f[x], x->1, Direction -> \"FromBelow\"] \n",
    "    && Limit[f[x], x->1, Direction -> \"FromAbove\"] == -Infinity,\n",
    "\"x = 1 - точка разрыва второго рода\", Null]"
   ]
  },
  {
   "cell_type": "markdown",
   "metadata": {},
   "source": [
    "Функция не непрерывна, так как терпит разрывы в точках $x=0, 1$. Оба разрыва второго рода"
   ]
  },
  {
   "cell_type": "markdown",
   "metadata": {},
   "source": [
    "<h2>Асимптоты</h2>"
   ]
  },
  {
   "cell_type": "markdown",
   "metadata": {},
   "source": [
    "<h3>Вертикальные асимптоты</h3>"
   ]
  },
  {
   "cell_type": "markdown",
   "metadata": {},
   "source": [
    "Мы уже знаем, что пределы в точках $x=0, 1$ стремятся к бесконечности, поэтому они и будут являться вертикальными асимптотами"
   ]
  },
  {
   "cell_type": "markdown",
   "metadata": {},
   "source": [
    "<h3>Горизонтальные асимптоты</h3>"
   ]
  },
  {
   "cell_type": "code",
   "execution_count": 88,
   "metadata": {},
   "outputs": [
    {
     "name": "stdout",
     "output_type": "stream",
     "text": [
      "y = 1\r\n"
     ]
    }
   ],
   "source": [
    "If[Limit[f[x], x-> +Infinity] == Limit[f[x], x-> -Infinity], Print[\"y = \", Limit[f[x], x-> Infinity]], Null]"
   ]
  },
  {
   "cell_type": "markdown",
   "metadata": {},
   "source": [
    "<h3>Наклонные асимптоты</h3>"
   ]
  },
  {
   "cell_type": "code",
   "execution_count": 89,
   "metadata": {},
   "outputs": [
    {
     "data": {
      "text/html": [
       "<style>\n",
       "\t\t\t\t\t\t\t\t\t\t\t\t\t.grid-container {\n",
       "\t\t\t\t\t\t\t\t\t\t\t\t\t\tdisplay: inline-grid;\n",
       "\t\t\t\t\t\t\t\t\t\t\t\t\t\tgrid-template-columns: auto;\n",
       "\t\t\t\t\t\t\t\t\t\t\t\t\t}\n",
       "\t\t\t\t\t\t\t\t\t\t\t\t</style>\n",
       "\n",
       "\t\t\t\t\t\t\t\t\t\t\t\t<div><div class=\"grid-container\"><div class=\"grid-item\"><pre style=\"&#102;&#111;&#110;&#116;&#45;&#102;&#97;&#109;&#105;&#108;&#121;&#58;&#32;&#34;&#67;&#111;&#117;&#114;&#105;&#101;&#114;&#32;&#78;&#101;&#119;&#34;&#44;&#67;&#111;&#117;&#114;&#105;&#101;&#114;&#44;&#109;&#111;&#110;&#111;&#115;&#112;&#97;&#99;&#101;&#59;\">&#48;</pre></div><div class=\"grid-item\"><pre style=\"&#102;&#111;&#110;&#116;&#45;&#102;&#97;&#109;&#105;&#108;&#121;&#58;&#32;&#34;&#67;&#111;&#117;&#114;&#105;&#101;&#114;&#32;&#78;&#101;&#119;&#34;&#44;&#67;&#111;&#117;&#114;&#105;&#101;&#114;&#44;&#109;&#111;&#110;&#111;&#115;&#112;&#97;&#99;&#101;&#59;\">&#48;</pre></div></div></div>"
      ],
      "text/plain": [
       "0\n",
       "0"
      ]
     },
     "execution_count": 89,
     "metadata": {
      "text/html": [],
      "text/plain": []
     },
     "output_type": "execute_result"
    }
   ],
   "source": [
    "Limit[f[x]/x, x-> +Infinity]\n",
    "Limit[f[x]/x, x-> -Infinity]"
   ]
  },
  {
   "cell_type": "markdown",
   "metadata": {},
   "source": [
    "Наклонных асимптот нет, так как пределы равны нулю"
   ]
  },
  {
   "cell_type": "code",
   "execution_count": 91,
   "metadata": {},
   "outputs": [
    {
     "data": {
      "text/html": [
       "<div><img alt=\"Output\" src=\"data:image/png;base64,iVBORw0KGgoAAAANSUhEUgAAAWgAAAFoCAIAAAD1h/aCAAAAy3pUWHRSYXcgcHJvZmlsZSB0eXBlIGV4aWYAAHjadU/bDQMhDPtnio6QFw6Mw/Wo1A06fsNBpVKploiNiYOS+uv5SLcBYUqWvaACFLBqVVqIQhOTmepVL6AsxbufPg/cgvNXoE/mY/cdk6X8DCKZQscPodVWYA1SmT63eT9Wv7RS9kFKG+yzFv+5qwsy2C2qCbmjhi4pZBCyUHY8cAeikXEK2T24wz1i8NGhbQQHpPve3RM0jHOsoOOwtmC7ao0oaQmdlwM5ouqlxzpvLCxao9yPDUcAAAAJcEhZcwAACxMAAAsTAQCanBgAAAA8dEVYdFNvZnR3YXJlAENyZWF0ZWQgd2l0aCB0aGUgV29sZnJhbSBMYW5ndWFnZSA6IHd3dy53b2xmcmFtLmNvbVyipoUAAAAhdEVYdENyZWF0aW9uIFRpbWUAMjAyMTowNDowOSAwODo1NDowNmrVCT0AABSJSURBVHic7d1PaBtnwsfxX18K9SEQswSqEENcWqj3ZO1hifsHnD3F7qFxCaXVya0LK3zK5rTkEq168ebU5uR4D8nqpOyh1HkvcQ7FErRYppCOT1GhhSl48QQKnUAOUwh4D7IV2dLYGo9GM/PM93Ny3Mh5mjjfPDOa53le2t3dFdDNtotLS5JWVlbiHgoS5+W4B4BEsu3i0hLJgJ//i3sAANKHcAAIjHAACIxwAAiMcAAIjHAACIxwwJdlWWFeXqlUBjUSJA3hQC+uK8l13TBfw7btwQwGyUM40Eu4ZMB4hANAYIQDQGCEA0BghAO9cI8DRyIc6MV1JY2Pj4f5GtPT04MZDJKHcMBXyHBcvHhxMONA8hAOAIERDgCBEQ704jhxjwCJRjjQi+fFPQIkGuEAEBjhgK+Qq9RqtdpgxoHkYZdz+FpaWmp9cLLtzuv1Ou/ImopwwFehUOBvPnriUgW9PHkS9wiQaIQDvfCuCo5EOAAERjgABEY40IttSxodHQ3zNUKukUOSEQ74yufzYV4+Pz8/qJEgaQgHgMAIB3phkRuORDjQC2/H4kiEA0BghANAYIQDvXCpgiMRDvTiOAq9Lr5cLg9mMEgewgEgMMKBLq6rcM+MwniEA10IB45DOAAERjjQxbbF+jQciXAACIxwwFfIDUdLpdKABoLEYbNidHEc5XKSisVi6xMn2+UcBiMc6OJ5GhkRvYA/LlXQZT8cgB/CgS6Oo1dfjXsQSDTCASAwwoEuv//OpQqORjjQZf9dFcuywnyZSqUyoAEhcQgHuuzfHHVdN8yXCXnYPZKMcKDL/owD8EM40IXVsTgO4UAXwoHjEA4AgREOdGFZPY5DOOAr5KnR09PTAxoIEodw4KCO6UbIcIRclY8kIxwAAiMcOIgbHOgD4cBBvBeLPhAOHMRjo+gDO4BlnXWnuLzZ+vDcXPnGLJtxoA+EI+Ocne1zc+Ubs+1JxtOnOn++9aFt22HeWKnVaryxYiouVTLO2ZG+LxWLxWLxjiUduMcRcnlrvV4PPTwkFOHINuvR5n/H3l9ZWVlZKZ/9/zsW76qgL1yqZFt+ob2Tee7s2PaO0/kfq9VqtVptfcyO5+hEOLLNuvP5znutOxzOzvbY2VznjKNQKHCTAj0RjmzLL7z/aO/cpXNz5Rt53o5FXwhH1uUXVlYW9n/guhoZYadiHIubo+hwcLoxGu4R0pBr5JBkhAMdDoYjn8+H+WLz8/OhB4SEIhzowHux6A/hQAfbbj82ChyBcKDD06csjUU/CAc6cKmC/hAOdCAc6A/hQAfCgf4QDuxrnRTbcY+jVquF+XrlcjncgJBchAP7mG6gb4QD+wgH+kY4sK/Z1MRE3INAOhAO7PvxR735ZtyDQDoQDuzjUgV9IxzYRzjQN8IBSZLrynUPhSPk9l+lUinMy5FkhAOSuDOKYAgHJBEOBMPWgZAkbW1pcvLQ5/Y2I2WLc3QhHJAkNZu6dOnQ5+gF/HCpAkmSZSncRoHIFMIByXEkcSoC+kc4IDUamprq/rRlWWG+aqVSCfNyJBnhgLS5qQsXuj/tthban1TIM6uRZIQD3OBAYIQDvpcqgB/CkXmWpfFxNjdHIIQj82o1cSQ9AiIcmVeva3o67kEgZQhH5vnPODg7Fn4IR7Y1GpqY8LvBwWn18EM4sm1trXuJCnAswpFtDx9qZibuQSB9CEeG2bYchyc4cAKEI8Pu3dPHH8c9CKQS4ciwhw+5wYGTIRxZ5ThqNo9+9CvkKrWQR88iyQhHVv373/rkk6N/Sshw1Ov1MC9HkrF1YFZVKvr667gHgbRixpFJq6uamGBbc5wYM45MqlTUx/Pg1Wq1Wq2KXYvRhXBkT7OpZlNzc8f+xEKhEPIwN5iKS5XsWVnR/oEpwMkw48gYx9Hqqh4/7ufnssgNfphxZMzNm7p6VSMj/fxcltXDDzOOLAky3QCOwIwjSxYX9cUXfU43gCMQjsxYW5Pn9fNmCnAsLlWywfO0uKiNjbjHAUMw48iGxUWVSpwOi0EhHBmwuirXPXZJWzeOgIQfwmE621a5rLt3T/BSDp2GH8JhNM9ToaC7dzmoDYNFOMzVqkapxIHSGDjCYa7FRV2+zCbmiALhMNSnn2p6+gQ3RIF+EA7jeJ4++IBqIFKEwyyOo9lZzc9TDUSKcBikVtPsrJaWBvVcechdfEql0kCGgQTikXNT/OMfqtf14AGPh2IImHGkX7Opt96SpPV1qoHhYMaRZq6rL7/U/ftaXuYIWAwTM47U+vLLvYnGxgbVwJAx40ihe/d0/brm5qK+Ninu72nM8Qg4hHCkh+fp3j2Vy5qa0vq6ot8KmF7AD5cqaWDbunZNr72mel3r66pWh1ANsToW/phxJJjranVVlYpsW1ev6vHjIS9yZT8O+CEcyeN5WlvT/ftaW9PMjEolcZwaEoZwJIZta21NDx/u9eLyZS0vsyM5kolwxKo1uajXVavJdTUzo/l5ff113MMCjkE4hs621Whoc1ONhixLMzOantbdu2y3gxQhHNGzbVmWLEtbW2o0NDKiqSlduKCPPuLBLaQU4Rg0z1OjIdvW1tZeL0ZHlc9rclLz81peTtFyEs6OhR/CEUKrEa4ry9KTJ2o2ZVnyPE1NaXxck5O6fFn5fHo3Cua0evghHP2p1SSp0ZDnaXNTnqdabe+iY3RUk5OanNRHH6U6E0D/CIek/bmDJMdRsylprw62rdZTTK0nKaam9MorunpVIyNaX49rsEDsshGO1nxBkmWp9TTk1tbeB63PtOYOknI5vfmmpL06jI8P5+FuIF3SGY72BKGl2ZTj7H3cLkLr1kNL+8nLfF6nT0vS/PzeNQUXF0Bw8YWj/Y9/y6EWaP9ioa09a5BeTBBaJib06qt7H7eL0HovA0AE+g7Hob/nLe1bAJ1+/PHFv/9trduKnQ79Uz8yogsXDvyE1sVCG/cUhs627TDvjNRqtZDbHSOxfMLhunrttQOl6DmlHx/X+fOHP3n5co9HFaamWHaROiHDUa/XCYepfMIxOqrffhvuSACkBhv5AAiMcAAIjHAACKz3PQ7HcR4+fNj9+XfeeeeNN9449EnLsra2tg59MpfLXbp06dAnnz179tVXX3V/2Z6rob766qtnz56deACvv/76u+++O/ABXLp0Kdd167f/Afj9xoYcwLfffvvzzz+feACnTp26cuVK9wCq1Wq1WpX09ttvn2AAPQUaQM9dS69cuXLq1Kl+BjA5Odm9Tu+nn3767rvvBj6Ahw8fOl1vJvY/gJ5/X8IPoOffl0AD8PPS7u5u92c9z+sehKQzZ850j9h13e7NKUdGRrq/vZ4/f769vd39ZXveut/e3n7+/PmJB3Dq1KkzZ84MfAC5XG6k6+2h/gfg9xsbcgC//vprd2L6H8DLL788NjZ26JPFYvHDDz/s/rbrfwDffPPNZ599duIByGfX0rGxsZdfPvwPXs8BjI6Odq/Te/bs2a+//jrwATiO4x164CDIAHr+fQk/gJ5/XwINwE/vcADFYpHjEeCHexwAAiMcAAIjHAACS+fqWAAn07mUvKW9B01b5/rSu3d77ixBOIAU6lxN3rmDhLpWmR7qwsTE4aVk7T1o2jrXl/osViIc8OW6bphtR0Oukcuczha0F6P/8suLBeidgejcWaK1eWXboVWmuZwmJgY+WMIBX5ZlhVneWqlUSqXS4IaTcu1/+dtRaF8RtPaa6WxBe8ep6Wm1Hw5M0hYzhAMYnNa+M637CK2N77Xfhfa//O0otK8IUrjXDOEAgmvNGg7teq/9fWdaW9K1Nr5XKrtwLMIBHKm1zV2joadP947asu29fa0yvOs94QAOajTUbO4dxNdoKJfT+LimpnT6tEolNr5vIRzIvGZz7xjwWk3NpqamNDGxdxAfW176IBzIpEZDa2va3NybU7SOAb96NYp3Lo3E6lj0ZuDq2GZTa2uq17W2pnxely5pamrvEE8ExIwDpms09J//aHVVIyOamdH8vKpVLkBCIhwwVKOhSkWrqxof10cfaX2dm5oDZOzq2GKxGPcQEAfH0e3beu01XbumyUn98IM2NvS3v8VSDYO/CX3DEfL/2eDfsj7F/juQuQE0GioU9Kc/aWtL6+va2Cj+8EOPs8GyJLo/guTOODL3fZ+8AcQrwP/+2pr+8hddu6bLl7Wzo+XlgcwvYv/9T/IAXtrd3Y19fABSZGVlhbdj0VuxWCwUCmFWx5bL5QhXxzabunZNnqdSSZxQO3S8q4K08Tz985+6f19LS5qZiXs0GZXcexxAD42G3npLkjY2qEaMmHEgPVoTjWqVB8Njx4wDaeC6+uADPX2qjQ2qkQQmzzisO8XlzdaH5+bKN2Yz/Y5+mtm2CgX9/e+am4t7KH3JwjeeweFwdraN/WPLEMvStWu6ezc9E41MfOMZHQ5pu1RclXRhcWUhKbu8pkj3SeuBzLd32T2xdjXStMwkE9945obDerT537HFlRt5yXnw+R0rb+ifYITCnI0gKezZCLWarl/XgwcpW/aejW88Q8LhPLjzr++3934w9ue/Lszm8gvt3SRyZ8e2dxzljZ47GqbZTGU1JGXjG8+QcORmF27MHvyUdefznfdaF5rOzvbYWQP/8Ixl21pcVLWavmooK994hoSjh/zC+4/2VuGcmyvfMHG6aCbPU6EwqIVqMcjGNx5rVdBbbFsHfvqppqf1yScx/NLoGw+AIUnu3ZPnUY3kIxzwZbePOz6RWutws/45jsplLS+H+UUxHIQDvkKGo16vB3vB4qKWllJ5QzR7CAeS4d49jYyk5aFymPuuClLE83T9ujY24h4H+sWMAwlw+7bm5jK+sXC6MONA3DxPN2/q8eO4x4EAmHEgbrdv6+OPuSeaLsw44CvkKrXp6enjf5Ln6dYt7m6kDk+OorfOQzMifIT0yy/1yy/64ouovj6iwYwDvobxyPmtW1pfj/xXwaBxjwPxaTSUy6V1MVu2EQ7E59YtXb0a9yBwEoQDMXEcNRo8KppShAMxWV3VzIxGRuIeB06CcMCX67phXn7MGrn793X5cpivjxgRDviyLCvMyyuViu9/c11ZFodFpxfhQBy4Tkk5woE4cJ2ScoQDcVhb46z5VCMcGLpaTVNTXKekGuHA0NVq6mf9GxKMcGDo6nXeT0k7Vseit6jOVfE8nT2rnR0uVVKNGQeGixscRiAcGK5GQxcuxD0IhEU4MFybm5qainsQCItwYLgsS3lDD2LOEsKBIbJtjYxwDIIBCAeGiOmGKQgHfAU+Nfqgcrl8+FOWpcnJMF8TCUE44KtarRaLxc7tzsPa2mLGYQZ2OYevQqFwcbCPeFoWJyGYgRkHhsXz5DjsaW4GwoFhaTY1MRH3IDAYhAPDYttMN4xBODAszDgMQjjgKx/uHZD5+fkDP97a4r1YYxAO+BodHQ3z8sOH3TPjMAjhwLAQDoMQDgyF42h0lG04jEE4MBS8pWIWwoGhIBxmIRwYCsJhFsIBX8ecGn2cA4trnzzRq6+GGw4ShHDAV8hw1Ov1zq/FjMMkhAND4Ths/GUSwoGhYMZhFsKB6HmeXJcZh0kIB6LHdYpxCAei57oKt+wFSUM44OvwKrWApttH0jPjMA7hgK+Q4XixXynhMA7hQPRsW+fPxz0IDBK7nMNX+2CElZWVUF/ol1/UvmyBEQgHfIXtRRs3R43DpQqiRziMQzgQPcJhHMIBX67rhnn5izVyhMM4hAO+LMsK8/JKpbL3EQtVjEM4EDGmGyYiHIgY4TAR4UDEeGzURIQDEfM8TkUwD+FAxJhxmIhwIGLMOExEOODrxfLWEymVShI3R81EOBAx19Xp03EPAgNGOBCxp0+ZcZiHcCBiXKqYiHAgYoTDRIQDESMcJiIciBhvx5qIcMDXgVOjgyuXyxIPgJmJcAAIjHAgYmzGYSI2K4avarVarVY1wF2LYQrCAV+FQiHkU+fc4DAVlyqIEm+pGIpwAAiMcMBXPp8P8/L5+flBjQRJQzjgazTcE5/j4+Pc4zAV4UCUuMdhKMIBIDDCgShxqWIowoEocaliKMIBIDDCAV8DODuWSxVD8cg5fA3gtPrdXb3yyqDGg+RgxgEgMMKBKP3+OzdHjUQ4ECXucRiKcAAIjHAACIx3VbLOulNc3mx9eG6ufGO248JiPNyWf9PT07IszkYwEuHIOGdn+3Av2kKG4+LFiyqXCYeRCEfGOTvSdqm4KunC4spCqA04kB2EI9usR5v/HVtcuZGXnAef37HypAP9IBwZ4jy486/vt/d+MPbnvy7M5vIL7Q3Mc2fHtncc5V9ctBSLxfbHJ9zonPMfDUU4MiQ3u3Bj9uCnrDuf77zXusPh7GyPnT1wq2MApyIQDkMRjmzLL7z/aG9icW6ufIPrFPSHcGRdfmFlZaH3f3JdN8y2o7Ztj5/4xUg2HgCDrwEsq4ehCAeAwAgHgMAIB6LE6lhDEQ5Eic2KDUU4AARGOOBrAEdAwlCEA744dBp+CAciww0OcxEORIa3VMxFOAAERjgABEY4AARGOAAERjjgq1arhXl5mdWx5iIciBLPgBmKcAAIjHAACIxwAAiMPUfhq1qtVqtVDWS7c5iFcMBXoVC4ePFi3KNAEnGpAl9hV8dOTg5qJEgawgFfYffj8DwWuZmKcCAyLKs3F+EAEBjhABAY4QAQGOEAEBjhgK+wZ8c+eTKokSBpCAd8ua4b5uW25w1qJEgawgEgMMKBKJ0/H/cIEAnCASAwwgEgMMIBIDDCAV8hT42e3t0d0ECQOIQDvkKG4+JgRoEkIhwAAiMcAAIjHAACIxwAAmOzYvgqFoutD9jlHIcQDvi6efNmmG1H7d9+G//jHwc4HiQHlyrwFXZZ/R/+wJ6jpiIcAAIjHAACIxwAAiMcAAIjHAACIxzwNYAjIGEowgFfYQ+ddpxBjQRJQzgABEY4AARGOAAERjgABEY4AARGOAAERjjgq1arhXl5Odxex0gywgEgMMIBIDDCASAwwgEgMMIBIDDCAV/VarW90TnQ6aVdTgYGEND/AI3f5Y/CWYyAAAAAAElFTkSuQmCC\"></div>"
      ],
      "text/plain": [
       "-Graphics-"
      ]
     },
     "execution_count": 92,
     "metadata": {
      "text/html": [],
      "text/plain": []
     },
     "output_type": "execute_result"
    }
   ],
   "source": [
    "d := Plot[\n",
    "    {f[x], y = 1}, \n",
    "    {x, -8, 8}, \n",
    "        AspectRatio -> 1, \n",
    "        PlotStyle -> {{Red}, {Gray, Dashing[{.02}]}, {Gray, Dashing[{.02}]}},\n",
    "        Axes->{x, y},\n",
    "        PlotRange-> {-8, 8}\n",
    "]\n",
    "\n",
    "Show[d, \n",
    "     Graphics[{Gray, Dashing[{.02}], Line[{{1, -8}, {1, 8}}]}],\n",
    "     Graphics[{Gray, Dashing[{.02}], Line[{{0, -8}, {0, 8}}]}]\n",
    "]"
   ]
  }
 ],
 "metadata": {
  "kernelspec": {
   "display_name": "Wolfram Language 12.2",
   "language": "Wolfram Language",
   "name": "wolframlanguage12.2"
  },
  "language_info": {
   "codemirror_mode": "mathematica",
   "file_extension": ".m",
   "mimetype": "application/vnd.wolfram.m",
   "name": "Wolfram Language",
   "pygments_lexer": "mathematica",
   "version": "12.0"
  }
 },
 "nbformat": 4,
 "nbformat_minor": 2
}
